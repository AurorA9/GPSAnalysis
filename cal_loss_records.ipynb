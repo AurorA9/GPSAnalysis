{
 "cells": [
  {
   "cell_type": "code",
   "execution_count": 114,
   "metadata": {},
   "outputs": [],
   "source": [
    "import pandas as pd \n",
    "import os\n",
    "import numpy as np\n",
    "import math\n",
    "import pysnooper\n",
    "from collections import Counter\n",
    "import matplotlib.pyplot as plt\n",
    "%matplotlib inline\n",
    "import seaborn as sns\n",
    "import time\n",
    "import logging\n",
    "logging.basicConfig(format='%(asctime)s:%(levelname)s: %(message)s')\n",
    "logging.root.setLevel(level=logging.INFO)"
   ]
  },
  {
   "cell_type": "code",
   "execution_count": 125,
   "metadata": {},
   "outputs": [
    {
     "data": {
      "text/plain": [
       "Index(['driving_history_id', 'car_id', 'user_id', 'start_address_name',\n",
       "       'end_address_name', 'start_time', 'end_time', 'spend_time', 'speed_up',\n",
       "       'speed_down', 'sharp_turn', 'over_speed', 'avrg_speed', 'mileage',\n",
       "       'oil', 'fee', 'oil_price', 'create_at', 'start_gps_poi', 'end_gps_poi',\n",
       "       'datetime', 'weekday'],\n",
       "      dtype='object')"
      ]
     },
     "execution_count": 125,
     "metadata": {},
     "output_type": "execute_result"
    }
   ],
   "source": [
    "filepath = '0f20c52c24764413a7072e1fd034b2b4.xls'\n",
    "# for i in os.listdir(filepath):\n",
    "#     df = pd.read_excel(filepath+i)\n",
    "#     df.head(5)\n",
    "\n",
    "a=2\n",
    "\n",
    "df_ = pd.read_excel(filepath)\n",
    "df_.columns\n",
    "# df_new = pd.DataFrame(columns=['last_end_time','last_end_address','now_start_time','now_start_address'])\n",
    "# df_new.loc[0]=[1,2,3,4]\n",
    "# df_new.loc[1]=[1,2,3,4]\n",
    "# df_new"
   ]
  },
  {
   "cell_type": "code",
   "execution_count": 126,
   "metadata": {},
   "outputs": [
    {
     "data": {
      "text/plain": [
       "[1, 2, 3, 4]"
      ]
     },
     "execution_count": 126,
     "metadata": {},
     "output_type": "execute_result"
    }
   ],
   "source": [
    "a,b,c,d = 1,2,3,4\n",
    "[a,b,c,d]"
   ]
  },
  {
   "cell_type": "code",
   "execution_count": 127,
   "metadata": {},
   "outputs": [],
   "source": [
    "#@pysnooper.snoop()\n",
    "def haversine(lonlat1, lonlat2):\n",
    "    lon1, lat1  = lonlat1\n",
    "    lon2, lat2= lonlat2\n",
    "    lon1, lat1, lon2, lat2 = map(math.radians, [lon1, lat1, lon2, lat2])\n",
    "\n",
    "    dlon = lon2 - lon1\n",
    "    dlat = lat2 - lat1\n",
    "    a = math.sin(dlat / 2) ** 2 + math.cos(lat1) * math.cos(lat2) * math.sin(dlon / 2) ** 2\n",
    "    c = 2 * math.asin(math.sqrt(a))\n",
    "    r = 6371  # Radius of earth in kilometers. Use 3956 for miles\n",
    "    return c * r *1000"
   ]
  },
  {
   "cell_type": "code",
   "execution_count": 128,
   "metadata": {},
   "outputs": [
    {
     "data": {
      "text/plain": [
       "111.19492664457833"
      ]
     },
     "execution_count": 128,
     "metadata": {},
     "output_type": "execute_result"
    }
   ],
   "source": [
    "df.head()\n",
    "df.shape\n",
    "start_gps_pos= df.iloc[0]['start_gps_poi']\n",
    "a,b = map(float,start_gps_pos.split(','))\n",
    "#haversine([1.001,2],[1,2.001])\n",
    "type(b)\n",
    "haversine([1,2.002],[1,2.001])"
   ]
  },
  {
   "cell_type": "code",
   "execution_count": 201,
   "metadata": {},
   "outputs": [
    {
     "name": "stderr",
     "output_type": "stream",
     "text": [
      "2019-04-29 11:55:53,992:INFO: 完成0.00,缺失条数：35,记录总条数：843\n",
      "2019-04-29 11:55:56,242:INFO: 完成0.01,缺失条数：97,记录总条数：2511\n",
      "2019-04-29 11:55:56,721:INFO: 完成0.01,缺失条数：34,记录总条数：474\n",
      "2019-04-29 11:55:59,289:INFO: 完成0.01,缺失条数：107,记录总条数：2799\n",
      "2019-04-29 11:55:59,808:INFO: 完成0.02,缺失条数：66,记录总条数：310\n",
      "2019-04-29 11:56:01,766:INFO: 完成0.02,缺失条数：86,记录总条数：1806\n",
      "2019-04-29 11:56:03,792:INFO: 完成0.02,缺失条数：85,记录总条数：1989\n",
      "2019-04-29 11:56:04,771:INFO: 完成0.03,缺失条数：36,记录总条数：1139\n",
      "2019-04-29 11:56:06,708:INFO: 完成0.03,缺失条数：141,记录总条数：1357\n",
      "2019-04-29 11:56:08,766:INFO: 完成0.04,缺失条数：181,记录总条数：1267\n",
      "2019-04-29 11:56:09,846:INFO: 完成0.04,缺失条数：49,记录总条数：894\n",
      "2019-04-29 11:56:10,189:INFO: 完成0.04,缺失条数：32,记录总条数：169\n",
      "2019-04-29 11:56:10,515:INFO: 完成0.05,缺失条数：19,记录总条数：464\n",
      "2019-04-29 11:56:10,971:INFO: 完成0.05,缺失条数：10,记录总条数：242\n",
      "2019-04-29 11:56:13,168:INFO: 完成0.05,缺失条数：218,记录总条数：712\n",
      "2019-04-29 11:56:13,252:INFO: 完成0.06,缺失条数：6,记录总条数：81\n",
      "2019-04-29 11:56:15,065:INFO: 完成0.06,缺失条数：113,记录总条数：1509\n",
      "2019-04-29 11:56:15,844:INFO: 完成0.06,缺失条数：36,记录总条数：672\n",
      "2019-04-29 11:56:17,323:INFO: 完成0.07,缺失条数：73,记录总条数：1277\n",
      "2019-04-29 11:56:17,489:INFO: 完成0.07,缺失条数：14,记录总条数：177\n",
      "2019-04-29 11:56:18,212:INFO: 完成0.07,缺失条数：29,记录总条数：786\n",
      "2019-04-29 11:56:18,379:INFO: 完成0.08,缺失条数：5,记录总条数：216\n",
      "2019-04-29 11:56:21,081:INFO: 完成0.08,缺失条数：126,记录总条数：2151\n",
      "2019-04-29 11:56:21,129:INFO: 完成0.09,缺失条数：1,记录总条数：27\n",
      "2019-04-29 11:56:22,544:INFO: 完成0.09,缺失条数：75,记录总条数：1184\n",
      "2019-04-29 11:56:24,810:INFO: 完成0.09,缺失条数：71,记录总条数：2567\n",
      "2019-04-29 11:56:24,998:INFO: 完成0.10,缺失条数：4,记录总条数：184\n",
      "2019-04-29 11:56:25,256:INFO: 完成0.10,缺失条数：26,记录总条数：227\n",
      "2019-04-29 11:56:26,074:INFO: 完成0.10,缺失条数：41,记录总条数：734\n",
      "2019-04-29 11:56:26,468:INFO: 完成0.11,缺失条数：18,记录总条数：377\n",
      "2019-04-29 11:56:27,838:INFO: 完成0.11,缺失条数：106,记录总条数：866\n",
      "2019-04-29 11:56:28,481:INFO: 完成0.11,缺失条数：37,记录总条数：742\n",
      "2019-04-29 11:56:30,095:INFO: 完成0.12,缺失条数：57,记录总条数：1455\n",
      "2019-04-29 11:56:30,500:INFO: 完成0.12,缺失条数：25,记录总条数：472\n",
      "2019-04-29 11:56:31,449:INFO: 完成0.12,缺失条数：23,记录总条数：904\n",
      "2019-04-29 11:56:32,863:INFO: 完成0.13,缺失条数：51,记录总条数：1734\n",
      "2019-04-29 11:56:33,778:INFO: 完成0.13,缺失条数：29,记录总条数：737\n",
      "2019-04-29 11:56:37,406:INFO: 完成0.14,缺失条数：171,记录总条数：3258\n",
      "2019-04-29 11:56:40,282:INFO: 完成0.14,缺失条数：121,记录总条数：2965\n",
      "2019-04-29 11:56:41,091:INFO: 完成0.14,缺失条数：32,记录总条数：981\n",
      "2019-04-29 11:56:44,202:INFO: 完成0.15,缺失条数：83,记录总条数：3134\n",
      "2019-04-29 11:56:47,798:INFO: 完成0.15,缺失条数：176,记录总条数：3254\n",
      "2019-04-29 11:56:49,159:INFO: 完成0.15,缺失条数：67,记录总条数：1620\n",
      "2019-04-29 11:56:49,968:INFO: 完成0.16,缺失条数：67,记录总条数：716\n",
      "2019-04-29 11:56:51,887:INFO: 完成0.16,缺失条数：65,记录总条数：2216\n",
      "2019-04-29 11:56:53,005:INFO: 完成0.16,缺失条数：80,记录总条数：966\n",
      "2019-04-29 11:56:56,012:INFO: 完成0.17,缺失条数：168,记录总条数：2589\n",
      "2019-04-29 11:56:56,660:INFO: 完成0.17,缺失条数：41,记录总条数：634\n",
      "2019-04-29 11:56:57,042:INFO: 完成0.17,缺失条数：15,记录总条数：318\n",
      "2019-04-29 11:57:02,896:INFO: 完成0.18,缺失条数：419,记录总条数：3830\n",
      "2019-04-29 11:57:03,548:INFO: 完成0.18,缺失条数：17,记录总条数：395\n",
      "2019-04-29 11:57:06,346:INFO: 完成0.19,缺失条数：142,记录总条数：2541\n",
      "2019-04-29 11:57:07,150:INFO: 完成0.19,缺失条数：42,记录总条数：871\n",
      "2019-04-29 11:57:08,973:INFO: 完成0.19,缺失条数：79,记录总条数：1651\n",
      "2019-04-29 11:57:09,543:INFO: 完成0.20,缺失条数：28,记录总条数：580\n",
      "2019-04-29 11:57:10,344:INFO: 完成0.20,缺失条数：38,记录总条数：919\n",
      "2019-04-29 11:57:12,687:INFO: 完成0.20,缺失条数：96,记录总条数：2385\n",
      "2019-04-29 11:57:14,290:INFO: 完成0.21,缺失条数：93,记录总条数：1474\n",
      "2019-04-29 11:57:15,247:INFO: 完成0.21,缺失条数：114,记录总条数：521\n",
      "2019-04-29 11:57:16,074:INFO: 完成0.21,缺失条数：41,记录总条数：1025\n",
      "2019-04-29 11:57:16,413:INFO: 完成0.22,缺失条数：16,记录总条数：388\n",
      "2019-04-29 11:57:19,471:INFO: 完成0.22,缺失条数：257,记录总条数：1718\n",
      "2019-04-29 11:57:20,509:INFO: 完成0.22,缺失条数：113,记录总条数：387\n",
      "2019-04-29 11:57:20,803:INFO: 完成0.23,缺失条数：14,记录总条数：113\n",
      "2019-04-29 11:57:21,721:INFO: 完成0.23,缺失条数：31,记录总条数：726\n",
      "2019-04-29 11:57:23,025:INFO: 完成0.23,缺失条数：59,记录总条数：986\n",
      "2019-04-29 11:57:23,448:INFO: 完成0.24,缺失条数：20,记录总条数：407\n",
      "2019-04-29 11:57:24,728:INFO: 完成0.24,缺失条数：64,记录总条数：1102\n",
      "2019-04-29 11:57:27,896:INFO: 完成0.25,缺失条数：89,记录总条数：3128\n",
      "2019-04-29 11:57:29,090:INFO: 完成0.25,缺失条数：48,记录总条数：1393\n",
      "2019-04-29 11:57:30,464:INFO: 完成0.25,缺失条数：92,记录总条数：1145\n",
      "2019-04-29 11:57:31,373:INFO: 完成0.26,缺失条数：49,记录总条数：565\n",
      "2019-04-29 11:57:36,960:INFO: 完成0.26,缺失条数：422,记录总条数：2643\n",
      "2019-04-29 11:57:39,008:INFO: 完成0.26,缺失条数：102,记录总条数：2084\n",
      "2019-04-29 11:57:40,957:INFO: 完成0.27,缺失条数：68,记录总条数：1881\n",
      "2019-04-29 11:57:41,239:INFO: 完成0.27,缺失条数：18,记录总条数：296\n",
      "2019-04-29 11:57:46,374:INFO: 完成0.27,缺失条数：217,记录总条数：4405\n",
      "2019-04-29 11:57:50,046:INFO: 完成0.28,缺失条数：129,记录总条数：3154\n",
      "2019-04-29 11:57:50,590:INFO: 完成0.28,缺失条数：28,记录总条数：616\n",
      "2019-04-29 11:57:50,647:INFO: 完成0.28,缺失条数：2,记录总条数：22\n",
      "2019-04-29 11:57:51,808:INFO: 完成0.29,缺失条数：64,记录总条数：1001\n",
      "2019-04-29 11:57:51,857:INFO: 完成0.29,缺失条数：0,记录总条数：32\n",
      "2019-04-29 11:57:52,768:INFO: 完成0.30,缺失条数：72,记录总条数：705\n",
      "2019-04-29 11:57:54,045:INFO: 完成0.30,缺失条数：43,记录总条数：1161\n",
      "2019-04-29 11:57:54,836:INFO: 完成0.30,缺失条数：34,记录总条数：965\n",
      "2019-04-29 11:57:55,265:INFO: 完成0.31,缺失条数：22,记录总条数：447\n",
      "2019-04-29 11:57:56,251:INFO: 完成0.31,缺失条数：53,记录总条数：683\n",
      "2019-04-29 11:57:57,984:INFO: 完成0.31,缺失条数：105,记录总条数：1508\n",
      "2019-04-29 11:57:59,357:INFO: 完成0.32,缺失条数：62,记录总条数：1058\n",
      "2019-04-29 11:57:59,500:INFO: 完成0.32,缺失条数：9,记录总条数：128\n",
      "2019-04-29 11:58:02,542:INFO: 完成0.32,缺失条数：149,记录总条数：2631\n",
      "2019-04-29 11:58:02,844:INFO: 完成0.33,缺失条数：10,记录总条数：522\n",
      "2019-04-29 11:58:09,684:INFO: 完成0.33,缺失条数：194,记录总条数：5884\n",
      "2019-04-29 11:58:10,664:INFO: 完成0.33,缺失条数：38,记录总条数：1127\n",
      "2019-04-29 11:58:16,185:INFO: 完成0.34,缺失条数：539,记录总条数：3077\n",
      "2019-04-29 11:58:22,830:INFO: 完成0.34,缺失条数：624,记录总条数：3394\n",
      "2019-04-29 11:58:24,214:INFO: 完成0.35,缺失条数：90,记录总条数：1296\n",
      "2019-04-29 11:58:26,430:INFO: 完成0.35,缺失条数：116,记录总条数：2260\n",
      "2019-04-29 11:58:30,014:INFO: 完成0.35,缺失条数：309,记录总条数：2272\n",
      "2019-04-29 11:58:30,200:INFO: 完成0.36,缺失条数：15,记录总条数：101\n",
      "2019-04-29 11:58:32,045:INFO: 完成0.36,缺失条数：132,记录总条数：1471\n",
      "2019-04-29 11:58:33,629:INFO: 完成0.36,缺失条数：61,记录总条数：1310\n",
      "2019-04-29 11:58:34,343:INFO: 完成0.37,缺失条数：35,记录总条数：764\n",
      "2019-04-29 11:58:35,878:INFO: 完成0.37,缺失条数：51,记录总条数：1716\n",
      "2019-04-29 11:58:37,997:INFO: 完成0.37,缺失条数：69,记录总条数：1961\n",
      "2019-04-29 11:58:40,847:INFO: 完成0.38,缺失条数：190,记录总条数：2255\n",
      "2019-04-29 11:58:43,709:INFO: 完成0.38,缺失条数：91,记录总条数：3215\n",
      "2019-04-29 11:58:44,297:INFO: 完成0.38,缺失条数：32,记录总条数：541\n",
      "2019-04-29 11:58:44,820:INFO: 完成0.39,缺失条数：35,记录总条数：505\n",
      "2019-04-29 11:58:45,510:INFO: 完成0.39,缺失条数：33,记录总条数：738\n",
      "2019-04-29 11:58:47,551:INFO: 完成0.40,缺失条数：78,记录总条数：2388\n",
      "2019-04-29 11:58:50,967:INFO: 完成0.40,缺失条数：127,记录总条数：3880\n",
      "2019-04-29 11:58:51,771:INFO: 完成0.40,缺失条数：45,记录总条数：787\n",
      "2019-04-29 11:58:52,713:INFO: 完成0.41,缺失条数：35,记录总条数：902\n",
      "2019-04-29 11:58:53,335:INFO: 完成0.41,缺失条数：35,记录总条数：638\n",
      "2019-04-29 11:59:01,529:INFO: 完成0.41,缺失条数：885,记录总条数：2478\n",
      "2019-04-29 11:59:03,449:INFO: 完成0.42,缺失条数：135,记录总条数：1347\n",
      "2019-04-29 11:59:05,434:INFO: 完成0.42,缺失条数：102,记录总条数：1895\n",
      "2019-04-29 11:59:07,900:INFO: 完成0.42,缺失条数：162,记录总条数：1836\n",
      "2019-04-29 11:59:09,959:INFO: 完成0.43,缺失条数：102,记录总条数：2055\n",
      "2019-04-29 11:59:10,986:INFO: 完成0.43,缺失条数：73,记录总条数：876\n",
      "2019-04-29 11:59:12,619:INFO: 完成0.43,缺失条数：57,记录总条数：1374\n",
      "2019-04-29 11:59:14,058:INFO: 完成0.44,缺失条数：36,记录总条数：1371\n",
      "2019-04-29 11:59:14,491:INFO: 完成0.44,缺失条数：28,记录总条数：345\n",
      "2019-04-29 11:59:15,825:INFO: 完成0.44,缺失条数：97,记录总条数：785\n",
      "2019-04-29 11:59:18,431:INFO: 完成0.45,缺失条数：135,记录总条数：2144\n",
      "2019-04-29 11:59:20,872:INFO: 完成0.45,缺失条数：125,记录总条数：2075\n",
      "2019-04-29 11:59:21,732:INFO: 完成0.46,缺失条数：44,记录总条数：906\n",
      "2019-04-29 11:59:22,615:INFO: 完成0.46,缺失条数：44,记录总条数：760\n",
      "2019-04-29 11:59:24,710:INFO: 完成0.46,缺失条数：86,记录总条数：2023\n",
      "2019-04-29 11:59:27,340:INFO: 完成0.47,缺失条数：82,记录总条数：2576\n",
      "2019-04-29 11:59:27,484:INFO: 完成0.47,缺失条数：6,记录总条数：179\n",
      "2019-04-29 11:59:28,010:INFO: 完成0.47,缺失条数：34,记录总条数：574\n",
      "2019-04-29 11:59:29,107:INFO: 完成0.48,缺失条数：30,记录总条数：1449\n",
      "2019-04-29 11:59:31,232:INFO: 完成0.48,缺失条数：109,记录总条数：1981\n",
      "2019-04-29 11:59:32,718:INFO: 完成0.48,缺失条数：96,记录总条数：1037\n",
      "2019-04-29 11:59:33,598:INFO: 完成0.49,缺失条数：29,记录总条数：913\n",
      "2019-04-29 11:59:34,264:INFO: 完成0.49,缺失条数：54,记录总条数：499\n",
      "2019-04-29 11:59:35,339:INFO: 完成0.49,缺失条数：18,记录总条数：1275\n",
      "2019-04-29 11:59:39,227:INFO: 完成0.50,缺失条数：149,记录总条数：3715\n",
      "2019-04-29 11:59:42,124:INFO: 完成0.50,缺失条数：100,记录总条数：2705\n",
      "2019-04-29 11:59:42,822:INFO: 完成0.51,缺失条数：42,记录总条数：642\n",
      "2019-04-29 11:59:45,173:INFO: 完成0.51,缺失条数：162,记录总条数：1475\n",
      "2019-04-29 11:59:46,461:INFO: 完成0.51,缺失条数：81,记录总条数：1018\n",
      "2019-04-29 11:59:51,730:INFO: 完成0.52,缺失条数：471,记录总条数：2165\n",
      "2019-04-29 11:59:52,844:INFO: 完成0.52,缺失条数：37,记录总条数：1213\n",
      "2019-04-29 11:59:54,464:INFO: 完成0.52,缺失条数：65,记录总条数：1266\n"
     ]
    },
    {
     "name": "stderr",
     "output_type": "stream",
     "text": [
      "2019-04-29 11:59:55,902:INFO: 完成0.53,缺失条数：64,记录总条数：1246\n",
      "2019-04-29 12:00:00,732:INFO: 完成0.53,缺失条数：202,记录总条数：3560\n",
      "2019-04-29 12:00:01,761:INFO: 完成0.53,缺失条数：72,记录总条数：751\n",
      "2019-04-29 12:00:07,623:INFO: 完成0.54,缺失条数：149,记录总条数：5464\n",
      "2019-04-29 12:00:08,957:INFO: 完成0.54,缺失条数：83,记录总条数：969\n",
      "2019-04-29 12:00:09,106:INFO: 完成0.54,缺失条数：7,记录总条数：106\n",
      "2019-04-29 12:00:13,059:INFO: 完成0.55,缺失条数：155,记录总条数：3100\n",
      "2019-04-29 12:00:14,215:INFO: 完成0.55,缺失条数：46,记录总条数：1249\n",
      "2019-04-29 12:00:14,716:INFO: 完成0.56,缺失条数：30,记录总条数：356\n",
      "2019-04-29 12:00:16,906:INFO: 完成0.56,缺失条数：123,记录总条数：1430\n",
      "2019-04-29 12:00:19,211:INFO: 完成0.56,缺失条数：122,记录总条数：1768\n",
      "2019-04-29 12:00:21,346:INFO: 完成0.57,缺失条数：156,记录总条数：858\n",
      "2019-04-29 12:00:25,594:INFO: 完成0.57,缺失条数：137,记录总条数：3361\n",
      "2019-04-29 12:00:29,698:INFO: 完成0.57,缺失条数：214,记录总条数：2978\n",
      "2019-04-29 12:00:38,626:INFO: 完成0.58,缺失条数：797,记录总条数：2741\n",
      "2019-04-29 12:00:39,933:INFO: 完成0.58,缺失条数：53,记录总条数：1210\n",
      "2019-04-29 12:00:40,590:INFO: 完成0.58,缺失条数：45,记录总条数：411\n",
      "2019-04-29 12:00:41,434:INFO: 完成0.59,缺失条数：39,记录总条数：764\n",
      "2019-04-29 12:00:45,933:INFO: 完成0.59,缺失条数：375,记录总条数：1644\n",
      "2019-04-29 12:00:46,641:INFO: 完成0.59,缺失条数：33,记录总条数：535\n",
      "2019-04-29 12:00:48,950:INFO: 完成0.60,缺失条数：94,记录总条数：2115\n",
      "2019-04-29 12:00:51,245:INFO: 完成0.60,缺失条数：65,记录总条数：2243\n",
      "2019-04-29 12:00:52,161:INFO: 完成0.60,缺失条数：66,记录总条数：564\n",
      "2019-04-29 12:00:54,917:INFO: 完成0.61,缺失条数：190,记录总条数：1512\n",
      "2019-04-29 12:00:55,356:INFO: 完成0.61,缺失条数：27,记录总条数：323\n",
      "2019-04-29 12:00:55,998:INFO: 完成0.62,缺失条数：7,记录总条数：796\n",
      "2019-04-29 12:00:57,199:INFO: 完成0.62,缺失条数：84,记录总条数：716\n",
      "2019-04-29 12:00:57,955:INFO: 完成0.62,缺失条数：50,记录总条数：565\n",
      "2019-04-29 12:01:00,839:INFO: 完成0.63,缺失条数：91,记录总条数：2857\n",
      "2019-04-29 12:01:01,730:INFO: 完成0.63,缺失条数：30,记录总条数：701\n",
      "2019-04-29 12:01:04,791:INFO: 完成0.63,缺失条数：101,记录总条数：2748\n",
      "2019-04-29 12:01:05,519:INFO: 完成0.64,缺失条数：31,记录总条数：685\n",
      "2019-04-29 12:01:07,077:INFO: 完成0.64,缺失条数：117,记录总条数：784\n",
      "2019-04-29 12:01:07,133:INFO: 完成0.64,缺失条数：2,记录总条数：49\n",
      "2019-04-29 12:01:08,804:INFO: 完成0.65,缺失条数：95,记录总条数：963\n",
      "2019-04-29 12:01:11,141:INFO: 完成0.65,缺失条数：105,记录总条数：1964\n",
      "2019-04-29 12:01:12,066:INFO: 完成0.65,缺失条数：23,记录总条数：1004\n",
      "2019-04-29 12:01:12,678:INFO: 完成0.66,缺失条数：26,记录总条数：543\n",
      "2019-04-29 12:01:17,059:INFO: 完成0.66,缺失条数：102,记录总条数：4401\n",
      "2019-04-29 12:01:18,584:INFO: 完成0.67,缺失条数：68,记录总条数：1228\n",
      "2019-04-29 12:01:18,739:INFO: 完成0.67,缺失条数：3,记录总条数：181\n",
      "2019-04-29 12:01:22,778:INFO: 完成0.67,缺失条数：187,记录总条数：2749\n",
      "2019-04-29 12:01:23,630:INFO: 完成0.68,缺失条数：33,记录总条数：823\n",
      "2019-04-29 12:01:23,933:INFO: 完成0.68,缺失条数：8,记录总条数：295\n",
      "2019-04-29 12:01:27,200:INFO: 完成0.68,缺失条数：101,记录总条数：3177\n",
      "2019-04-29 12:01:29,979:INFO: 完成0.69,缺失条数：180,记录总条数：1412\n",
      "2019-04-29 12:01:32,713:INFO: 完成0.69,缺失条数：95,记录总条数：2572\n",
      "2019-04-29 12:01:39,106:INFO: 完成0.69,缺失条数：332,记录总条数：4273\n",
      "2019-04-29 12:01:40,111:INFO: 完成0.70,缺失条数：44,记录总条数：757\n",
      "2019-04-29 12:01:40,652:INFO: 完成0.70,缺失条数：35,记录总条数：323\n",
      "2019-04-29 12:01:41,523:INFO: 完成0.70,缺失条数：47,记录总条数：746\n",
      "2019-04-29 12:01:43,003:INFO: 完成0.71,缺失条数：48,记录总条数：1545\n",
      "2019-04-29 12:01:43,973:INFO: 完成0.71,缺失条数：47,记录总条数：561\n",
      "2019-04-29 12:01:45,387:INFO: 完成0.72,缺失条数：63,记录总条数：1052\n",
      "2019-04-29 12:01:46,535:INFO: 完成0.72,缺失条数：58,记录总条数：856\n",
      "2019-04-29 12:01:48,287:INFO: 完成0.72,缺失条数：95,记录总条数：1355\n",
      "2019-04-29 12:01:50,050:INFO: 完成0.73,缺失条数：78,记录总条数：1425\n",
      "2019-04-29 12:01:51,527:INFO: 完成0.73,缺失条数：70,记录总条数：904\n",
      "2019-04-29 12:01:52,505:INFO: 完成0.73,缺失条数：45,记录总条数：815\n",
      "2019-04-29 12:01:53,824:INFO: 完成0.74,缺失条数：78,记录总条数：697\n",
      "2019-04-29 12:01:55,066:INFO: 完成0.74,缺失条数：54,记录总条数：964\n",
      "2019-04-29 12:01:55,698:INFO: 完成0.74,缺失条数：29,记录总条数：553\n",
      "2019-04-29 12:01:57,442:INFO: 完成0.75,缺失条数：94,记录总条数：979\n",
      "2019-04-29 12:01:59,258:INFO: 完成0.75,缺失条数：85,记录总条数：1399\n",
      "2019-04-29 12:02:00,983:INFO: 完成0.75,缺失条数：71,记录总条数：1417\n",
      "2019-04-29 12:02:05,481:INFO: 完成0.76,缺失条数：199,记录总条数：3331\n",
      "2019-04-29 12:02:06,590:INFO: 完成0.76,缺失条数：43,记录总条数：1045\n",
      "2019-04-29 12:02:06,921:INFO: 完成0.77,缺失条数：13,记录总条数：342\n",
      "2019-04-29 12:02:07,693:INFO: 完成0.77,缺失条数：45,记录总条数：450\n",
      "2019-04-29 12:02:07,987:INFO: 完成0.77,缺失条数：18,记录总条数：166\n",
      "2019-04-29 12:02:08,303:INFO: 完成0.78,缺失条数：12,记录总条数：293\n",
      "2019-04-29 12:02:17,635:INFO: 完成0.78,缺失条数：717,记录总条数：2839\n",
      "2019-04-29 12:02:23,303:INFO: 完成0.78,缺失条数：345,记录总条数：2799\n",
      "2019-04-29 12:02:24,426:INFO: 完成0.79,缺失条数：66,记录总条数：716\n",
      "2019-04-29 12:02:24,766:INFO: 完成0.79,缺失条数：19,记录总条数：220\n",
      "2019-04-29 12:02:25,309:INFO: 完成0.79,缺失条数：12,记录总条数：584\n",
      "2019-04-29 12:02:25,877:INFO: 完成0.80,缺失条数：31,记录总条数：386\n",
      "2019-04-29 12:02:27,035:INFO: 完成0.80,缺失条数：59,记录总条数：992\n",
      "2019-04-29 12:02:28,552:INFO: 完成0.80,缺失条数：71,记录总条数：1254\n",
      "2019-04-29 12:02:29,716:INFO: 完成0.81,缺失条数：49,记录总条数：964\n",
      "2019-04-29 12:02:30,283:INFO: 完成0.81,缺失条数：25,记录总条数：511\n",
      "2019-04-29 12:02:32,717:INFO: 完成0.81,缺失条数：94,记录总条数：2172\n",
      "2019-04-29 12:02:34,313:INFO: 完成0.82,缺失条数：79,记录总条数：1293\n",
      "2019-04-29 12:02:34,956:INFO: 完成0.82,缺失条数：17,记录总条数：607\n",
      "2019-04-29 12:02:37,536:INFO: 完成0.83,缺失条数：99,记录总条数：1649\n",
      "2019-04-29 12:02:39,122:INFO: 完成0.83,缺失条数：52,记录总条数：1625\n",
      "2019-04-29 12:02:41,918:INFO: 完成0.83,缺失条数：99,记录总条数：1918\n",
      "2019-04-29 12:02:42,970:INFO: 完成0.84,缺失条数：21,记录总条数：1136\n",
      "2019-04-29 12:02:49,434:INFO: 完成0.84,缺失条数：439,记录总条数：2302\n",
      "2019-04-29 12:02:52,751:INFO: 完成0.84,缺失条数：111,记录总条数：2821\n",
      "2019-04-29 12:02:55,360:INFO: 完成0.85,缺失条数：84,记录总条数：2054\n",
      "2019-04-29 12:02:57,685:INFO: 完成0.85,缺失条数：95,记录总条数：1849\n",
      "2019-04-29 12:03:01,466:INFO: 完成0.85,缺失条数：252,记录总条数：1113\n",
      "2019-04-29 12:03:02,345:INFO: 完成0.86,缺失条数：34,记录总条数：627\n",
      "2019-04-29 12:03:02,753:INFO: 完成0.86,缺失条数：15,记录总条数：429\n",
      "2019-04-29 12:03:04,595:INFO: 完成0.86,缺失条数：72,记录总条数：1695\n",
      "2019-04-29 12:03:07,058:INFO: 完成0.87,缺失条数：112,记录总条数：1508\n",
      "2019-04-29 12:03:08,318:INFO: 完成0.87,缺失条数：27,记录总条数：1385\n",
      "2019-04-29 12:03:11,730:INFO: 完成0.88,缺失条数：175,记录总条数：2134\n",
      "2019-04-29 12:03:12,294:INFO: 完成0.88,缺失条数：15,记录总条数：672\n",
      "2019-04-29 12:03:15,074:INFO: 完成0.88,缺失条数：107,记录总条数：2365\n",
      "2019-04-29 12:03:18,116:INFO: 完成0.89,缺失条数：85,记录总条数：2686\n",
      "2019-04-29 12:03:21,090:INFO: 完成0.89,缺失条数：106,记录总条数：2479\n",
      "2019-04-29 12:03:21,347:INFO: 完成0.89,缺失条数：17,记录总条数：116\n",
      "2019-04-29 12:03:23,521:INFO: 完成0.90,缺失条数：105,记录总条数：1148\n",
      "2019-04-29 12:03:29,155:INFO: 完成0.90,缺失条数：220,记录总条数：3508\n",
      "2019-04-29 12:03:29,562:INFO: 完成0.90,缺失条数：19,记录总条数：397\n",
      "2019-04-29 12:03:31,215:INFO: 完成0.91,缺失条数：81,记录总条数：1270\n",
      "2019-04-29 12:03:32,272:INFO: 完成0.91,缺失条数：36,记录总条数：813\n",
      "2019-04-29 12:03:34,722:INFO: 完成0.91,缺失条数：140,记录总条数：1340\n",
      "2019-04-29 12:03:38,162:INFO: 完成0.92,缺失条数：114,记录总条数：3060\n",
      "2019-04-29 12:03:40,596:INFO: 完成0.92,缺失条数：108,记录总条数：1696\n",
      "2019-04-29 12:03:41,667:INFO: 完成0.93,缺失条数：42,记录总条数：743\n",
      "2019-04-29 12:03:45,137:INFO: 完成0.93,缺失条数：131,记录总条数：2858\n",
      "2019-04-29 12:03:46,880:INFO: 完成0.93,缺失条数：61,记录总条数：1418\n",
      "2019-04-29 12:03:50,254:INFO: 完成0.94,缺失条数：215,记录总条数：924\n",
      "2019-04-29 12:03:51,932:INFO: 完成0.94,缺失条数：71,记录总条数：1351\n",
      "2019-04-29 12:03:58,093:INFO: 完成0.94,缺失条数：296,记录总条数：3485\n",
      "2019-04-29 12:03:59,230:INFO: 完成0.95,缺失条数：53,记录总条数：603\n",
      "2019-04-29 12:03:59,817:INFO: 完成0.95,缺失条数：26,记录总条数：489\n",
      "2019-04-29 12:04:00,967:INFO: 完成0.95,缺失条数：67,记录总条数：299\n",
      "2019-04-29 12:04:04,267:INFO: 完成0.96,缺失条数：146,记录总条数：2326\n",
      "2019-04-29 12:04:06,755:INFO: 完成0.96,缺失条数：131,记录总条数：1249\n",
      "2019-04-29 12:04:10,290:INFO: 完成0.96,缺失条数：104,记录总条数：3140\n",
      "2019-04-29 12:04:13,813:INFO: 完成0.97,缺失条数：103,记录总条数：2706\n",
      "2019-04-29 12:04:14,786:INFO: 完成0.97,缺失条数：27,记录总条数：972\n",
      "2019-04-29 12:04:17,409:INFO: 完成0.98,缺失条数：103,记录总条数：1955\n",
      "2019-04-29 12:04:19,773:INFO: 完成0.98,缺失条数：87,记录总条数：1606\n",
      "2019-04-29 12:04:20,195:INFO: 完成0.98,缺失条数：19,记录总条数：279\n",
      "2019-04-29 12:04:20,328:INFO: 完成0.99,缺失条数：6,记录总条数：48\n",
      "2019-04-29 12:04:21,413:INFO: 完成0.99,缺失条数：52,记录总条数：776\n",
      "2019-04-29 12:04:34,359:INFO: 完成0.99,缺失条数：769,记录总条数：3398\n",
      "2019-04-29 12:04:36,627:INFO: 完成1.00,缺失条数：98,记录总条数：1325\n",
      "2019-04-29 12:04:37,253:INFO: 完成1.00,缺失条数：15,记录总条数：843\n"
     ]
    },
    {
     "name": "stdout",
     "output_type": "stream",
     "text": [
      "27100 394976 0.06861176375273434\n"
     ]
    }
   ],
   "source": [
    "filepath = 'test1/'\n",
    "count_time = []\n",
    "total_num = len(os.listdir(filepath))\n",
    "INDEX = 1 #记录遍历到第几条，用来输出进度\n",
    "df_new = pd.DataFrame(columns=['last_end_time','last_end_address','now_start_time','now_start_address','distance'])\n",
    "df_new_index = 0\n",
    "sum_loss =0 #统计总丢失条数\n",
    "sum_all = 0 #统计总记录数\n",
    "for i in os.listdir(filepath):\n",
    "    df = pd.read_excel(filepath+i)\n",
    "    df.head(5)\n",
    "    \n",
    "    count = 0 #记录每个人的缺失条数\n",
    "    \n",
    "    for i in range(1,df.shape[0]):\n",
    "        if df['datetime'].iloc[i] != df['datetime'].iloc[i-1]:\n",
    "            pass\n",
    "        else:\n",
    "            start_gps_pos_list = []  #获取开始地址的坐标list  [x,y]\n",
    "            end_gps_pos_list = []    #获取终止地址的坐标list  [x,y]\n",
    "\n",
    "            start_gps_pos= df.iloc[i]['start_gps_poi']\n",
    "            end_gps_pos= df.iloc[i-1]['end_gps_poi']\n",
    "\n",
    "            a,b = map(float,start_gps_pos.split(','))\n",
    "            start_gps_pos_list.append(b)\n",
    "            start_gps_pos_list.append(a)\n",
    "\n",
    "            a_,b_ = map(float,end_gps_pos.split(','))\n",
    "            end_gps_pos_list.append(b_)\n",
    "            end_gps_pos_list.append(a_)\n",
    "\n",
    "            #计算之间的距离\n",
    "            distance = haversine(start_gps_pos_list,end_gps_pos_list)\n",
    "            if distance > 1000:\n",
    "                count += 1\n",
    "                #打印出起始到终止地址  的时间以及地址\n",
    "                #print(df.iloc[i-1]['end_time'],df.iloc[i-1]['end_address_name'],df.iloc[i]['start_time'],df.iloc[i]['start_address_name'],distance)\n",
    "                \n",
    "                #统计所有的缺失信息\n",
    "                df_new.loc[df_new_index] = [df.iloc[i-1]['end_time'],df.iloc[i-1]['end_address_name'],df.iloc[i]['start_time'],df.iloc[i]['start_address_name'],distance]\n",
    "                df_new_index += 1\n",
    "                \n",
    "                #将每一条的起始时间段记录  即i-1次记录的end_time\n",
    "                hour = int(df.iloc[i-1]['end_time'].split(' ')[1].split(':')[0])\n",
    "                count_time.append(hour)\n",
    "    sum_loss += count\n",
    "    sum_all += df.shape[0]\n",
    "    logging.info('完成%.2f,缺失条数：%d,记录总条数：%d' % (INDEX/total_num,count,df.shape[0]))\n",
    "    INDEX += 1\n",
    "print(sum_loss,sum_all,sum_loss/sum_all)"
   ]
  },
  {
   "cell_type": "code",
   "execution_count": 119,
   "metadata": {},
   "outputs": [
    {
     "data": {
      "text/plain": [
       "27100"
      ]
     },
     "execution_count": 119,
     "metadata": {},
     "output_type": "execute_result"
    }
   ],
   "source": [
    "len(count_time)"
   ]
  },
  {
   "cell_type": "code",
   "execution_count": 154,
   "metadata": {},
   "outputs": [
    {
     "data": {
      "text/plain": [
       "'2017-10-17 21:50:40'"
      ]
     },
     "execution_count": 154,
     "metadata": {},
     "output_type": "execute_result"
    }
   ],
   "source": [
    "str(df_new['now_start_time'][0])"
   ]
  },
  {
   "cell_type": "code",
   "execution_count": 165,
   "metadata": {},
   "outputs": [
    {
     "data": {
      "text/html": [
       "<div>\n",
       "<style scoped>\n",
       "    .dataframe tbody tr th:only-of-type {\n",
       "        vertical-align: middle;\n",
       "    }\n",
       "\n",
       "    .dataframe tbody tr th {\n",
       "        vertical-align: top;\n",
       "    }\n",
       "\n",
       "    .dataframe thead th {\n",
       "        text-align: right;\n",
       "    }\n",
       "</style>\n",
       "<table border=\"1\" class=\"dataframe\">\n",
       "  <thead>\n",
       "    <tr style=\"text-align: right;\">\n",
       "      <th></th>\n",
       "      <th>last_end_time</th>\n",
       "      <th>last_end_address</th>\n",
       "      <th>now_start_time</th>\n",
       "      <th>now_start_address</th>\n",
       "      <th>distance</th>\n",
       "      <th>last_end_time_hour</th>\n",
       "      <th>last_end_time_min</th>\n",
       "      <th>now_start_time_hour</th>\n",
       "      <th>now_start_time_min</th>\n",
       "    </tr>\n",
       "  </thead>\n",
       "  <tbody>\n",
       "    <tr>\n",
       "      <th>0</th>\n",
       "      <td>2017-10-17 16:39:12.0</td>\n",
       "      <td>腾飞物流</td>\n",
       "      <td>2017-10-17 21:50:40</td>\n",
       "      <td>丽阁花园酒店</td>\n",
       "      <td>1057.067720</td>\n",
       "      <td>16</td>\n",
       "      <td>39</td>\n",
       "      <td>21</td>\n",
       "      <td>50</td>\n",
       "    </tr>\n",
       "    <tr>\n",
       "      <th>1</th>\n",
       "      <td>2017-10-17 22:08:33.0</td>\n",
       "      <td>奥马电器公司三分厂</td>\n",
       "      <td>2017-10-17 22:50:56</td>\n",
       "      <td>中山市南头镇康之友电器制造厂</td>\n",
       "      <td>1152.141552</td>\n",
       "      <td>22</td>\n",
       "      <td>8</td>\n",
       "      <td>22</td>\n",
       "      <td>50</td>\n",
       "    </tr>\n",
       "    <tr>\n",
       "      <th>2</th>\n",
       "      <td>2017-10-30 07:58:41.0</td>\n",
       "      <td>顺业楼</td>\n",
       "      <td>2017-10-30 09:55:36</td>\n",
       "      <td>东康花苑内</td>\n",
       "      <td>2595.204343</td>\n",
       "      <td>7</td>\n",
       "      <td>58</td>\n",
       "      <td>9</td>\n",
       "      <td>55</td>\n",
       "    </tr>\n",
       "    <tr>\n",
       "      <th>3</th>\n",
       "      <td>2017-12-01 14:27:46.0</td>\n",
       "      <td>广州市南沙榄核第二中学</td>\n",
       "      <td>2017-12-01 20:53:42</td>\n",
       "      <td>凯福购物广场连锁北滘店</td>\n",
       "      <td>21536.168922</td>\n",
       "      <td>14</td>\n",
       "      <td>27</td>\n",
       "      <td>20</td>\n",
       "      <td>53</td>\n",
       "    </tr>\n",
       "    <tr>\n",
       "      <th>4</th>\n",
       "      <td>2018-01-23 12:26:46.0</td>\n",
       "      <td>力合阳光城云谷</td>\n",
       "      <td>2018-01-23 14:11:03</td>\n",
       "      <td>顺江公园</td>\n",
       "      <td>10270.503712</td>\n",
       "      <td>12</td>\n",
       "      <td>26</td>\n",
       "      <td>14</td>\n",
       "      <td>11</td>\n",
       "    </tr>\n",
       "  </tbody>\n",
       "</table>\n",
       "</div>"
      ],
      "text/plain": [
       "           last_end_time last_end_address      now_start_time  \\\n",
       "0  2017-10-17 16:39:12.0             腾飞物流 2017-10-17 21:50:40   \n",
       "1  2017-10-17 22:08:33.0        奥马电器公司三分厂 2017-10-17 22:50:56   \n",
       "2  2017-10-30 07:58:41.0              顺业楼 2017-10-30 09:55:36   \n",
       "3  2017-12-01 14:27:46.0      广州市南沙榄核第二中学 2017-12-01 20:53:42   \n",
       "4  2018-01-23 12:26:46.0          力合阳光城云谷 2018-01-23 14:11:03   \n",
       "\n",
       "  now_start_address      distance  last_end_time_hour  last_end_time_min  \\\n",
       "0            丽阁花园酒店   1057.067720                  16                 39   \n",
       "1    中山市南头镇康之友电器制造厂   1152.141552                  22                  8   \n",
       "2             东康花苑内   2595.204343                   7                 58   \n",
       "3       凯福购物广场连锁北滘店  21536.168922                  14                 27   \n",
       "4              顺江公园  10270.503712                  12                 26   \n",
       "\n",
       "   now_start_time_hour  now_start_time_min  \n",
       "0                   21                  50  \n",
       "1                   22                  50  \n",
       "2                    9                  55  \n",
       "3                   20                  53  \n",
       "4                   14                  11  "
      ]
     },
     "execution_count": 165,
     "metadata": {},
     "output_type": "execute_result"
    }
   ],
   "source": [
    "df_new.head()"
   ]
  },
  {
   "cell_type": "code",
   "execution_count": 189,
   "metadata": {},
   "outputs": [],
   "source": [
    "def get_hour(row):\n",
    "    return int(str(row).split(' ')[1].split(':')[0])\n",
    "def get_min(row):\n",
    "    return int(str(row).split(' ')[1].split(':')[1])\n",
    "def get_during_mins(row):\n",
    "#     return (row[-2] - row[-4])*60 + (row[-1] - row[-3])\n",
    "    return (row['now_start_time_hour'] - row['last_end_time_hour'])*60 +  row['now_start_time_min'] - row['last_end_time_min']"
   ]
  },
  {
   "cell_type": "code",
   "execution_count": 191,
   "metadata": {},
   "outputs": [
    {
     "ename": "TypeError",
     "evalue": "'method' object is not subscriptable",
     "output_type": "error",
     "traceback": [
      "\u001b[1;31m---------------------------------------------------------------------------\u001b[0m",
      "\u001b[1;31mTypeError\u001b[0m                                 Traceback (most recent call last)",
      "\u001b[1;32m<ipython-input-191-e0c51aea7211>\u001b[0m in \u001b[0;36m<module>\u001b[1;34m\u001b[0m\n\u001b[0;32m      5\u001b[0m \u001b[1;33m\u001b[0m\u001b[0m\n\u001b[0;32m      6\u001b[0m \u001b[0mdf_new\u001b[0m\u001b[1;33m[\u001b[0m\u001b[1;34m'during_mins'\u001b[0m\u001b[1;33m]\u001b[0m \u001b[1;33m=\u001b[0m \u001b[0mdf_new\u001b[0m\u001b[1;33m.\u001b[0m\u001b[0mapply\u001b[0m\u001b[1;33m(\u001b[0m\u001b[0mget_during_mins\u001b[0m\u001b[1;33m,\u001b[0m\u001b[0maxis\u001b[0m \u001b[1;33m=\u001b[0m \u001b[1;36m1\u001b[0m\u001b[1;33m)\u001b[0m\u001b[1;33m\u001b[0m\u001b[1;33m\u001b[0m\u001b[0m\n\u001b[1;32m----> 7\u001b[1;33m \u001b[0mdf_new\u001b[0m\u001b[1;33m.\u001b[0m\u001b[0mdrop\u001b[0m\u001b[1;33m[\u001b[0m\u001b[1;34m'during_hour'\u001b[0m\u001b[1;33m]\u001b[0m\u001b[1;33m\u001b[0m\u001b[1;33m\u001b[0m\u001b[0m\n\u001b[0m\u001b[0;32m      8\u001b[0m \u001b[1;31m# df_new[df_new['last_end_time_hour'].isin([9,10])][500:600]\u001b[0m\u001b[1;33m\u001b[0m\u001b[1;33m\u001b[0m\u001b[1;33m\u001b[0m\u001b[0m\n\u001b[0;32m      9\u001b[0m \u001b[0mdf_new\u001b[0m\u001b[1;33m\u001b[0m\u001b[1;33m\u001b[0m\u001b[0m\n",
      "\u001b[1;31mTypeError\u001b[0m: 'method' object is not subscriptable"
     ]
    }
   ],
   "source": [
    "df_new['last_end_time_hour'] = df_new['last_end_time'].apply(get_hour)\n",
    "df_new['last_end_time_min'] = df_new['last_end_time'].apply(get_min)\n",
    "df_new['now_start_time_hour'] = df_new['now_start_time'].apply(get_hour)\n",
    "df_new['now_start_time_min'] = df_new['now_start_time'].apply(get_min)\n",
    "\n",
    "df_new['during_mins'] = df_new.apply(get_during_mins,axis = 1)\n",
    "\n",
    "# df_new[df_new['last_end_time_hour'].isin([9,10])][500:600]\n",
    "df_new"
   ]
  },
  {
   "cell_type": "code",
   "execution_count": 198,
   "metadata": {},
   "outputs": [],
   "source": [
    "df_new = df_new.drop(columns=['during_hour','last_end_time_min','now_start_time_hour','now_start_time_min'])"
   ]
  },
  {
   "cell_type": "code",
   "execution_count": 196,
   "metadata": {},
   "outputs": [
    {
     "data": {
      "text/plain": [
       "27100"
      ]
     },
     "execution_count": 196,
     "metadata": {},
     "output_type": "execute_result"
    }
   ],
   "source": [
    "df_new[df_new['during_mins']>60]\n",
    "df_new.shape[0]"
   ]
  },
  {
   "cell_type": "code",
   "execution_count": 91,
   "metadata": {},
   "outputs": [
    {
     "data": {
      "text/plain": [
       "[284,\n",
       " 435,\n",
       " 442,\n",
       " 365,\n",
       " 427,\n",
       " 562,\n",
       " 936,\n",
       " 1521,\n",
       " 1843,\n",
       " 2173,\n",
       " 2076,\n",
       " 1706,\n",
       " 1543,\n",
       " 1630,\n",
       " 1664,\n",
       " 1716,\n",
       " 1697,\n",
       " 1668,\n",
       " 1339,\n",
       " 1044,\n",
       " 766,\n",
       " 545,\n",
       " 400,\n",
       " 318]"
      ]
     },
     "execution_count": 91,
     "metadata": {},
     "output_type": "execute_result"
    }
   ],
   "source": [
    "a = sorted(dict(Counter(count_time)).items(),key=lambda x:x[0])\n",
    "\n",
    "x = []\n",
    "y = []\n",
    "for item in a:\n",
    "    x.append(item[0])\n",
    "    y.append(item[1])\n",
    "x\n",
    "y"
   ]
  },
  {
   "cell_type": "code",
   "execution_count": 94,
   "metadata": {},
   "outputs": [
    {
     "name": "stdout",
     "output_type": "stream",
     "text": [
      "['__add__', '__class__', '__contains__', '__delattr__', '__delitem__', '__dir__', '__doc__', '__eq__', '__format__', '__ge__', '__getattribute__', '__getitem__', '__gt__', '__hash__', '__iadd__', '__imul__', '__init__', '__init_subclass__', '__iter__', '__le__', '__len__', '__lt__', '__mul__', '__ne__', '__new__', '__reduce__', '__reduce_ex__', '__repr__', '__reversed__', '__rmul__', '__setattr__', '__setitem__', '__sizeof__', '__str__', '__subclasshook__', 'append', 'clear', 'copy', 'count', 'extend', 'index', 'insert', 'pop', 'remove', 'reverse', 'sort']\n"
     ]
    },
    {
     "data": {
      "text/plain": [
       "[<matplotlib.lines.Line2D at 0x21769a79438>]"
      ]
     },
     "execution_count": 94,
     "metadata": {},
     "output_type": "execute_result"
    },
    {
     "data": {
      "image/png": "[encoded data removed]",
      "text/plain": [
       "<Figure size 360x360 with 1 Axes>"
      ]
     },
     "metadata": {},
     "output_type": "display_data"
    }
   ],
   "source": [
    "fig = plt.figure(figsize=(5,5))\n",
    "sns.set_style(\"whitegrid\")\n",
    "ax = fig.gca()\n",
    "print(dir(x))\n",
    "ax.set_xlim(0,24)\n",
    "plt.xticks(range(24))\n",
    "ax.plot(x,y)"
   ]
  },
  {
   "cell_type": "code",
   "execution_count": 79,
   "metadata": {},
   "outputs": [
    {
     "data": {
      "text/plain": [
       "<matplotlib.axes._subplots.AxesSubplot at 0x217586695c0>"
      ]
     },
     "execution_count": 79,
     "metadata": {},
     "output_type": "execute_result"
    },
    {
     "data": {
      "image/png": "[encoded data removed]",
      "text/plain": [
       "<Figure size 432x288 with 1 Axes>"
      ]
     },
     "metadata": {},
     "output_type": "display_data"
    }
   ],
   "source": [
    "sns.distplot(y)"
   ]
  },
  {
   "cell_type": "code",
   "execution_count": 200,
   "metadata": {},
   "outputs": [],
   "source": [
    "df_new.to_excel('loss_records.xls')"
   ]
  },
  {
   "cell_type": "code",
   "execution_count": null,
   "metadata": {},
   "outputs": [],
   "source": []
  }
 ],
 "metadata": {
  "kernelspec": {
   "display_name": "Python 3",
   "language": "python",
   "name": "python3"
  },
  "language_info": {
   "codemirror_mode": {
    "name": "ipython",
    "version": 3
   },
   "file_extension": ".py",
   "mimetype": "text/x-python",
   "name": "python",
   "nbconvert_exporter": "python",
   "pygments_lexer": "ipython3",
   "version": "3.6.7"
  }
 },
 "nbformat": 4,
 "nbformat_minor": 2
}
