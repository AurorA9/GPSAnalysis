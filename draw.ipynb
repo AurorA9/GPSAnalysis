{
 "cells": [
  {
   "cell_type": "code",
   "execution_count": 31,
   "metadata": {},
   "outputs": [],
   "source": [
    "import numpy as np\n",
    "import pandas as pd\n",
    "import os\n",
    "filepath = 'test/'\n",
    "filename = '0fe208a327ad49579ea64fbc16adf2e6.xls'\n"
   ]
  },
  {
   "cell_type": "code",
   "execution_count": 32,
   "metadata": {},
   "outputs": [],
   "source": [
    "#os.listdir(filepath)"
   ]
  },
  {
   "cell_type": "code",
   "execution_count": 43,
   "metadata": {
    "scrolled": false
   },
   "outputs": [
    {
     "name": "stdout",
     "output_type": "stream",
     "text": [
      "0      上海五凌汽车销售有限公司\n",
      "1              上海禾众\n",
      "2             周康一村内\n",
      "3              北宏公寓\n",
      "4    中共康桥老街居民区支部委员会\n",
      "Name: index, dtype: object\n",
      "********************\n",
      "0               辽宁省葫芦岛市兴城市沙后所满族镇石闻线\n",
      "1             辽宁省葫芦岛市兴城市沙后所满族镇圣洺幼儿园\n",
      "2                             圣洺幼儿园\n",
      "3    辽宁省葫芦岛市兴城市沙后所满族镇滨海大药房(沙后所旭生分店)\n",
      "4         辽宁省葫芦岛市兴城市沙后所满族镇锐峰装饰材料家具店\n",
      "Name: index, dtype: object\n",
      "********************\n",
      "0    江苏省苏州市张家港市金港镇长江中路莫泰168旅店(金港镇店)\n",
      "1              江苏省苏州市张家港市金港镇香山南路36号\n",
      "2           江苏省苏州市张家港市金港镇江苏金和电气有限公司\n",
      "3                  江苏省苏州市张家港市金港镇香山路\n",
      "4    江苏省苏州市张家港市金港镇富都花园莫泰168旅店(金港镇店)\n",
      "Name: index, dtype: object\n",
      "********************\n",
      "0    四川省泸州市江阳区茜草街道酒谷大道三段碧桂园·生态城\n",
      "1                            机房\n",
      "2                  泸州高新投资集团有限公司\n",
      "3       四川省泸州市江阳区茜草街道石塔咀碧桂园·生态城\n",
      "4           四川省泸州市江阳区张坝景区街道彭湾小区\n",
      "Name: index, dtype: object\n",
      "********************\n",
      "0                         东风乡政府\n",
      "1    北京市朝阳区八里庄街道朝阳无限芳菁苑朝阳无限·芳菁苑\n",
      "2     朝阳无限·芳菁苑内,中国农业银行(北京甘露园支行)\n",
      "3                北京市朝阳区东风镇姚家园北路\n",
      "4               中国农业银行(北京甘露园支行)\n",
      "Name: index, dtype: object\n",
      "********************\n",
      "0                     鸿盛汽贸\n",
      "1                     卫帅汽配\n",
      "2                     豪铨汽贸\n",
      "3    河北省衡水市深州市东安庄乡永平大街359号\n",
      "4        河北省衡水市深州市东安庄乡永平大街\n",
      "Name: index, dtype: object\n",
      "********************\n",
      "0         海语江山内,熬家鲜菜火锅\n",
      "1    重庆市江北区寸滩街道大井湾海语江山\n",
      "2               渝舍德明火锅\n",
      "3         海语江山内,卓润·新丽居\n",
      "4             长安商用车事业部\n",
      "Name: index, dtype: object\n",
      "********************\n",
      "0                      金竹(地铁站)\n",
      "1     重庆市巴南区鱼洞街道化龙中街41附16号上城时代\n",
      "2           重庆市巴南区鱼洞街道大江中路玉豪龙庭\n",
      "3    重庆市巴南区鱼洞街道莲花街66-附1-5号玉豪龙庭\n",
      "4                重庆市巴南区鱼洞街道箭河路\n",
      "Name: index, dtype: object\n",
      "********************\n",
      "0        山东省临沂市沂水县高庄镇岸池线\n",
      "1      山东省临沂市兰山区金雀山街道即丘路\n",
      "2                    马家窝\n",
      "3    山东省临沂市兰山区金雀山街道即丘路3号\n",
      "4        山东省临沂市沂水县高庄镇马家窝\n",
      "Name: index, dtype: object\n",
      "********************\n",
      "0          广东省江门市鹤山市沙坪街道876乡道\n",
      "1                        香雁湖村\n",
      "2    广东省江门市鹤山市沙坪街道鹤山市兴盛包装有限公司\n",
      "3                       山顶工业园\n",
      "4     云南省文山壮族苗族自治州富宁县板仑乡019乡道\n",
      "Name: index, dtype: object\n",
      "********************\n",
      "0                  河北省廊坊市三河市新集镇046乡道\n",
      "1                              建国彩砖厂\n",
      "2                    河北省廊坊市三河市新集镇侯谭线\n",
      "3                  河北省廊坊市三河市新集镇东兴阁酒家\n",
      "4    河北省廊坊市大厂回族自治县邵府乡大厂智能装备产业园祁福佳苑小区\n",
      "Name: index, dtype: object\n",
      "********************\n",
      "0                  后谢寨\n",
      "1      河南省周口市淮阳县冯塘乡后谢寨\n",
      "2    河南省周口市淮阳县冯塘乡015县道\n",
      "3    河南省周口市淮阳县冯塘乡012县道\n",
      "4                   安庄\n",
      "Name: index, dtype: object\n",
      "********************\n",
      "0                               谢家河\n",
      "1    湖北省武汉市洪山区东湖风景区街道落雁路武汉东湖风景区落雁景区\n",
      "2               湖北省武汉市洪山区东湖风景区街道青王路\n",
      "3                               周家冲\n",
      "4                  湖北省孝感市大悟县城关镇前进大道\n",
      "Name: index, dtype: object\n",
      "********************\n",
      "0                    嘉祥县国家税务局卧龙山分局\n",
      "1    山东省济宁市嘉祥县卧龙山镇中国邮政储蓄银行(卧龙山营业所)\n",
      "2                              汪楼村\n",
      "3          山东省济宁市嘉祥县卧龙山镇卧龙山镇维护稳定中心\n",
      "4                       华联超市(卧龙山店)\n",
      "Name: index, dtype: object\n",
      "********************\n",
      "0      江苏省无锡市江阴市澄江街道江港堤路\n",
      "1           江阴扬帆起重设备有限公司\n",
      "2      江苏省无锡市江阴市澄江街道滨江西路\n",
      "3       江苏省无锡市江阴市澄江街道衡山路\n",
      "4    江苏省无锡市江阴市澄江街道衡山路14号\n",
      "Name: index, dtype: object\n",
      "********************\n"
     ]
    }
   ],
   "source": [
    "for name in os.listdir(filepath):\n",
    "    df = pd.read_excel(filepath+name)\n",
    "    c = df['end_address_name'].value_counts()[:5].reset_index()\n",
    "    print(c[\"index\"])\n",
    "    print('*'*20)"
   ]
  },
  {
   "cell_type": "code",
   "execution_count": 13,
   "metadata": {
    "scrolled": true
   },
   "outputs": [
    {
     "data": {
      "text/plain": [
       "(1423, 22)"
      ]
     },
     "execution_count": 13,
     "metadata": {},
     "output_type": "execute_result"
    }
   ],
   "source": [
    "df.shape"
   ]
  },
  {
   "cell_type": "code",
   "execution_count": 14,
   "metadata": {},
   "outputs": [
    {
     "data": {
      "text/plain": [
       "Index(['driving_history_id', 'car_id', 'user_id', 'start_address_name',\n",
       "       'end_address_name', 'start_time', 'end_time', 'spend_time', 'speed_up',\n",
       "       'speed_down', 'sharp_turn', 'over_speed', 'avrg_speed', 'mileage',\n",
       "       'oil', 'fee', 'oil_price', 'create_at', 'start_gps_poi', 'end_gps_poi',\n",
       "       'datetime', 'weekday'],\n",
       "      dtype='object')"
      ]
     },
     "execution_count": 14,
     "metadata": {},
     "output_type": "execute_result"
    }
   ],
   "source": [
    "df.columns"
   ]
  },
  {
   "cell_type": "code",
   "execution_count": 23,
   "metadata": {},
   "outputs": [
    {
     "data": {
      "text/plain": [
       "围仔               79\n",
       "广东省东莞市大朗镇下彭路     70\n",
       "黎贝岭新围仔348号楼      67\n",
       "东莞市富邦橡胶制品有限公司    60\n",
       "恒亚               46\n",
       "Name: end_address_name, dtype: int64"
      ]
     },
     "execution_count": 23,
     "metadata": {},
     "output_type": "execute_result"
    }
   ],
   "source": [
    "df['end_address_name'].value_counts()"
   ]
  },
  {
   "cell_type": "code",
   "execution_count": null,
   "metadata": {},
   "outputs": [],
   "source": []
  },
  {
   "cell_type": "code",
   "execution_count": 44,
   "metadata": {},
   "outputs": [],
   "source": [
    "city = ['北京市','天津市','上海市','重庆市']\n",
    "region = ['内蒙古自治区','广西壮族自治区','宁夏回族自治区','新疆维吾尔自治区','西藏自治区']\n",
    "province =  '河北省、山西省、辽宁省、吉林省、黑龙江省、江苏省、浙江省、安徽省、福建省、江西省、\\\n",
    "山东省、河南省、湖北省、湖南省、广东省、海南省、四川省、贵州省、云南省、陕西省、甘肃省、青海省、台湾省'.split('、')"
   ]
  },
  {
   "cell_type": "code",
   "execution_count": 45,
   "metadata": {},
   "outputs": [
    {
     "data": {
      "text/plain": [
       "['河北省',\n",
       " '山西省',\n",
       " '辽宁省',\n",
       " '吉林省',\n",
       " '黑龙江省',\n",
       " '江苏省',\n",
       " '浙江省',\n",
       " '安徽省',\n",
       " '福建省',\n",
       " '江西省',\n",
       " '山东省',\n",
       " '河南省',\n",
       " '湖北省',\n",
       " '湖南省',\n",
       " '广东省',\n",
       " '海南省',\n",
       " '四川省',\n",
       " '贵州省',\n",
       " '云南省',\n",
       " '陕西省',\n",
       " '甘肃省',\n",
       " '青海省',\n",
       " '台湾省']"
      ]
     },
     "execution_count": 45,
     "metadata": {},
     "output_type": "execute_result"
    }
   ],
   "source": [
    "province"
   ]
  },
  {
   "cell_type": "code",
   "execution_count": null,
   "metadata": {},
   "outputs": [],
   "source": []
  }
 ],
 "metadata": {
  "kernelspec": {
   "display_name": "Python 3",
   "language": "python",
   "name": "python3"
  },
  "language_info": {
   "codemirror_mode": {
    "name": "ipython",
    "version": 3
   },
   "file_extension": ".py",
   "mimetype": "text/x-python",
   "name": "python",
   "nbconvert_exporter": "python",
   "pygments_lexer": "ipython3",
   "version": "3.6.7"
  }
 },
 "nbformat": 4,
 "nbformat_minor": 2
}
