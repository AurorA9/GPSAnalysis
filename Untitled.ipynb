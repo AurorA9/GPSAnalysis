{
 "cells": [
  {
   "cell_type": "code",
   "execution_count": 1,
   "metadata": {},
   "outputs": [],
   "source": [
    "import pandas as pd   #order-info-1.xlsx"
   ]
  },
  {
   "cell_type": "code",
   "execution_count": 24,
   "metadata": {},
   "outputs": [],
   "source": [
    "df = pd.read_excel('order_info_1.xlsx')"
   ]
  },
  {
   "cell_type": "code",
   "execution_count": 2,
   "metadata": {},
   "outputs": [],
   "source": [
    "#df = pd.read_excel('map_poicode.xlsx')"
   ]
  },
  {
   "cell_type": "code",
   "execution_count": 25,
   "metadata": {},
   "outputs": [],
   "source": [
    "df_ = df"
   ]
  },
  {
   "cell_type": "code",
   "execution_count": 46,
   "metadata": {},
   "outputs": [],
   "source": [
    "df =df_"
   ]
  },
  {
   "cell_type": "code",
   "execution_count": 47,
   "metadata": {},
   "outputs": [],
   "source": [
    "df['cs_order_info.csoi_settle_time'] = df['cs_order_info.csoi_settle_time'].fillna(0)"
   ]
  },
  {
   "cell_type": "code",
   "execution_count": 48,
   "metadata": {},
   "outputs": [
    {
     "data": {
      "text/html": [
       "<div>\n",
       "<style scoped>\n",
       "    .dataframe tbody tr th:only-of-type {\n",
       "        vertical-align: middle;\n",
       "    }\n",
       "\n",
       "    .dataframe tbody tr th {\n",
       "        vertical-align: top;\n",
       "    }\n",
       "\n",
       "    .dataframe thead th {\n",
       "        text-align: right;\n",
       "    }\n",
       "</style>\n",
       "<table border=\"1\" class=\"dataframe\">\n",
       "  <thead>\n",
       "    <tr style=\"text-align: right;\">\n",
       "      <th></th>\n",
       "      <th>cs_order_info.csoi_id</th>\n",
       "      <th>cs_order_info.csoi_host</th>\n",
       "      <th>cs_order_info.csoi_operator</th>\n",
       "      <th>cs_order_info.csoi_order_no</th>\n",
       "      <th>cs_order_info.csoi_use_member</th>\n",
       "      <th>cs_order_info.csoi_pay_member</th>\n",
       "      <th>cs_order_info.csoi_car</th>\n",
       "      <th>cs_order_info.csoi_carno</th>\n",
       "      <th>cs_order_info.csoi_carmodel</th>\n",
       "      <th>cs_order_info.csoi_booked_taketime</th>\n",
       "      <th>...</th>\n",
       "      <th>cs_order_info.csoi_settle_time</th>\n",
       "      <th>cs_order_info.csoi_booked_time</th>\n",
       "      <th>cs_order_info.csoi_account_deposit_pay</th>\n",
       "      <th>cs_order_info.csoi_preauthorization_pay</th>\n",
       "      <th>cs_order_info.csoi_bad_state</th>\n",
       "      <th>cs_order_info.csoi_fine</th>\n",
       "      <th>cs_order_info.csoi_return_any_fee</th>\n",
       "      <th>Unnamed: 49</th>\n",
       "      <th>Unnamed: 50</th>\n",
       "      <th>Unnamed: 51</th>\n",
       "    </tr>\n",
       "  </thead>\n",
       "  <tbody>\n",
       "    <tr>\n",
       "      <th>0</th>\n",
       "      <td>14</td>\n",
       "      <td>1</td>\n",
       "      <td>1</td>\n",
       "      <td>14</td>\n",
       "      <td>1513</td>\n",
       "      <td>172</td>\n",
       "      <td>108</td>\n",
       "      <td>渝D96072</td>\n",
       "      <td>6</td>\n",
       "      <td>2016-09-29 10:40:00</td>\n",
       "      <td>...</td>\n",
       "      <td>0</td>\n",
       "      <td>2016-09-29 10:40:50</td>\n",
       "      <td>NaN</td>\n",
       "      <td>NaN</td>\n",
       "      <td>0</td>\n",
       "      <td>0.0</td>\n",
       "      <td>0.0</td>\n",
       "      <td>NaN</td>\n",
       "      <td>NaN</td>\n",
       "      <td>NaN</td>\n",
       "    </tr>\n",
       "    <tr>\n",
       "      <th>1</th>\n",
       "      <td>68</td>\n",
       "      <td>1</td>\n",
       "      <td>1</td>\n",
       "      <td>68</td>\n",
       "      <td>1514</td>\n",
       "      <td>172</td>\n",
       "      <td>96</td>\n",
       "      <td>渝DA3327</td>\n",
       "      <td>6</td>\n",
       "      <td>2016-09-29 17:20:00</td>\n",
       "      <td>...</td>\n",
       "      <td>0</td>\n",
       "      <td>2016-09-29 17:14:55</td>\n",
       "      <td>NaN</td>\n",
       "      <td>NaN</td>\n",
       "      <td>0</td>\n",
       "      <td>0.0</td>\n",
       "      <td>0.0</td>\n",
       "      <td>NaN</td>\n",
       "      <td>NaN</td>\n",
       "      <td>NaN</td>\n",
       "    </tr>\n",
       "    <tr>\n",
       "      <th>2</th>\n",
       "      <td>176</td>\n",
       "      <td>1</td>\n",
       "      <td>1</td>\n",
       "      <td>176</td>\n",
       "      <td>1520</td>\n",
       "      <td>172</td>\n",
       "      <td>93</td>\n",
       "      <td>渝D92853</td>\n",
       "      <td>6</td>\n",
       "      <td>2016-09-30 16:00:00</td>\n",
       "      <td>...</td>\n",
       "      <td>0</td>\n",
       "      <td>2016-09-30 15:55:20</td>\n",
       "      <td>NaN</td>\n",
       "      <td>NaN</td>\n",
       "      <td>0</td>\n",
       "      <td>0.0</td>\n",
       "      <td>0.0</td>\n",
       "      <td>NaN</td>\n",
       "      <td>NaN</td>\n",
       "      <td>NaN</td>\n",
       "    </tr>\n",
       "    <tr>\n",
       "      <th>3</th>\n",
       "      <td>194</td>\n",
       "      <td>1</td>\n",
       "      <td>1</td>\n",
       "      <td>194</td>\n",
       "      <td>1533</td>\n",
       "      <td>1526</td>\n",
       "      <td>35</td>\n",
       "      <td>渝DB6167</td>\n",
       "      <td>6</td>\n",
       "      <td>2016-10-02 15:00:00</td>\n",
       "      <td>...</td>\n",
       "      <td>0</td>\n",
       "      <td>2016-09-30 16:37:25</td>\n",
       "      <td>NaN</td>\n",
       "      <td>NaN</td>\n",
       "      <td>0</td>\n",
       "      <td>0.0</td>\n",
       "      <td>0.0</td>\n",
       "      <td>NaN</td>\n",
       "      <td>NaN</td>\n",
       "      <td>NaN</td>\n",
       "    </tr>\n",
       "    <tr>\n",
       "      <th>4</th>\n",
       "      <td>212</td>\n",
       "      <td>1</td>\n",
       "      <td>1</td>\n",
       "      <td>212</td>\n",
       "      <td>605</td>\n",
       "      <td>2</td>\n",
       "      <td>70</td>\n",
       "      <td>渝D93215</td>\n",
       "      <td>6</td>\n",
       "      <td>2016-10-01 19:40:00</td>\n",
       "      <td>...</td>\n",
       "      <td>0</td>\n",
       "      <td>2016-10-01 19:35:48</td>\n",
       "      <td>NaN</td>\n",
       "      <td>NaN</td>\n",
       "      <td>0</td>\n",
       "      <td>0.0</td>\n",
       "      <td>0.0</td>\n",
       "      <td>NaN</td>\n",
       "      <td>NaN</td>\n",
       "      <td>NaN</td>\n",
       "    </tr>\n",
       "  </tbody>\n",
       "</table>\n",
       "<p>5 rows × 52 columns</p>\n",
       "</div>"
      ],
      "text/plain": [
       "   cs_order_info.csoi_id  cs_order_info.csoi_host  \\\n",
       "0                     14                        1   \n",
       "1                     68                        1   \n",
       "2                    176                        1   \n",
       "3                    194                        1   \n",
       "4                    212                        1   \n",
       "\n",
       "   cs_order_info.csoi_operator  cs_order_info.csoi_order_no  \\\n",
       "0                            1                           14   \n",
       "1                            1                           68   \n",
       "2                            1                          176   \n",
       "3                            1                          194   \n",
       "4                            1                          212   \n",
       "\n",
       "   cs_order_info.csoi_use_member  cs_order_info.csoi_pay_member  \\\n",
       "0                           1513                            172   \n",
       "1                           1514                            172   \n",
       "2                           1520                            172   \n",
       "3                           1533                           1526   \n",
       "4                            605                              2   \n",
       "\n",
       "   cs_order_info.csoi_car cs_order_info.csoi_carno  \\\n",
       "0                     108                  渝D96072   \n",
       "1                      96                  渝DA3327   \n",
       "2                      93                  渝D92853   \n",
       "3                      35                  渝DB6167   \n",
       "4                      70                  渝D93215   \n",
       "\n",
       "   cs_order_info.csoi_carmodel cs_order_info.csoi_booked_taketime  ...  \\\n",
       "0                            6                2016-09-29 10:40:00  ...   \n",
       "1                            6                2016-09-29 17:20:00  ...   \n",
       "2                            6                2016-09-30 16:00:00  ...   \n",
       "3                            6                2016-10-02 15:00:00  ...   \n",
       "4                            6                2016-10-01 19:40:00  ...   \n",
       "\n",
       "  cs_order_info.csoi_settle_time  cs_order_info.csoi_booked_time  \\\n",
       "0                              0             2016-09-29 10:40:50   \n",
       "1                              0             2016-09-29 17:14:55   \n",
       "2                              0             2016-09-30 15:55:20   \n",
       "3                              0             2016-09-30 16:37:25   \n",
       "4                              0             2016-10-01 19:35:48   \n",
       "\n",
       "  cs_order_info.csoi_account_deposit_pay  \\\n",
       "0                                    NaN   \n",
       "1                                    NaN   \n",
       "2                                    NaN   \n",
       "3                                    NaN   \n",
       "4                                    NaN   \n",
       "\n",
       "  cs_order_info.csoi_preauthorization_pay  cs_order_info.csoi_bad_state  \\\n",
       "0                                     NaN                             0   \n",
       "1                                     NaN                             0   \n",
       "2                                     NaN                             0   \n",
       "3                                     NaN                             0   \n",
       "4                                     NaN                             0   \n",
       "\n",
       "   cs_order_info.csoi_fine  cs_order_info.csoi_return_any_fee  Unnamed: 49  \\\n",
       "0                      0.0                                0.0          NaN   \n",
       "1                      0.0                                0.0          NaN   \n",
       "2                      0.0                                0.0          NaN   \n",
       "3                      0.0                                0.0          NaN   \n",
       "4                      0.0                                0.0          NaN   \n",
       "\n",
       "   Unnamed: 50  Unnamed: 51  \n",
       "0          NaN          NaN  \n",
       "1          NaN          NaN  \n",
       "2          NaN          NaN  \n",
       "3          NaN          NaN  \n",
       "4          NaN          NaN  \n",
       "\n",
       "[5 rows x 52 columns]"
      ]
     },
     "execution_count": 48,
     "metadata": {},
     "output_type": "execute_result"
    }
   ],
   "source": [
    "df.head()"
   ]
  },
  {
   "cell_type": "code",
   "execution_count": 49,
   "metadata": {},
   "outputs": [],
   "source": [
    "df['cs_order_info.csoi_settle_time'] = df['cs_order_info.csoi_settle_time'].replace('>订单支付完成',0)"
   ]
  },
  {
   "cell_type": "code",
   "execution_count": 57,
   "metadata": {},
   "outputs": [
    {
     "data": {
      "text/plain": [
       "datetime.datetime(2016, 9, 29, 10, 40, 50)"
      ]
     },
     "execution_count": 57,
     "metadata": {},
     "output_type": "execute_result"
    }
   ],
   "source": [
    "df['cs_order_info.csoi_booked_time'].iloc[0]"
   ]
  },
  {
   "cell_type": "code",
   "execution_count": 58,
   "metadata": {},
   "outputs": [
    {
     "data": {
      "text/plain": [
       "Timestamp('1970-01-01 00:00:00')"
      ]
     },
     "execution_count": 58,
     "metadata": {},
     "output_type": "execute_result"
    }
   ],
   "source": []
  },
  {
   "cell_type": "code",
   "execution_count": 61,
   "metadata": {},
   "outputs": [
    {
     "data": {
      "text/plain": [
       "0        1970-01-01 00:00:00\n",
       "1        1970-01-01 00:00:00\n",
       "2        1970-01-01 00:00:00\n",
       "3        1970-01-01 00:00:00\n",
       "4        1970-01-01 00:00:00\n",
       "5        1970-01-01 00:00:00\n",
       "6        1970-01-01 00:00:00\n",
       "7        1970-01-01 00:00:00\n",
       "8        1970-01-01 00:00:00\n",
       "9        1970-01-01 00:00:00\n",
       "10       1970-01-01 00:00:00\n",
       "11       1970-01-01 00:00:00\n",
       "12       1970-01-01 00:00:00\n",
       "13       1970-01-01 00:00:00\n",
       "14       1970-01-01 00:00:00\n",
       "15       1970-01-01 00:00:00\n",
       "16       1970-01-01 00:00:00\n",
       "17       1970-01-01 00:00:00\n",
       "18       1970-01-01 00:00:00\n",
       "19       1970-01-01 00:00:00\n",
       "20       1970-01-01 00:00:00\n",
       "21       1970-01-01 00:00:00\n",
       "22       1970-01-01 00:00:00\n",
       "23       1970-01-01 00:00:00\n",
       "24       1970-01-01 00:00:00\n",
       "25       1970-01-01 00:00:00\n",
       "26       1970-01-01 00:00:00\n",
       "27       1970-01-01 00:00:00\n",
       "28       1970-01-01 00:00:00\n",
       "29       1970-01-01 00:00:00\n",
       "                 ...        \n",
       "162436   2018-06-09 17:49:40\n",
       "162437   1970-01-01 00:00:00\n",
       "162438   1970-01-01 00:00:00\n",
       "162439   2018-06-09 21:45:20\n",
       "162440   2018-06-09 21:20:42\n",
       "162441   2018-06-10 15:12:33\n",
       "162442   1970-01-01 00:00:00\n",
       "162443   2018-06-09 19:38:03\n",
       "162444   2018-06-09 19:14:54\n",
       "162445   2018-06-09 18:54:42\n",
       "162446   2018-06-09 19:01:20\n",
       "162447   2018-06-10 10:55:14\n",
       "162448   2018-06-09 19:54:23\n",
       "162449   2018-06-09 19:27:58\n",
       "162450   2018-06-09 23:17:50\n",
       "162451   2018-06-09 19:49:43\n",
       "162452   1970-01-01 00:00:00\n",
       "162453   2018-06-09 20:50:16\n",
       "162454   1970-01-01 00:00:00\n",
       "162455   1970-01-01 00:00:00\n",
       "162456   2018-06-10 19:42:47\n",
       "162457   2018-06-09 23:22:53\n",
       "162458   2018-06-09 21:33:55\n",
       "162459   2018-06-10 21:45:34\n",
       "162460   2018-06-09 22:09:14\n",
       "162461   2018-06-09 21:53:57\n",
       "162462   2018-06-09 22:19:55\n",
       "162463   2018-06-10 09:28:53\n",
       "162464   2018-06-09 23:12:22\n",
       "162465   2018-06-10 02:26:02\n",
       "Name: cs_order_info.csoi_settle_time, Length: 162466, dtype: datetime64[ns]"
      ]
     },
     "execution_count": 61,
     "metadata": {},
     "output_type": "execute_result"
    }
   ],
   "source": [
    "def change_to_datetime(row):\n",
    "    if row == 0:\n",
    "        return pd.to_datetime(row)\n",
    "    else:\n",
    "        return row\n"
   ]
  },
  {
   "cell_type": "code",
   "execution_count": 62,
   "metadata": {},
   "outputs": [],
   "source": [
    "df['cs_order_info.csoi_settle_time'] = df['cs_order_info.csoi_settle_time'].apply(change_to_datetime)"
   ]
  },
  {
   "cell_type": "code",
   "execution_count": 66,
   "metadata": {},
   "outputs": [],
   "source": [
    "df.to_excel('aaa.xlsx')"
   ]
  },
  {
   "cell_type": "code",
   "execution_count": 68,
   "metadata": {},
   "outputs": [],
   "source": [
    "import os"
   ]
  },
  {
   "cell_type": "code",
   "execution_count": 75,
   "metadata": {},
   "outputs": [],
   "source": [
    "if ~os.path.exists('temp1/'):\n",
    "    os.mkdir('temp1/')"
   ]
  },
  {
   "cell_type": "code",
   "execution_count": 7,
   "metadata": {},
   "outputs": [],
   "source": [
    "import pandas as pd \n",
    "import numpy as np"
   ]
  },
  {
   "cell_type": "code",
   "execution_count": 8,
   "metadata": {},
   "outputs": [],
   "source": [
    "df = pd.DataFrame(columns = ['a','b','c'])"
   ]
  },
  {
   "cell_type": "code",
   "execution_count": 24,
   "metadata": {},
   "outputs": [],
   "source": [
    "df3=pd.DataFrame(np.arange(16).reshape((4,4)),columns=['one','two','three','four']) \n"
   ]
  },
  {
   "cell_type": "code",
   "execution_count": 35,
   "metadata": {},
   "outputs": [
    {
     "data": {
      "text/html": [
       "<div>\n",
       "<style scoped>\n",
       "    .dataframe tbody tr th:only-of-type {\n",
       "        vertical-align: middle;\n",
       "    }\n",
       "\n",
       "    .dataframe tbody tr th {\n",
       "        vertical-align: top;\n",
       "    }\n",
       "\n",
       "    .dataframe thead th {\n",
       "        text-align: right;\n",
       "    }\n",
       "</style>\n",
       "<table border=\"1\" class=\"dataframe\">\n",
       "  <thead>\n",
       "    <tr style=\"text-align: right;\">\n",
       "      <th></th>\n",
       "      <th>one</th>\n",
       "      <th>two</th>\n",
       "      <th>three</th>\n",
       "      <th>four</th>\n",
       "      <th>count</th>\n",
       "    </tr>\n",
       "  </thead>\n",
       "  <tbody>\n",
       "    <tr>\n",
       "      <th>0</th>\n",
       "      <td>2.0</td>\n",
       "      <td>1.0</td>\n",
       "      <td>2.0</td>\n",
       "      <td>3.0</td>\n",
       "      <td>1.0</td>\n",
       "    </tr>\n",
       "    <tr>\n",
       "      <th>1</th>\n",
       "      <td>2.0</td>\n",
       "      <td>5.0</td>\n",
       "      <td>6.0</td>\n",
       "      <td>7.0</td>\n",
       "      <td>3.0</td>\n",
       "    </tr>\n",
       "    <tr>\n",
       "      <th>2</th>\n",
       "      <td>2.0</td>\n",
       "      <td>9.0</td>\n",
       "      <td>10.0</td>\n",
       "      <td>11.0</td>\n",
       "      <td>3.0</td>\n",
       "    </tr>\n",
       "    <tr>\n",
       "      <th>3</th>\n",
       "      <td>2.0</td>\n",
       "      <td>13.0</td>\n",
       "      <td>14.0</td>\n",
       "      <td>15.0</td>\n",
       "      <td>3.0</td>\n",
       "    </tr>\n",
       "    <tr>\n",
       "      <th>4</th>\n",
       "      <td>NaN</td>\n",
       "      <td>NaN</td>\n",
       "      <td>NaN</td>\n",
       "      <td>NaN</td>\n",
       "      <td>1.0</td>\n",
       "    </tr>\n",
       "  </tbody>\n",
       "</table>\n",
       "</div>"
      ],
      "text/plain": [
       "   one   two  three  four  count\n",
       "0  2.0   1.0    2.0   3.0    1.0\n",
       "1  2.0   5.0    6.0   7.0    3.0\n",
       "2  2.0   9.0   10.0  11.0    3.0\n",
       "3  2.0  13.0   14.0  15.0    3.0\n",
       "4  NaN   NaN    NaN   NaN    1.0"
      ]
     },
     "execution_count": 35,
     "metadata": {},
     "output_type": "execute_result"
    }
   ],
   "source": [
    "df3"
   ]
  },
  {
   "cell_type": "code",
   "execution_count": 26,
   "metadata": {},
   "outputs": [],
   "source": [
    "df3['one'].iloc[2] = 1"
   ]
  },
  {
   "cell_type": "code",
   "execution_count": 27,
   "metadata": {},
   "outputs": [],
   "source": [
    "df3.loc[:,'one'] = 2"
   ]
  },
  {
   "cell_type": "code",
   "execution_count": 28,
   "metadata": {},
   "outputs": [],
   "source": [
    "df3.loc[:,'count'] = 3"
   ]
  },
  {
   "cell_type": "code",
   "execution_count": 32,
   "metadata": {},
   "outputs": [],
   "source": [
    "df3.loc[0,'count'] = 1"
   ]
  },
  {
   "cell_type": "code",
   "execution_count": 37,
   "metadata": {},
   "outputs": [],
   "source": [
    "df3.index =[1,2,4,5,3]"
   ]
  },
  {
   "cell_type": "code",
   "execution_count": 38,
   "metadata": {},
   "outputs": [
    {
     "data": {
      "text/html": [
       "<div>\n",
       "<style scoped>\n",
       "    .dataframe tbody tr th:only-of-type {\n",
       "        vertical-align: middle;\n",
       "    }\n",
       "\n",
       "    .dataframe tbody tr th {\n",
       "        vertical-align: top;\n",
       "    }\n",
       "\n",
       "    .dataframe thead th {\n",
       "        text-align: right;\n",
       "    }\n",
       "</style>\n",
       "<table border=\"1\" class=\"dataframe\">\n",
       "  <thead>\n",
       "    <tr style=\"text-align: right;\">\n",
       "      <th></th>\n",
       "      <th>one</th>\n",
       "      <th>two</th>\n",
       "      <th>three</th>\n",
       "      <th>four</th>\n",
       "      <th>count</th>\n",
       "    </tr>\n",
       "  </thead>\n",
       "  <tbody>\n",
       "    <tr>\n",
       "      <th>1</th>\n",
       "      <td>2.0</td>\n",
       "      <td>1.0</td>\n",
       "      <td>2.0</td>\n",
       "      <td>3.0</td>\n",
       "      <td>1.0</td>\n",
       "    </tr>\n",
       "    <tr>\n",
       "      <th>2</th>\n",
       "      <td>2.0</td>\n",
       "      <td>5.0</td>\n",
       "      <td>6.0</td>\n",
       "      <td>7.0</td>\n",
       "      <td>3.0</td>\n",
       "    </tr>\n",
       "    <tr>\n",
       "      <th>4</th>\n",
       "      <td>2.0</td>\n",
       "      <td>9.0</td>\n",
       "      <td>10.0</td>\n",
       "      <td>11.0</td>\n",
       "      <td>3.0</td>\n",
       "    </tr>\n",
       "    <tr>\n",
       "      <th>5</th>\n",
       "      <td>2.0</td>\n",
       "      <td>13.0</td>\n",
       "      <td>14.0</td>\n",
       "      <td>15.0</td>\n",
       "      <td>3.0</td>\n",
       "    </tr>\n",
       "    <tr>\n",
       "      <th>3</th>\n",
       "      <td>NaN</td>\n",
       "      <td>NaN</td>\n",
       "      <td>NaN</td>\n",
       "      <td>NaN</td>\n",
       "      <td>1.0</td>\n",
       "    </tr>\n",
       "  </tbody>\n",
       "</table>\n",
       "</div>"
      ],
      "text/plain": [
       "   one   two  three  four  count\n",
       "1  2.0   1.0    2.0   3.0    1.0\n",
       "2  2.0   5.0    6.0   7.0    3.0\n",
       "4  2.0   9.0   10.0  11.0    3.0\n",
       "5  2.0  13.0   14.0  15.0    3.0\n",
       "3  NaN   NaN    NaN   NaN    1.0"
      ]
     },
     "execution_count": 38,
     "metadata": {},
     "output_type": "execute_result"
    }
   ],
   "source": [
    "df3"
   ]
  },
  {
   "cell_type": "code",
   "execution_count": 46,
   "metadata": {},
   "outputs": [
    {
     "data": {
      "text/plain": [
       "True"
      ]
     },
     "execution_count": 46,
     "metadata": {},
     "output_type": "execute_result"
    }
   ],
   "source": [
    "df3.loc[3,'count'] == 5.0"
   ]
  },
  {
   "cell_type": "code",
   "execution_count": 43,
   "metadata": {},
   "outputs": [
    {
     "data": {
      "text/plain": [
       "4"
      ]
     },
     "execution_count": 43,
     "metadata": {},
     "output_type": "execute_result"
    }
   ],
   "source": [
    "df3.index[2]"
   ]
  },
  {
   "cell_type": "code",
   "execution_count": 51,
   "metadata": {},
   "outputs": [],
   "source": [
    "from tqdm import tqdm"
   ]
  },
  {
   "cell_type": "code",
   "execution_count": 52,
   "metadata": {},
   "outputs": [
    {
     "name": "stderr",
     "output_type": "stream",
     "text": [
      "  0%|                                                                                           | 0/10 [00:00<?, ?it/s]"
     ]
    },
    {
     "name": "stdout",
     "output_type": "stream",
     "text": [
      "0\n",
      "1\n",
      "2\n",
      "3\n",
      "4\n",
      "5\n",
      "6\n",
      "7\n",
      "8\n",
      "9\n"
     ]
    },
    {
     "name": "stderr",
     "output_type": "stream",
     "text": [
      "100%|█████████████████████████████████████████████████████████████████████████████████| 10/10 [00:00<00:00, 714.67it/s]\n"
     ]
    }
   ],
   "source": [
    "for i in tqdm(range(10)):\n",
    "    print(i)"
   ]
  },
  {
   "cell_type": "code",
   "execution_count": null,
   "metadata": {},
   "outputs": [],
   "source": []
  }
 ],
 "metadata": {
  "kernelspec": {
   "display_name": "Python 3",
   "language": "python",
   "name": "python3"
  },
  "language_info": {
   "codemirror_mode": {
    "name": "ipython",
    "version": 3
   },
   "file_extension": ".py",
   "mimetype": "text/x-python",
   "name": "python",
   "nbconvert_exporter": "python",
   "pygments_lexer": "ipython3",
   "version": "3.6.7"
  }
 },
 "nbformat": 4,
 "nbformat_minor": 2
}
