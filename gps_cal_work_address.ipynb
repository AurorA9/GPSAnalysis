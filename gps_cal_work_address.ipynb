{
 "cells": [
  {
   "cell_type": "code",
   "execution_count": 39,
   "metadata": {},
   "outputs": [],
   "source": [
    "import pandas as pd\n",
    "import numpy as np\n",
    "import matplotlib.pyplot as plt\n",
    "%matplotlib inline\n",
    "from sklearn.cluster import KMeans\n",
    "from scipy.spatial.distance import squareform\n",
    "from scipy.spatial.distance import pdist\n",
    "from sklearn.cluster import DBSCAN\n",
    "from sklearn.neighbors import KernelDensity\n",
    "import seaborn as sns\n",
    "import math"
   ]
  },
  {
   "cell_type": "code",
   "execution_count": 40,
   "metadata": {},
   "outputs": [
    {
     "data": {
      "text/plain": [
       "(911, 22)"
      ]
     },
     "execution_count": 40,
     "metadata": {},
     "output_type": "execute_result"
    }
   ],
   "source": [
    "filename = '0f20c52c24764413a7072e1fd034b2b4.xls'\n",
    "df = pd.read_excel(filename)\n",
    "df.shape\n",
    "df = df[df['weekday'].isin(list(range(1,6)))]\n",
    "df.shape"
   ]
  },
  {
   "cell_type": "code",
   "execution_count": 41,
   "metadata": {},
   "outputs": [
    {
     "data": {
      "text/plain": [
       "213"
      ]
     },
     "execution_count": 41,
     "metadata": {},
     "output_type": "execute_result"
    }
   ],
   "source": [
    "len(set(df['datetime']))"
   ]
  },
  {
   "cell_type": "code",
   "execution_count": 42,
   "metadata": {},
   "outputs": [],
   "source": [
    "#df['start_address_name'].value_counts()\n",
    "def get_gps_poi(gps_poi,poi):\n",
    "    return float(gps_poi.split(',')[poi])"
   ]
  },
  {
   "cell_type": "code",
   "execution_count": 43,
   "metadata": {},
   "outputs": [],
   "source": [
    "# address_gps = []\n",
    "# address_gps.append(df.iloc[0]['start_gps_poi'])\n",
    "# for i in range(1,df.shape[0]):\n",
    "#     if df.iloc[i]['datetime'] == df.iloc[i-1]['datetime']:\n",
    "#         address_gps.append(df.iloc[i]['start_gps_poi'])\n",
    "#         address_gps.append(df.iloc[i-1]['end_gps_poi'])\n",
    "# address_gps.append(df.iloc[0]['end_gps_poi'])"
   ]
  },
  {
   "cell_type": "code",
   "execution_count": 44,
   "metadata": {},
   "outputs": [],
   "source": [
    "end_address_gps = []\n",
    "for i in range(1, df.shape[0]):\n",
    "    if df['datetime'].iloc[i] != df['datetime'].iloc[i - 1]:\n",
    "        continue\n",
    "    else:\n",
    "        # 获取上次的终止地址的GPS信息\n",
    "        last_x = get_gps_poi(df['end_gps_poi'].iloc[i - 1], 0)\n",
    "        last_y = get_gps_poi(df['end_gps_poi'].iloc[i - 1], 1)\n",
    "        # 获取当前开始地址的GPS信息\n",
    "        now_x = get_gps_poi(df['start_gps_poi'].iloc[i], 0)\n",
    "        now_y = get_gps_poi(df['start_gps_poi'].iloc[i], 1)\n",
    "\n",
    "        diff_time = df['start_time'].iloc[i] - pd.to_datetime(df['end_time'].iloc[i - 1])\n",
    "        hours = int(str(diff_time).split(' ')[2].split(':')[0])\n",
    "        minues = int(str(diff_time).split(' ')[2].split(':')[1])\n",
    "        all_minues = hours * 60 + minues\n",
    "        # 间隔小于100米 且时间超过200分钟，进行记录\n",
    "        if pow((now_x - last_x) ** 2 + (now_y - last_y) ** 2, 0.5) < 0.001 and all_minues >= 200:\n",
    "            end_address_gps.append(df.iloc[i]['start_gps_poi'])"
   ]
  },
  {
   "cell_type": "code",
   "execution_count": 45,
   "metadata": {},
   "outputs": [
    {
     "data": {
      "text/plain": [
       "127"
      ]
     },
     "execution_count": 45,
     "metadata": {},
     "output_type": "execute_result"
    }
   ],
   "source": [
    "len(end_address_gps)"
   ]
  },
  {
   "cell_type": "code",
   "execution_count": 69,
   "metadata": {},
   "outputs": [
    {
     "data": {
      "text/plain": [
       "127"
      ]
     },
     "execution_count": 69,
     "metadata": {},
     "output_type": "execute_result"
    }
   ],
   "source": [
    "pointsList = []\n",
    "for item in end_address_gps:\n",
    "    point = []\n",
    "    x =get_gps_poi(item,0)\n",
    "    y =get_gps_poi(item,1)\n",
    "    point.append(x)\n",
    "    point.append(y)\n",
    "    pointsList.append(point)    \n",
    "#pointsList\n",
    "len(pointsList)"
   ]
  },
  {
   "cell_type": "code",
   "execution_count": 47,
   "metadata": {},
   "outputs": [],
   "source": [
    "pointsList1 = []\n",
    "dict_a = {}\n",
    "for item in end_address_gps:\n",
    "    point = []\n",
    "    point.append(float(item.split(',')[0]))\n",
    "    point.append(float(item.split(',')[1]))\n",
    "    point.append(1)\n",
    "    pointsList1.append(point)     \n",
    "with open('a.txt','w') as f:\n",
    "    f.write(str(pointsList1))"
   ]
  },
  {
   "cell_type": "code",
   "execution_count": 48,
   "metadata": {},
   "outputs": [
    {
     "data": {
      "text/plain": [
       "array([115.8533333,  28.7493333])"
      ]
     },
     "execution_count": 48,
     "metadata": {},
     "output_type": "execute_result"
    }
   ],
   "source": [
    "xy = np.array(pointsList)\n",
    "#xy[:,0]\n",
    "xy[0,:]"
   ]
  },
  {
   "cell_type": "code",
   "execution_count": 49,
   "metadata": {},
   "outputs": [
    {
     "data": {
      "text/plain": [
       "array([115.8533333, 115.9061666, 115.8536666, 115.8535   , 115.8535   ,\n",
       "       115.8533333, 115.9538333, 115.8533333, 115.817    , 115.8165   ,\n",
       "       115.8541666, 115.9144999, 115.8538333, 115.8443333, 115.9306666,\n",
       "       115.8531666, 115.9301666, 115.8535   , 115.8536666, 115.818    ,\n",
       "       115.7773333, 115.6968333, 115.8178333, 115.9144999, 115.8178333,\n",
       "       115.8833333, 115.9141666, 115.9141666, 115.8376666, 115.8358333,\n",
       "       115.9218333, 115.9221666, 115.8181666, 115.8329999, 115.9223333,\n",
       "       115.9218333, 115.922    , 115.9218333, 115.9221666, 115.922    ,\n",
       "       115.922    , 115.9216666, 115.9218333, 115.9223333, 115.9225   ,\n",
       "       115.9225   , 115.9225   , 115.9221666, 115.9225   , 115.9225   ,\n",
       "       115.9226666, 115.9216666, 115.922    , 115.9223333, 115.9141666,\n",
       "       115.8256666, 115.818    , 115.818    , 115.8178333, 116.0109999,\n",
       "       116.0113333, 116.0111666, 116.0105   , 115.9385   , 116.0109999,\n",
       "       116.0108333, 116.0108333, 116.0111666, 116.0108333, 116.0109999,\n",
       "       116.0111666, 116.0115   , 116.0109999, 116.0109999, 116.0111666,\n",
       "       116.0113333, 116.0101666, 116.0101666, 116.0101666, 116.0115   ,\n",
       "       116.0101666, 116.0115   , 116.0101666, 116.0113333, 115.9141666,\n",
       "       116.0128333, 116.0101666, 115.9143333, 116.0118333, 115.9141666,\n",
       "       115.9141666, 116.0116666, 115.9143333, 115.9141666, 115.8329999,\n",
       "       115.835    , 115.9125   , 115.9133333, 115.8178333, 115.8329999,\n",
       "       115.818    , 115.9128333, 115.9143333, 115.8328333, 115.9339999,\n",
       "       115.9339999, 115.9336666, 115.9144999, 115.9338333, 115.883    ,\n",
       "       115.782    , 115.7823333, 115.9148333, 115.9001666, 115.786    ,\n",
       "       115.786    , 115.787    , 115.7866666, 115.9578333, 115.7838333,\n",
       "       115.7831666, 115.7808333, 115.81     , 115.9141666, 115.781    ,\n",
       "       115.81     , 115.782    ])"
      ]
     },
     "execution_count": 49,
     "metadata": {},
     "output_type": "execute_result"
    }
   ],
   "source": [
    "xy[:,0]"
   ]
  },
  {
   "cell_type": "code",
   "execution_count": 50,
   "metadata": {},
   "outputs": [],
   "source": [
    "X = pd.DataFrame(\n",
    "        {\n",
    "         \"lng\": xy[:,0],\n",
    "         \"lat\": xy[:,1]\n",
    "        })\n",
    "#X\n",
    "# X.describe()"
   ]
  },
  {
   "cell_type": "code",
   "execution_count": 51,
   "metadata": {},
   "outputs": [
    {
     "data": {
      "text/html": [
       "<div>\n",
       "<style scoped>\n",
       "    .dataframe tbody tr th:only-of-type {\n",
       "        vertical-align: middle;\n",
       "    }\n",
       "\n",
       "    .dataframe tbody tr th {\n",
       "        vertical-align: top;\n",
       "    }\n",
       "\n",
       "    .dataframe thead th {\n",
       "        text-align: right;\n",
       "    }\n",
       "</style>\n",
       "<table border=\"1\" class=\"dataframe\">\n",
       "  <thead>\n",
       "    <tr style=\"text-align: right;\">\n",
       "      <th></th>\n",
       "      <th>lng</th>\n",
       "      <th>lat</th>\n",
       "    </tr>\n",
       "  </thead>\n",
       "  <tbody>\n",
       "    <tr>\n",
       "      <th>0</th>\n",
       "      <td>115.853333</td>\n",
       "      <td>28.749333</td>\n",
       "    </tr>\n",
       "    <tr>\n",
       "      <th>1</th>\n",
       "      <td>115.906167</td>\n",
       "      <td>28.593000</td>\n",
       "    </tr>\n",
       "    <tr>\n",
       "      <th>2</th>\n",
       "      <td>115.853667</td>\n",
       "      <td>28.749000</td>\n",
       "    </tr>\n",
       "    <tr>\n",
       "      <th>3</th>\n",
       "      <td>115.853500</td>\n",
       "      <td>28.749333</td>\n",
       "    </tr>\n",
       "    <tr>\n",
       "      <th>4</th>\n",
       "      <td>115.853500</td>\n",
       "      <td>28.749333</td>\n",
       "    </tr>\n",
       "    <tr>\n",
       "      <th>5</th>\n",
       "      <td>115.853333</td>\n",
       "      <td>28.749167</td>\n",
       "    </tr>\n",
       "    <tr>\n",
       "      <th>6</th>\n",
       "      <td>115.953833</td>\n",
       "      <td>28.663500</td>\n",
       "    </tr>\n",
       "    <tr>\n",
       "      <th>7</th>\n",
       "      <td>115.853333</td>\n",
       "      <td>28.749333</td>\n",
       "    </tr>\n",
       "    <tr>\n",
       "      <th>8</th>\n",
       "      <td>115.817000</td>\n",
       "      <td>28.683000</td>\n",
       "    </tr>\n",
       "    <tr>\n",
       "      <th>9</th>\n",
       "      <td>115.816500</td>\n",
       "      <td>28.682667</td>\n",
       "    </tr>\n",
       "  </tbody>\n",
       "</table>\n",
       "</div>"
      ],
      "text/plain": [
       "          lng        lat\n",
       "0  115.853333  28.749333\n",
       "1  115.906167  28.593000\n",
       "2  115.853667  28.749000\n",
       "3  115.853500  28.749333\n",
       "4  115.853500  28.749333\n",
       "5  115.853333  28.749167\n",
       "6  115.953833  28.663500\n",
       "7  115.853333  28.749333\n",
       "8  115.817000  28.683000\n",
       "9  115.816500  28.682667"
      ]
     },
     "execution_count": 51,
     "metadata": {},
     "output_type": "execute_result"
    }
   ],
   "source": [
    "X[:10]"
   ]
  },
  {
   "cell_type": "code",
   "execution_count": 52,
   "metadata": {},
   "outputs": [],
   "source": [
    "#re.labels_"
   ]
  },
  {
   "cell_type": "code",
   "execution_count": 53,
   "metadata": {},
   "outputs": [],
   "source": [
    "#dir(re)"
   ]
  },
  {
   "cell_type": "code",
   "execution_count": 54,
   "metadata": {},
   "outputs": [
    {
     "data": {
      "text/plain": [
       "<Figure size 3600x3600 with 0 Axes>"
      ]
     },
     "metadata": {},
     "output_type": "display_data"
    }
   ],
   "source": [
    "fig =plt.figure(figsize=(50,50))"
   ]
  },
  {
   "cell_type": "code",
   "execution_count": 55,
   "metadata": {},
   "outputs": [
    {
     "data": {
      "image/png": "[encoded data removed]",
      "text/plain": [
       "<Figure size 432x288 with 1 Axes>"
      ]
     },
     "metadata": {
      "needs_background": "light"
     },
     "output_type": "display_data"
    }
   ],
   "source": [
    "plt.scatter(xy[:,0],xy[:,1],s=0.01)\n",
    "plt.locator_params(nbins = 100)"
   ]
  },
  {
   "cell_type": "code",
   "execution_count": 56,
   "metadata": {},
   "outputs": [],
   "source": [
    "def haversine(lonlat1, lonlat2):\n",
    "    lon1, lat1  = lonlat1\n",
    "    lon2, lat2= lonlat2\n",
    "    lon1, lat1, lon2, lat2 = map(math.radians, [lon1, lat1, lon2, lat2])\n",
    "\n",
    "    dlon = lon2 - lon1\n",
    "    dlat = lat2 - lat1\n",
    "    a = math.sin(dlat / 2) ** 2 + math.cos(lat1) * math.cos(lat2) * math.sin(dlon / 2) ** 2\n",
    "    c = 2 * math.asin(math.sqrt(a))\n",
    "    r = 6371  # Radius of earth in kilometers. Use 3956 for miles\n",
    "    return c * r *1000\n"
   ]
  },
  {
   "cell_type": "code",
   "execution_count": 57,
   "metadata": {},
   "outputs": [
    {
     "data": {
      "text/plain": [
       "111.19492664426889"
      ]
     },
     "execution_count": 57,
     "metadata": {},
     "output_type": "execute_result"
    }
   ],
   "source": [
    "haversine([116.456, 39.921],[116.456, 39.920])"
   ]
  },
  {
   "cell_type": "code",
   "execution_count": 58,
   "metadata": {},
   "outputs": [
    {
     "data": {
      "text/plain": [
       "array([[  0.       , 111.1271897, 222.2543794, 222.2543794],\n",
       "       [111.1271897,   0.       , 111.1271897, 111.1271897],\n",
       "       [222.2543794, 111.1271897,   0.       ,   0.       ],\n",
       "       [222.2543794, 111.1271897,   0.       ,   0.       ]])"
      ]
     },
     "execution_count": 58,
     "metadata": {},
     "output_type": "execute_result"
    }
   ],
   "source": [
    "Y=[[1.001,2.000],[1.002,2.000],[1.003,2.000],[1.003,2.000]]\n",
    "squareform(pdist(Y, (lambda u, v: haversine(u, v))))"
   ]
  },
  {
   "cell_type": "code",
   "execution_count": 59,
   "metadata": {},
   "outputs": [],
   "source": [
    "X = pd.DataFrame(\n",
    "        {\n",
    "         \"lng\": xy[:,0],\n",
    "         \"lat\": xy[:,1]\n",
    "        })\n",
    "def clustering_by_dbscan():\n",
    "    \n",
    "    distance_matrix = squareform(pdist(X, (lambda u, v: haversine(u, v))))\n",
    "    # 2代表两公里  \n",
    "    db = DBSCAN(eps=100, min_samples=5, metric='precomputed')  \n",
    "    y_db = db.fit_predict(distance_matrix)\n",
    "    X['cluster'] = y_db\n",
    "    plt.scatter(X['lng'], X['lat'], c=X['cluster'])\n",
    "    plt.show()\n",
    "#X['cluster'].value_counts()\n"
   ]
  },
  {
   "cell_type": "code",
   "execution_count": 60,
   "metadata": {},
   "outputs": [
    {
     "data": {
      "text/html": [
       "<div>\n",
       "<style scoped>\n",
       "    .dataframe tbody tr th:only-of-type {\n",
       "        vertical-align: middle;\n",
       "    }\n",
       "\n",
       "    .dataframe tbody tr th {\n",
       "        vertical-align: top;\n",
       "    }\n",
       "\n",
       "    .dataframe thead th {\n",
       "        text-align: right;\n",
       "    }\n",
       "</style>\n",
       "<table border=\"1\" class=\"dataframe\">\n",
       "  <thead>\n",
       "    <tr style=\"text-align: right;\">\n",
       "      <th></th>\n",
       "      <th>lng</th>\n",
       "      <th>lat</th>\n",
       "    </tr>\n",
       "  </thead>\n",
       "  <tbody>\n",
       "    <tr>\n",
       "      <th>0</th>\n",
       "      <td>115.853333</td>\n",
       "      <td>28.749333</td>\n",
       "    </tr>\n",
       "    <tr>\n",
       "      <th>1</th>\n",
       "      <td>115.906167</td>\n",
       "      <td>28.593000</td>\n",
       "    </tr>\n",
       "    <tr>\n",
       "      <th>2</th>\n",
       "      <td>115.853667</td>\n",
       "      <td>28.749000</td>\n",
       "    </tr>\n",
       "    <tr>\n",
       "      <th>3</th>\n",
       "      <td>115.853500</td>\n",
       "      <td>28.749333</td>\n",
       "    </tr>\n",
       "    <tr>\n",
       "      <th>4</th>\n",
       "      <td>115.853500</td>\n",
       "      <td>28.749333</td>\n",
       "    </tr>\n",
       "  </tbody>\n",
       "</table>\n",
       "</div>"
      ],
      "text/plain": [
       "          lng        lat\n",
       "0  115.853333  28.749333\n",
       "1  115.906167  28.593000\n",
       "2  115.853667  28.749000\n",
       "3  115.853500  28.749333\n",
       "4  115.853500  28.749333"
      ]
     },
     "execution_count": 60,
     "metadata": {},
     "output_type": "execute_result"
    }
   ],
   "source": [
    "X.head()"
   ]
  },
  {
   "cell_type": "code",
   "execution_count": 61,
   "metadata": {},
   "outputs": [
    {
     "data": {
      "image/png": "[encoded data removed]",
      "text/plain": [
       "<Figure size 432x288 with 1 Axes>"
      ]
     },
     "metadata": {
      "needs_background": "light"
     },
     "output_type": "display_data"
    }
   ],
   "source": [
    "clustering_by_dbscan()"
   ]
  },
  {
   "cell_type": "code",
   "execution_count": 62,
   "metadata": {},
   "outputs": [
    {
     "data": {
      "text/plain": [
       "-1"
      ]
     },
     "execution_count": 62,
     "metadata": {},
     "output_type": "execute_result"
    }
   ],
   "source": [
    "cluster = X['cluster'].value_counts().keys()[0]\n",
    "cluster"
   ]
  },
  {
   "cell_type": "code",
   "execution_count": 63,
   "metadata": {},
   "outputs": [
    {
     "data": {
      "text/plain": [
       "4"
      ]
     },
     "execution_count": 63,
     "metadata": {},
     "output_type": "execute_result"
    }
   ],
   "source": [
    " i = 0\n",
    "# 获取结果最多的簇类型\n",
    "cluster = X['cluster'].value_counts().keys()[i]\n",
    "# -1为离群点 无用,选择下一个\n",
    "if cluster == -1:\n",
    "    i += 1\n",
    "    cluster = X['cluster'].value_counts().keys()[i]\n",
    "cluster"
   ]
  },
  {
   "cell_type": "code",
   "execution_count": 64,
   "metadata": {},
   "outputs": [
    {
     "data": {
      "text/plain": [
       "-1    39\n",
       " 4    28\n",
       " 3    22\n",
       " 1    18\n",
       " 0    11\n",
       " 2     9\n",
       "Name: cluster, dtype: int64"
      ]
     },
     "execution_count": 64,
     "metadata": {},
     "output_type": "execute_result"
    }
   ],
   "source": [
    "X['cluster'].value_counts()\n"
   ]
  },
  {
   "cell_type": "code",
   "execution_count": 65,
   "metadata": {},
   "outputs": [
    {
     "data": {
      "text/plain": [
       "39"
      ]
     },
     "execution_count": 65,
     "metadata": {},
     "output_type": "execute_result"
    }
   ],
   "source": [
    "len(X[X['cluster'] == -1])"
   ]
  },
  {
   "cell_type": "code",
   "execution_count": 66,
   "metadata": {},
   "outputs": [
    {
     "data": {
      "text/plain": [
       "0.30708661417322836"
      ]
     },
     "execution_count": 66,
     "metadata": {},
     "output_type": "execute_result"
    }
   ],
   "source": [
    "X['cluster'].value_counts().values[0]/X.shape[0]"
   ]
  },
  {
   "cell_type": "code",
   "execution_count": 67,
   "metadata": {},
   "outputs": [
    {
     "data": {
      "text/plain": [
       "28.676333    12\n",
       "28.676000     7\n",
       "28.676167     6\n",
       "28.676667     1\n",
       "28.676500     1\n",
       "28.675500     1\n",
       "Name: lat, dtype: int64"
      ]
     },
     "execution_count": 67,
     "metadata": {},
     "output_type": "execute_result"
    }
   ],
   "source": [
    "X[X['cluster'] == cluster]['lat'].value_counts()"
   ]
  },
  {
   "cell_type": "code",
   "execution_count": 71,
   "metadata": {},
   "outputs": [
    {
     "data": {
      "text/html": [
       "<div>\n",
       "<style scoped>\n",
       "    .dataframe tbody tr th:only-of-type {\n",
       "        vertical-align: middle;\n",
       "    }\n",
       "\n",
       "    .dataframe tbody tr th {\n",
       "        vertical-align: top;\n",
       "    }\n",
       "\n",
       "    .dataframe thead th {\n",
       "        text-align: right;\n",
       "    }\n",
       "</style>\n",
       "<table border=\"1\" class=\"dataframe\">\n",
       "  <thead>\n",
       "    <tr style=\"text-align: right;\">\n",
       "      <th></th>\n",
       "      <th></th>\n",
       "      <th>cluster</th>\n",
       "      <th>count</th>\n",
       "    </tr>\n",
       "    <tr>\n",
       "      <th>lat</th>\n",
       "      <th>lng</th>\n",
       "      <th></th>\n",
       "      <th></th>\n",
       "    </tr>\n",
       "  </thead>\n",
       "  <tbody>\n",
       "    <tr>\n",
       "      <th>28.675500</th>\n",
       "      <th>116.010500</th>\n",
       "      <td>4</td>\n",
       "      <td>1</td>\n",
       "    </tr>\n",
       "    <tr>\n",
       "      <th rowspan=\"4\" valign=\"top\">28.676000</th>\n",
       "      <th>116.010167</th>\n",
       "      <td>12</td>\n",
       "      <td>3</td>\n",
       "    </tr>\n",
       "    <tr>\n",
       "      <th>116.010833</th>\n",
       "      <td>8</td>\n",
       "      <td>2</td>\n",
       "    </tr>\n",
       "    <tr>\n",
       "      <th>116.011000</th>\n",
       "      <td>4</td>\n",
       "      <td>1</td>\n",
       "    </tr>\n",
       "    <tr>\n",
       "      <th>116.011167</th>\n",
       "      <td>4</td>\n",
       "      <td>1</td>\n",
       "    </tr>\n",
       "    <tr>\n",
       "      <th rowspan=\"5\" valign=\"top\">28.676167</th>\n",
       "      <th>116.010167</th>\n",
       "      <td>4</td>\n",
       "      <td>1</td>\n",
       "    </tr>\n",
       "    <tr>\n",
       "      <th>116.010833</th>\n",
       "      <td>4</td>\n",
       "      <td>1</td>\n",
       "    </tr>\n",
       "    <tr>\n",
       "      <th>116.011000</th>\n",
       "      <td>8</td>\n",
       "      <td>2</td>\n",
       "    </tr>\n",
       "    <tr>\n",
       "      <th>116.011833</th>\n",
       "      <td>4</td>\n",
       "      <td>1</td>\n",
       "    </tr>\n",
       "    <tr>\n",
       "      <th>116.012833</th>\n",
       "      <td>4</td>\n",
       "      <td>1</td>\n",
       "    </tr>\n",
       "    <tr>\n",
       "      <th rowspan=\"6\" valign=\"top\">28.676333</th>\n",
       "      <th>116.010167</th>\n",
       "      <td>8</td>\n",
       "      <td>2</td>\n",
       "    </tr>\n",
       "    <tr>\n",
       "      <th>116.011000</th>\n",
       "      <td>8</td>\n",
       "      <td>2</td>\n",
       "    </tr>\n",
       "    <tr>\n",
       "      <th>116.011167</th>\n",
       "      <td>12</td>\n",
       "      <td>3</td>\n",
       "    </tr>\n",
       "    <tr>\n",
       "      <th>116.011333</th>\n",
       "      <td>12</td>\n",
       "      <td>3</td>\n",
       "    </tr>\n",
       "    <tr>\n",
       "      <th>116.011500</th>\n",
       "      <td>4</td>\n",
       "      <td>1</td>\n",
       "    </tr>\n",
       "    <tr>\n",
       "      <th>116.011667</th>\n",
       "      <td>4</td>\n",
       "      <td>1</td>\n",
       "    </tr>\n",
       "    <tr>\n",
       "      <th>28.676500</th>\n",
       "      <th>116.011500</th>\n",
       "      <td>4</td>\n",
       "      <td>1</td>\n",
       "    </tr>\n",
       "    <tr>\n",
       "      <th>28.676667</th>\n",
       "      <th>116.011500</th>\n",
       "      <td>4</td>\n",
       "      <td>1</td>\n",
       "    </tr>\n",
       "  </tbody>\n",
       "</table>\n",
       "</div>"
      ],
      "text/plain": [
       "                      cluster  count\n",
       "lat       lng                       \n",
       "28.675500 116.010500        4      1\n",
       "28.676000 116.010167       12      3\n",
       "          116.010833        8      2\n",
       "          116.011000        4      1\n",
       "          116.011167        4      1\n",
       "28.676167 116.010167        4      1\n",
       "          116.010833        4      1\n",
       "          116.011000        8      2\n",
       "          116.011833        4      1\n",
       "          116.012833        4      1\n",
       "28.676333 116.010167        8      2\n",
       "          116.011000        8      2\n",
       "          116.011167       12      3\n",
       "          116.011333       12      3\n",
       "          116.011500        4      1\n",
       "          116.011667        4      1\n",
       "28.676500 116.011500        4      1\n",
       "28.676667 116.011500        4      1"
      ]
     },
     "execution_count": 71,
     "metadata": {},
     "output_type": "execute_result"
    }
   ],
   "source": [
    "X['count'] = 1\n",
    "xx = X[X['cluster'] == cluster].groupby(['lat','lng']).sum()\n",
    "\n",
    "xx"
   ]
  },
  {
   "cell_type": "code",
   "execution_count": 31,
   "metadata": {},
   "outputs": [
    {
     "data": {
      "text/plain": [
       "(119.67116659999999, 30.616833299999996)"
      ]
     },
     "execution_count": 31,
     "metadata": {},
     "output_type": "execute_result"
    }
   ],
   "source": [
    "yy = xx.reset_index()\n",
    "\n",
    "df_ = yy[yy['count'] == max(yy['count'])]\n",
    "res_lng =df_['lng'].iloc[0]\n",
    "res_lat = df_['lat'].iloc[0]\n",
    "res_lng,res_lat"
   ]
  },
  {
   "cell_type": "code",
   "execution_count": 32,
   "metadata": {},
   "outputs": [
    {
     "data": {
      "text/plain": [
       "119.6713240277778"
      ]
     },
     "execution_count": 32,
     "metadata": {},
     "output_type": "execute_result"
    }
   ],
   "source": [
    "X[X['cluster'] == cluster]['lng'].mean()"
   ]
  },
  {
   "cell_type": "code",
   "execution_count": 33,
   "metadata": {},
   "outputs": [
    {
     "data": {
      "text/plain": [
       "30.61683329999999"
      ]
     },
     "execution_count": 33,
     "metadata": {},
     "output_type": "execute_result"
    }
   ],
   "source": [
    "X[X['cluster'] == cluster]['lat'].mean()"
   ]
  },
  {
   "cell_type": "code",
   "execution_count": 34,
   "metadata": {},
   "outputs": [
    {
     "data": {
      "text/plain": [
       "(120.12049999999999, 29.338833300000005)"
      ]
     },
     "execution_count": 34,
     "metadata": {},
     "output_type": "execute_result"
    }
   ],
   "source": [
    "120.12049999999999,29.338833300000005"
   ]
  },
  {
   "cell_type": "code",
   "execution_count": 35,
   "metadata": {},
   "outputs": [
    {
     "data": {
      "text/plain": [
       "<matplotlib.axes._subplots.AxesSubplot at 0x1f6f344ccf8>"
      ]
     },
     "execution_count": 35,
     "metadata": {},
     "output_type": "execute_result"
    },
    {
     "data": {
      "image/png": "[encoded data removed]",
      "text/plain": [
       "<Figure size 432x288 with 1 Axes>"
      ]
     },
     "metadata": {
      "needs_background": "light"
     },
     "output_type": "display_data"
    }
   ],
   "source": [
    "#sns.jointplot(x='lng', y='lat', data=X,)\n",
    "#sns.kdeplot(X['lng'], shade=True)   \n",
    "sns.kdeplot(X['lat'], shade=True)   "
   ]
  },
  {
   "cell_type": "code",
   "execution_count": 36,
   "metadata": {},
   "outputs": [
    {
     "data": {
      "text/plain": [
       "<seaborn.axisgrid.PairGrid at 0x1f6f54d8f28>"
      ]
     },
     "execution_count": 36,
     "metadata": {},
     "output_type": "execute_result"
    },
    {
     "data": {
      "image/png": "[encoded data removed]",
      "text/plain": [
       "<Figure size 406x360 with 6 Axes>"
      ]
     },
     "metadata": {
      "needs_background": "light"
     },
     "output_type": "display_data"
    }
   ],
   "source": [
    "sns.pairplot(X,vars = ['lng','lat'],hue=\"cluster\")"
   ]
  },
  {
   "cell_type": "code",
   "execution_count": 37,
   "metadata": {},
   "outputs": [],
   "source": [
    "'''calculate the density, and return the max-density position'''\n",
    "def kernel_density(x, y, typename):\n",
    "    x_min = min(x)\n",
    "    x_max = max(x)\n",
    "    y_min = min(y)\n",
    "    y_max = max(y)\n",
    "    xx = list(zip(x, y))\n",
    "    kde = KernelDensity(kernel='gaussian', bandwidth=0.1, algorithm='kd_tree').fit(xx)\n",
    "    log_dens = kde.score_samples(xx)\n",
    "    z = np.exp(log_dens).tolist()\n",
    "    max_poi = z.index(max(z))\n",
    "#     print(xx[z.index(max(z))])\n",
    "    max_lon = x[max_poi]\n",
    "    max_lat = y[max_poi]\n",
    "#     fig1 = pl.figure()\n",
    "#     ax1 = fig1.gca()\n",
    "#     ax1.set_xlim(x_min, x_max)\n",
    "#     ax1.set_ylim(y_min, y_max)\n",
    "#     ax1.scatter(x, y, c=z, cmap='Blues')\n",
    "#     ax1.scatter(x[max_poi], y[max_poi],marker='p', c='r')\n",
    "# #     ax1.imshow(np.rot90(z), cmap = 'Blues', extent=[x_min, x_max, y_min, y_max])\n",
    "# #     cset = ax1.contour(x, y, z, colors='k')\n",
    "# #     ax1.clabel(cset, inline = 1, fontsize=10)\n",
    "#     ax1.set_xlabel('lontitude')\n",
    "#     ax1.set_ylabel('latitude')\n",
    "#     filename = typename+' gkde1.jpg'\n",
    "#     pl.savefig(filename)\n",
    "    return max_lon, max_lat"
   ]
  },
  {
   "cell_type": "code",
   "execution_count": 38,
   "metadata": {},
   "outputs": [
    {
     "data": {
      "text/plain": [
       "(119.67116659999999, 30.616666600000002)"
      ]
     },
     "execution_count": 38,
     "metadata": {},
     "output_type": "execute_result"
    }
   ],
   "source": [
    "kernel_density(xy[:,0],xy[:,1],'a')"
   ]
  },
  {
   "cell_type": "code",
   "execution_count": 131,
   "metadata": {},
   "outputs": [
    {
     "data": {
      "text/plain": [
       "{'status': 0,\n",
       " 'result': {'location': {'lng': 115.52883329999992, 'lat': 37.99433334099502},\n",
       "  'formatted_address': '河北省衡水市深州市',\n",
       "  'business': '',\n",
       "  'addressComponent': {'country': '中国',\n",
       "   'country_code': 0,\n",
       "   'country_code_iso': 'CHN',\n",
       "   'country_code_iso2': 'CN',\n",
       "   'province': '河北省',\n",
       "   'city': '衡水市',\n",
       "   'city_level': 2,\n",
       "   'district': '深州市',\n",
       "   'town': '',\n",
       "   'adcode': '131182',\n",
       "   'street': '',\n",
       "   'street_number': '',\n",
       "   'direction': '',\n",
       "   'distance': ''},\n",
       "  'pois': [],\n",
       "  'roads': [],\n",
       "  'poiRegions': [],\n",
       "  'sematic_description': '深州市隆利达挂车有限公司南534米',\n",
       "  'cityCode': 208}}"
      ]
     },
     "execution_count": 131,
     "metadata": {},
     "output_type": "execute_result"
    }
   ],
   "source": [
    "import requests\n",
    "ak = 'a09Yb0opKaB0wcD076UUnevNUBmPQ9MK'\n",
    "# location = '37.994333299999994,115.52883329999997'\n",
    "location = ','.join([str(res_lat),str(res_lng)])\n",
    "item = {'location': location,'ak':ak,'output':'json'}\n",
    "\n",
    "res = requests.get('http://api.map.baidu.com/geocoder/v2/',params=item)\n",
    "res_json = res.json()\n",
    "res_json\n",
    "\n"
   ]
  },
  {
   "cell_type": "code",
   "execution_count": 132,
   "metadata": {},
   "outputs": [
    {
     "data": {
      "text/plain": [
       "('河北省', '衡水市', '深州市', '', '', '', '深州市隆利达挂车有限公司南534米')"
      ]
     },
     "execution_count": 132,
     "metadata": {},
     "output_type": "execute_result"
    }
   ],
   "source": [
    "res_json['result']\n",
    "\n",
    "provnce = res_json['result']['addressComponent']['province']\n",
    "city = res_json['result']['addressComponent']['city']\n",
    "district = res_json['result']['addressComponent']['district']\n",
    "town = res_json['result']['addressComponent']['town']\n",
    "street = res_json['result']['addressComponent']['street']\n",
    "tag = ''\n",
    "if  res_json['result']['poiRegions'] !=[]:\n",
    "    tag = res_json['result']['poiRegions'][0]['tag']\n",
    "address = res_json['result']['sematic_description']\n",
    "\n",
    "provnce,city,district,town,street,tag,address"
   ]
  },
  {
   "cell_type": "code",
   "execution_count": null,
   "metadata": {},
   "outputs": [],
   "source": []
  }
 ],
 "metadata": {
  "kernelspec": {
   "display_name": "Python 3",
   "language": "python",
   "name": "python3"
  },
  "language_info": {
   "codemirror_mode": {
    "name": "ipython",
    "version": 3
   },
   "file_extension": ".py",
   "mimetype": "text/x-python",
   "name": "python",
   "nbconvert_exporter": "python",
   "pygments_lexer": "ipython3",
   "version": "3.6.7"
  }
 },
 "nbformat": 4,
 "nbformat_minor": 2
}
