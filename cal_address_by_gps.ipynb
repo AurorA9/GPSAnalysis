{
 "cells": [
  {
   "cell_type": "code",
   "execution_count": 2,
   "metadata": {},
   "outputs": [],
   "source": [
    "import personal_info\n",
    "import gps_poi_analysis\n",
    "import pandas as pd"
   ]
  },
  {
   "cell_type": "code",
   "execution_count": 4,
   "metadata": {},
   "outputs": [],
   "source": [
    "def transform_gps_data(filename):\n",
    "    df = pd.read_excel(filename)\n",
    "    df['provnce'] = ''\n",
    "    df['city'] = ''\n",
    "    df['district'] = ''\n",
    "    df['town'] = ''\n",
    "    df['street'] = ''\n",
    "    #df['home_tag'] = ''\n",
    "    df['home_address'] = ''\n",
    "    #df['work_tag'] = ''\n",
    "    df['work_address'] = ''\n",
    "#根据经纬度获取地址信息。\n",
    "    for i in range(df.shape[0]):\n",
    "        home_address_gps_by_kde_lng = df['home_address_gps_by_kde_lng'].iloc[i]\n",
    "        home_address_gps_by_kde_lat = df['home_address_gps_by_kde_lat'].iloc[i]\n",
    "        work_address_gps_by_kde_lng = df['work_address_gps_by_kde_lng'].iloc[i]\n",
    "        work_address_gps_by_kde_lat = df['work_address_gps_by_kde_lat'].iloc[i]\n",
    "\n",
    "        if home_address_gps_by_kde_lng != 0 and home_address_gps_by_kde_lng != None:\n",
    "            home_address_gps_by_kde = gps_poi_analysis.get_request_json(home_address_gps_by_kde_lng,home_address_gps_by_kde_lat)\n",
    "        else:\n",
    "            home_address_gps_by_kde = None\n",
    "\n",
    "# if work_address_gps_by_dbscan_lng!=0 and work_address_gps_by_dbscan_lng!=None:\n",
    "#     work_address_gps_by_dbscan = gps_poi_analysis.get_request_json(work_address_gps_by_dbscan_lng,work_address_gps_by_dbscan_lat)\n",
    "# else:\n",
    "#     work_address_gps_by_dbscan =None\n",
    "\n",
    "        if work_address_gps_by_kde_lng != 0 and work_address_gps_by_kde_lng != None:\n",
    "            work_address_gps_by_kde = gps_poi_analysis.get_request_json(work_address_gps_by_kde_lng,work_address_gps_by_kde_lat)\n",
    "        else:\n",
    "            work_address_gps_by_kde = None\n",
    "\n",
    "\n",
    "        if home_address_gps_by_kde != None:\n",
    "            res_json_home = home_address_gps_by_kde\n",
    "            df['provnce'].iloc[i] = res_json_home['result']['addressComponent']['province']\n",
    "            df['city'].iloc[i] = res_json_home['result']['addressComponent']['city']\n",
    "            df['district'].iloc[i] = res_json_home['result']['addressComponent']['district']\n",
    "            df['town'].iloc[i] = res_json_home['result']['addressComponent']['town']\n",
    "            df['street'].iloc[i] = res_json_home['result']['addressComponent']['street']\n",
    "            # if res_json_home['result']['poiRegions'] != []:\n",
    "            #     home_tag = res_json_home['result']['poiRegions'][0]['tag']\n",
    "            df['home_address'].iloc[i] = res_json_home['result']['sematic_description']\n",
    "\n",
    "\n",
    "        if work_address_gps_by_kde != None:\n",
    "            res_json_work = work_address_gps_by_kde\n",
    "            if res_json_work['result']['poiRegions'] != []:\n",
    "                work_tag = res_json_work['result']['poiRegions'][0]['tag']\n",
    "            df['work_address'].iloc[i] = res_json_work['result']['sematic_description']\n",
    "    return df"
   ]
  },
  {
   "cell_type": "code",
   "execution_count": 5,
   "metadata": {},
   "outputs": [
    {
     "data": {
      "text/plain": [
       "'person_info_all.xls'"
      ]
     },
     "execution_count": 5,
     "metadata": {},
     "output_type": "execute_result"
    }
   ],
   "source": [
    "'person_info_all.xls'"
   ]
  },
  {
   "cell_type": "code",
   "execution_count": 6,
   "metadata": {},
   "outputs": [
    {
     "name": "stderr",
     "output_type": "stream",
     "text": [
      "h:\\python\\lib\\site-packages\\pandas\\core\\indexing.py:190: SettingWithCopyWarning: \n",
      "A value is trying to be set on a copy of a slice from a DataFrame\n",
      "\n",
      "See the caveats in the documentation: http://pandas.pydata.org/pandas-docs/stable/indexing.html#indexing-view-versus-copy\n",
      "  self._setitem_with_indexer(indexer, value)\n"
     ]
    },
    {
     "ename": "KeyError",
     "evalue": "'result'",
     "output_type": "error",
     "traceback": [
      "\u001b[1;31m---------------------------------------------------------------------------\u001b[0m",
      "\u001b[1;31mKeyError\u001b[0m                                  Traceback (most recent call last)",
      "\u001b[1;32m<ipython-input-6-e527ac416411>\u001b[0m in \u001b[0;36m<module>\u001b[1;34m\u001b[0m\n\u001b[1;32m----> 1\u001b[1;33m \u001b[0mtransform_gps_data\u001b[0m\u001b[1;33m(\u001b[0m\u001b[1;34m'person_info_all.xls'\u001b[0m\u001b[1;33m)\u001b[0m\u001b[1;33m\u001b[0m\u001b[1;33m\u001b[0m\u001b[0m\n\u001b[0m",
      "\u001b[1;32m<ipython-input-4-8a004b3fe5dd>\u001b[0m in \u001b[0;36mtransform_gps_data\u001b[1;34m(filename)\u001b[0m\n\u001b[0;32m     35\u001b[0m         \u001b[1;32mif\u001b[0m \u001b[0mhome_address_gps_by_kde\u001b[0m \u001b[1;33m!=\u001b[0m \u001b[1;32mNone\u001b[0m\u001b[1;33m:\u001b[0m\u001b[1;33m\u001b[0m\u001b[1;33m\u001b[0m\u001b[0m\n\u001b[0;32m     36\u001b[0m             \u001b[0mres_json_home\u001b[0m \u001b[1;33m=\u001b[0m \u001b[0mhome_address_gps_by_kde\u001b[0m\u001b[1;33m\u001b[0m\u001b[1;33m\u001b[0m\u001b[0m\n\u001b[1;32m---> 37\u001b[1;33m             \u001b[0mdf\u001b[0m\u001b[1;33m[\u001b[0m\u001b[1;34m'provnce'\u001b[0m\u001b[1;33m]\u001b[0m\u001b[1;33m.\u001b[0m\u001b[0miloc\u001b[0m\u001b[1;33m[\u001b[0m\u001b[0mi\u001b[0m\u001b[1;33m]\u001b[0m \u001b[1;33m=\u001b[0m \u001b[0mres_json_home\u001b[0m\u001b[1;33m[\u001b[0m\u001b[1;34m'result'\u001b[0m\u001b[1;33m]\u001b[0m\u001b[1;33m[\u001b[0m\u001b[1;34m'addressComponent'\u001b[0m\u001b[1;33m]\u001b[0m\u001b[1;33m[\u001b[0m\u001b[1;34m'province'\u001b[0m\u001b[1;33m]\u001b[0m\u001b[1;33m\u001b[0m\u001b[1;33m\u001b[0m\u001b[0m\n\u001b[0m\u001b[0;32m     38\u001b[0m             \u001b[0mdf\u001b[0m\u001b[1;33m[\u001b[0m\u001b[1;34m'city'\u001b[0m\u001b[1;33m]\u001b[0m\u001b[1;33m.\u001b[0m\u001b[0miloc\u001b[0m\u001b[1;33m[\u001b[0m\u001b[0mi\u001b[0m\u001b[1;33m]\u001b[0m \u001b[1;33m=\u001b[0m \u001b[0mres_json_home\u001b[0m\u001b[1;33m[\u001b[0m\u001b[1;34m'result'\u001b[0m\u001b[1;33m]\u001b[0m\u001b[1;33m[\u001b[0m\u001b[1;34m'addressComponent'\u001b[0m\u001b[1;33m]\u001b[0m\u001b[1;33m[\u001b[0m\u001b[1;34m'city'\u001b[0m\u001b[1;33m]\u001b[0m\u001b[1;33m\u001b[0m\u001b[1;33m\u001b[0m\u001b[0m\n\u001b[0;32m     39\u001b[0m             \u001b[0mdf\u001b[0m\u001b[1;33m[\u001b[0m\u001b[1;34m'district'\u001b[0m\u001b[1;33m]\u001b[0m\u001b[1;33m.\u001b[0m\u001b[0miloc\u001b[0m\u001b[1;33m[\u001b[0m\u001b[0mi\u001b[0m\u001b[1;33m]\u001b[0m \u001b[1;33m=\u001b[0m \u001b[0mres_json_home\u001b[0m\u001b[1;33m[\u001b[0m\u001b[1;34m'result'\u001b[0m\u001b[1;33m]\u001b[0m\u001b[1;33m[\u001b[0m\u001b[1;34m'addressComponent'\u001b[0m\u001b[1;33m]\u001b[0m\u001b[1;33m[\u001b[0m\u001b[1;34m'district'\u001b[0m\u001b[1;33m]\u001b[0m\u001b[1;33m\u001b[0m\u001b[1;33m\u001b[0m\u001b[0m\n",
      "\u001b[1;31mKeyError\u001b[0m: 'result'"
     ]
    }
   ],
   "source": [
    "transform_gps_data('person_info_all.xls')"
   ]
  },
  {
   "cell_type": "code",
   "execution_count": null,
   "metadata": {},
   "outputs": [],
   "source": []
  }
 ],
 "metadata": {
  "kernelspec": {
   "display_name": "Python 3",
   "language": "python",
   "name": "python3"
  },
  "language_info": {
   "codemirror_mode": {
    "name": "ipython",
    "version": 3
   },
   "file_extension": ".py",
   "mimetype": "text/x-python",
   "name": "python",
   "nbconvert_exporter": "python",
   "pygments_lexer": "ipython3",
   "version": "3.6.7"
  }
 },
 "nbformat": 4,
 "nbformat_minor": 2
}
