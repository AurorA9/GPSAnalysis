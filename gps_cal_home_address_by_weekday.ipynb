{
 "cells": [
  {
   "cell_type": "code",
   "execution_count": 23,
   "metadata": {},
   "outputs": [],
   "source": [
    "import pandas as pd\n",
    "import numpy as np\n",
    "import matplotlib.pyplot as plt\n",
    "%matplotlib inline\n",
    "from sklearn.cluster import KMeans\n",
    "from scipy.spatial.distance import squareform\n",
    "from scipy.spatial.distance import pdist\n",
    "from sklearn.cluster import DBSCAN\n",
    "import math\n",
    "import seaborn as sns"
   ]
  },
  {
   "cell_type": "code",
   "execution_count": 33,
   "metadata": {},
   "outputs": [
    {
     "data": {
      "text/plain": [
       "(723, 22)"
      ]
     },
     "execution_count": 33,
     "metadata": {},
     "output_type": "execute_result"
    }
   ],
   "source": [
    "filename = 'be987171c55349d19e3f739060a8783a.xls'\n",
    "df = pd.read_excel(filename)\n",
    "df.shape"
   ]
  },
  {
   "cell_type": "code",
   "execution_count": 34,
   "metadata": {},
   "outputs": [
    {
     "data": {
      "text/plain": [
       "7    113\n",
       "6     88\n",
       "Name: weekday, dtype: int64"
      ]
     },
     "execution_count": 34,
     "metadata": {},
     "output_type": "execute_result"
    }
   ],
   "source": [
    "len(set(df['datetime']))\n",
    "df = df[df['weekday'].isin([6,7])]\n",
    "#df = df[df['weekday'].isin([i for i in range(1,6)])]\n",
    "df['weekday'].value_counts()"
   ]
  },
  {
   "cell_type": "code",
   "execution_count": 35,
   "metadata": {},
   "outputs": [
    {
     "data": {
      "text/plain": [
       "(201, 22)"
      ]
     },
     "execution_count": 35,
     "metadata": {},
     "output_type": "execute_result"
    }
   ],
   "source": [
    "df.shape"
   ]
  },
  {
   "cell_type": "code",
   "execution_count": 36,
   "metadata": {},
   "outputs": [],
   "source": [
    "#df['start_address_name'].value_counts()"
   ]
  },
  {
   "cell_type": "code",
   "execution_count": 37,
   "metadata": {},
   "outputs": [],
   "source": [
    "#只统计每天第一次的数据\n",
    "address_gps = []\n",
    "address_gps.append(df.iloc[0]['start_gps_poi'])\n",
    "for i in range(1,df.shape[0]):\n",
    "    if df.iloc[i]['datetime'] != df.iloc[i-1]['datetime']:\n",
    "        address_gps.append(df.iloc[i]['start_gps_poi'])\n",
    "        address_gps.append(df.iloc[i-1]['end_gps_poi'])\n",
    "address_gps.append(df.iloc[df.shape[0]-1]['end_gps_poi'])"
   ]
  },
  {
   "cell_type": "code",
   "execution_count": 38,
   "metadata": {},
   "outputs": [
    {
     "data": {
      "text/plain": [
       "80"
      ]
     },
     "execution_count": 38,
     "metadata": {},
     "output_type": "execute_result"
    }
   ],
   "source": [
    "len(address_gps)\n",
    "#df['start_gps_poi'].head()"
   ]
  },
  {
   "cell_type": "code",
   "execution_count": 28,
   "metadata": {},
   "outputs": [
    {
     "data": {
      "text/plain": [
       "[[118.35050000000001, 35.0493333],\n",
       " [118.35050000000001, 35.049666599999995],\n",
       " [118.35066660000001, 35.049499999999995],\n",
       " [118.2608333, 35.7513333],\n",
       " [118.2608333, 35.7513333],\n",
       " [118.2609999, 35.75166659999999],\n",
       " [118.2609999, 35.75166659999999],\n",
       " [118.2609999, 35.75166659999999],\n",
       " [118.2608333, 35.75166659999999],\n",
       " [118.2633333, 35.7526666]]"
      ]
     },
     "execution_count": 28,
     "metadata": {},
     "output_type": "execute_result"
    }
   ],
   "source": [
    "#使用所有的起始地址\n",
    "# address_gps=df['start_gps_poi']\n",
    "#\n",
    "pointsList = []\n",
    "for item in address_gps:\n",
    "    point = []\n",
    "    point.append(float(item.split(',')[0]))\n",
    "    point.append(float(item.split(',')[1]))\n",
    "    pointsList.append(point)     \n",
    "pointsList[:10]"
   ]
  },
  {
   "cell_type": "code",
   "execution_count": 8,
   "metadata": {},
   "outputs": [
    {
     "name": "stdout",
     "output_type": "stream",
     "text": [
      "201\n"
     ]
    }
   ],
   "source": [
    "#使用所有的起始地址\n",
    "address_gps=df['start_gps_poi']\n",
    "pointsList1 = []\n",
    "dict_a = {}\n",
    "for item in address_gps:\n",
    "    point = []\n",
    "    point.append(float(item.split(',')[0]))\n",
    "    point.append(float(item.split(',')[1]))\n",
    "    point.append(1)\n",
    "    pointsList1.append(point)  \n",
    "print(len(pointsList1))\n",
    "with open('a.txt','w') as f:\n",
    "    f.write(str(pointsList1))"
   ]
  },
  {
   "cell_type": "code",
   "execution_count": 29,
   "metadata": {},
   "outputs": [],
   "source": [
    "with open('a.txt','w') as f:\n",
    "    f.write(str(pointsList1))"
   ]
  },
  {
   "cell_type": "code",
   "execution_count": 327,
   "metadata": {},
   "outputs": [
    {
     "data": {
      "text/plain": [
       "array([[118.2609999,  35.7516666],\n",
       "       [118.2609999,  35.7518333],\n",
       "       [118.2609999,  35.7516666],\n",
       "       [118.2609999,  35.7516666],\n",
       "       [118.2609999,  35.7516666],\n",
       "       [118.2633333,  35.6623333],\n",
       "       [118.3506666,  35.0495   ],\n",
       "       [118.351    ,  35.0509999],\n",
       "       [118.3505   ,  35.0493333],\n",
       "       [118.351    ,  35.0493333]])"
      ]
     },
     "execution_count": 327,
     "metadata": {},
     "output_type": "execute_result"
    }
   ],
   "source": [
    "xy = np.array(pointsList)\n",
    "#xy[:,0]\n",
    "xy[:10]"
   ]
  },
  {
   "cell_type": "code",
   "execution_count": null,
   "metadata": {},
   "outputs": [],
   "source": [
    "\n"
   ]
  },
  {
   "cell_type": "code",
   "execution_count": 328,
   "metadata": {},
   "outputs": [],
   "source": [
    "X = pd.DataFrame(\n",
    "        {\n",
    "         \"lng\": xy[:,0],\n",
    "         \"lat\": xy[:,1]\n",
    "        })\n",
    "#X\n",
    "# X.describe()"
   ]
  },
  {
   "cell_type": "code",
   "execution_count": 329,
   "metadata": {},
   "outputs": [],
   "source": [
    "# kmeans = KMeans(n_clusters = 3)\n",
    "# re = kmeans.fit(xy)"
   ]
  },
  {
   "cell_type": "code",
   "execution_count": 330,
   "metadata": {},
   "outputs": [],
   "source": [
    "#re.labels_"
   ]
  },
  {
   "cell_type": "code",
   "execution_count": 331,
   "metadata": {},
   "outputs": [
    {
     "data": {
      "text/html": [
       "<div>\n",
       "<style scoped>\n",
       "    .dataframe tbody tr th:only-of-type {\n",
       "        vertical-align: middle;\n",
       "    }\n",
       "\n",
       "    .dataframe tbody tr th {\n",
       "        vertical-align: top;\n",
       "    }\n",
       "\n",
       "    .dataframe thead th {\n",
       "        text-align: right;\n",
       "    }\n",
       "</style>\n",
       "<table border=\"1\" class=\"dataframe\">\n",
       "  <thead>\n",
       "    <tr style=\"text-align: right;\">\n",
       "      <th></th>\n",
       "      <th>lng</th>\n",
       "      <th>lat</th>\n",
       "    </tr>\n",
       "  </thead>\n",
       "  <tbody>\n",
       "    <tr>\n",
       "      <th>0</th>\n",
       "      <td>118.261000</td>\n",
       "      <td>35.751667</td>\n",
       "    </tr>\n",
       "    <tr>\n",
       "      <th>1</th>\n",
       "      <td>118.261000</td>\n",
       "      <td>35.751833</td>\n",
       "    </tr>\n",
       "    <tr>\n",
       "      <th>2</th>\n",
       "      <td>118.261000</td>\n",
       "      <td>35.751667</td>\n",
       "    </tr>\n",
       "    <tr>\n",
       "      <th>3</th>\n",
       "      <td>118.261000</td>\n",
       "      <td>35.751667</td>\n",
       "    </tr>\n",
       "    <tr>\n",
       "      <th>4</th>\n",
       "      <td>118.261000</td>\n",
       "      <td>35.751667</td>\n",
       "    </tr>\n",
       "    <tr>\n",
       "      <th>5</th>\n",
       "      <td>118.263333</td>\n",
       "      <td>35.662333</td>\n",
       "    </tr>\n",
       "    <tr>\n",
       "      <th>6</th>\n",
       "      <td>118.350667</td>\n",
       "      <td>35.049500</td>\n",
       "    </tr>\n",
       "    <tr>\n",
       "      <th>7</th>\n",
       "      <td>118.351000</td>\n",
       "      <td>35.051000</td>\n",
       "    </tr>\n",
       "    <tr>\n",
       "      <th>8</th>\n",
       "      <td>118.350500</td>\n",
       "      <td>35.049333</td>\n",
       "    </tr>\n",
       "    <tr>\n",
       "      <th>9</th>\n",
       "      <td>118.351000</td>\n",
       "      <td>35.049333</td>\n",
       "    </tr>\n",
       "  </tbody>\n",
       "</table>\n",
       "</div>"
      ],
      "text/plain": [
       "          lng        lat\n",
       "0  118.261000  35.751667\n",
       "1  118.261000  35.751833\n",
       "2  118.261000  35.751667\n",
       "3  118.261000  35.751667\n",
       "4  118.261000  35.751667\n",
       "5  118.263333  35.662333\n",
       "6  118.350667  35.049500\n",
       "7  118.351000  35.051000\n",
       "8  118.350500  35.049333\n",
       "9  118.351000  35.049333"
      ]
     },
     "execution_count": 331,
     "metadata": {},
     "output_type": "execute_result"
    }
   ],
   "source": [
    "X[:10]\n",
    "#dir(re)"
   ]
  },
  {
   "cell_type": "code",
   "execution_count": 332,
   "metadata": {},
   "outputs": [
    {
     "data": {
      "text/plain": [
       "<Figure size 3600x3600 with 0 Axes>"
      ]
     },
     "metadata": {},
     "output_type": "display_data"
    }
   ],
   "source": [
    "fig =plt.figure(figsize=(50,50))"
   ]
  },
  {
   "cell_type": "code",
   "execution_count": 333,
   "metadata": {},
   "outputs": [
    {
     "name": "stderr",
     "output_type": "stream",
     "text": [
      "h:\\python\\lib\\site-packages\\seaborn\\axisgrid.py:2262: UserWarning: The `size` paramter has been renamed to `height`; please update your code.\n",
      "  warnings.warn(msg, UserWarning)\n"
     ]
    },
    {
     "data": {
      "text/plain": [
       "<seaborn.axisgrid.JointGrid at 0x2419ae19860>"
      ]
     },
     "execution_count": 333,
     "metadata": {},
     "output_type": "execute_result"
    },
    {
     "data": {
      "image/png": "[encoded data removed]",
      "text/plain": [
       "<Figure size 432x288 with 1 Axes>"
      ]
     },
     "metadata": {
      "needs_background": "light"
     },
     "output_type": "display_data"
    },
    {
     "data": {
      "image/png": "[encoded data removed]",
      "text/plain": [
       "<Figure size 576x576 with 3 Axes>"
      ]
     },
     "metadata": {
      "needs_background": "light"
     },
     "output_type": "display_data"
    }
   ],
   "source": [
    "plt.scatter(xy[:,0],xy[:,1],s=0.01)\n",
    "plt.locator_params(nbins = 100)\n",
    "\n",
    "sns.jointplot(x='lng',y='lat',data=X,kind='hex',size=(8))"
   ]
  },
  {
   "cell_type": "code",
   "execution_count": 334,
   "metadata": {},
   "outputs": [
    {
     "data": {
      "text/plain": [
       "<matplotlib.axes._subplots.AxesSubplot at 0x2419ad43ef0>"
      ]
     },
     "execution_count": 334,
     "metadata": {},
     "output_type": "execute_result"
    },
    {
     "data": {
      "image/png": "[encoded data removed]",
      "text/plain": [
       "<Figure size 432x288 with 1 Axes>"
      ]
     },
     "metadata": {
      "needs_background": "light"
     },
     "output_type": "display_data"
    }
   ],
   "source": [
    "sns.scatterplot(x='lng',y='lat',data=X)"
   ]
  },
  {
   "cell_type": "code",
   "execution_count": 335,
   "metadata": {},
   "outputs": [
    {
     "data": {
      "text/plain": [
       "<matplotlib.axes._subplots.AxesSubplot at 0x24198b5b780>"
      ]
     },
     "execution_count": 335,
     "metadata": {},
     "output_type": "execute_result"
    },
    {
     "data": {
      "image/png": "[encoded data removed]",
      "text/plain": [
       "<Figure size 432x288 with 1 Axes>"
      ]
     },
     "metadata": {
      "needs_background": "light"
     },
     "output_type": "display_data"
    }
   ],
   "source": [
    "sns.kdeplot(X['lng'],X['lat'])"
   ]
  },
  {
   "cell_type": "code",
   "execution_count": 336,
   "metadata": {},
   "outputs": [],
   "source": [
    "def haversine(lonlat1, lonlat2):\n",
    "    lon1, lat1  = lonlat1\n",
    "    lon2, lat2= lonlat2\n",
    "    lon1, lat1, lon2, lat2 = map(math.radians, [lon1, lat1, lon2, lat2])\n",
    "\n",
    "    dlon = lon2 - lon1\n",
    "    dlat = lat2 - lat1\n",
    "    a = math.sin(dlat / 2) ** 2 + math.cos(lat1) * math.cos(lat2) * math.sin(dlon / 2) ** 2\n",
    "    c = 2 * math.asin(math.sqrt(a))\n",
    "    r = 6371  # Radius of earth in kilometers. Use 3956 for miles\n",
    "    return c * r *1000\n"
   ]
  },
  {
   "cell_type": "code",
   "execution_count": 337,
   "metadata": {},
   "outputs": [
    {
     "data": {
      "text/plain": [
       "111.19492664426889"
      ]
     },
     "execution_count": 337,
     "metadata": {},
     "output_type": "execute_result"
    }
   ],
   "source": [
    "haversine([116.456, 39.921],[116.456, 39.920])"
   ]
  },
  {
   "cell_type": "code",
   "execution_count": 338,
   "metadata": {},
   "outputs": [
    {
     "data": {
      "text/plain": [
       "array([[  0.       , 111.1271897, 222.2543794, 222.2543794],\n",
       "       [111.1271897,   0.       , 111.1271897, 111.1271897],\n",
       "       [222.2543794, 111.1271897,   0.       ,   0.       ],\n",
       "       [222.2543794, 111.1271897,   0.       ,   0.       ]])"
      ]
     },
     "execution_count": 338,
     "metadata": {},
     "output_type": "execute_result"
    }
   ],
   "source": [
    "Y=[[1.001,2.000],[1.002,2.000],[1.003,2.000],[1.003,2.000]]\n",
    "squareform(pdist(Y, (lambda u, v: haversine(u, v))))"
   ]
  },
  {
   "cell_type": "code",
   "execution_count": 339,
   "metadata": {},
   "outputs": [],
   "source": [
    "X = pd.DataFrame(\n",
    "        {\n",
    "         \"lng\": xy[:,0],\n",
    "         \"lat\": xy[:,1]\n",
    "        })\n",
    "def clustering_by_dbscan():\n",
    "    \n",
    "    distance_matrix = squareform(pdist(X, (lambda u, v: haversine(u, v))))\n",
    "    # 2代表两公里  \n",
    "    db = DBSCAN(eps=100, min_samples=15, metric='precomputed')  \n",
    "    y_db = db.fit_predict(distance_matrix)\n",
    "    X['cluster'] = y_db\n",
    "    plt.scatter(X['lng'], X['lat'], c=X['cluster'])\n",
    "    plt.show()\n",
    "#X['cluster'].value_counts()\n"
   ]
  },
  {
   "cell_type": "code",
   "execution_count": 340,
   "metadata": {},
   "outputs": [
    {
     "data": {
      "text/html": [
       "<div>\n",
       "<style scoped>\n",
       "    .dataframe tbody tr th:only-of-type {\n",
       "        vertical-align: middle;\n",
       "    }\n",
       "\n",
       "    .dataframe tbody tr th {\n",
       "        vertical-align: top;\n",
       "    }\n",
       "\n",
       "    .dataframe thead th {\n",
       "        text-align: right;\n",
       "    }\n",
       "</style>\n",
       "<table border=\"1\" class=\"dataframe\">\n",
       "  <thead>\n",
       "    <tr style=\"text-align: right;\">\n",
       "      <th></th>\n",
       "      <th>lng</th>\n",
       "      <th>lat</th>\n",
       "    </tr>\n",
       "  </thead>\n",
       "  <tbody>\n",
       "    <tr>\n",
       "      <th>0</th>\n",
       "      <td>118.261</td>\n",
       "      <td>35.751667</td>\n",
       "    </tr>\n",
       "    <tr>\n",
       "      <th>1</th>\n",
       "      <td>118.261</td>\n",
       "      <td>35.751833</td>\n",
       "    </tr>\n",
       "    <tr>\n",
       "      <th>2</th>\n",
       "      <td>118.261</td>\n",
       "      <td>35.751667</td>\n",
       "    </tr>\n",
       "    <tr>\n",
       "      <th>3</th>\n",
       "      <td>118.261</td>\n",
       "      <td>35.751667</td>\n",
       "    </tr>\n",
       "    <tr>\n",
       "      <th>4</th>\n",
       "      <td>118.261</td>\n",
       "      <td>35.751667</td>\n",
       "    </tr>\n",
       "  </tbody>\n",
       "</table>\n",
       "</div>"
      ],
      "text/plain": [
       "       lng        lat\n",
       "0  118.261  35.751667\n",
       "1  118.261  35.751833\n",
       "2  118.261  35.751667\n",
       "3  118.261  35.751667\n",
       "4  118.261  35.751667"
      ]
     },
     "execution_count": 340,
     "metadata": {},
     "output_type": "execute_result"
    }
   ],
   "source": [
    "X.head()"
   ]
  },
  {
   "cell_type": "code",
   "execution_count": 341,
   "metadata": {},
   "outputs": [
    {
     "data": {
      "image/png": "[encoded data removed]",
      "text/plain": [
       "<Figure size 432x288 with 1 Axes>"
      ]
     },
     "metadata": {
      "needs_background": "light"
     },
     "output_type": "display_data"
    }
   ],
   "source": [
    "clustering_by_dbscan()"
   ]
  },
  {
   "cell_type": "code",
   "execution_count": 342,
   "metadata": {},
   "outputs": [
    {
     "data": {
      "text/plain": [
       "0"
      ]
     },
     "execution_count": 342,
     "metadata": {},
     "output_type": "execute_result"
    }
   ],
   "source": [
    "cluster = X['cluster'].value_counts().keys()[0]\n",
    "cluster"
   ]
  },
  {
   "cell_type": "code",
   "execution_count": 343,
   "metadata": {},
   "outputs": [
    {
     "data": {
      "text/plain": [
       "{0: 65, -1: 15}"
      ]
     },
     "execution_count": 343,
     "metadata": {},
     "output_type": "execute_result"
    }
   ],
   "source": [
    "X['cluster'].value_counts()\n",
    "X_dict = dict(X['cluster'].value_counts())\n",
    "X_dict"
   ]
  },
  {
   "cell_type": "code",
   "execution_count": 344,
   "metadata": {},
   "outputs": [
    {
     "data": {
      "text/plain": [
       "65"
      ]
     },
     "execution_count": 344,
     "metadata": {},
     "output_type": "execute_result"
    }
   ],
   "source": [
    "total_count = X[X['cluster']!=-1].shape[0]\n",
    "total_count"
   ]
  },
  {
   "cell_type": "code",
   "execution_count": 345,
   "metadata": {},
   "outputs": [
    {
     "data": {
      "text/html": [
       "<div>\n",
       "<style scoped>\n",
       "    .dataframe tbody tr th:only-of-type {\n",
       "        vertical-align: middle;\n",
       "    }\n",
       "\n",
       "    .dataframe tbody tr th {\n",
       "        vertical-align: top;\n",
       "    }\n",
       "\n",
       "    .dataframe thead th {\n",
       "        text-align: right;\n",
       "    }\n",
       "</style>\n",
       "<table border=\"1\" class=\"dataframe\">\n",
       "  <thead>\n",
       "    <tr style=\"text-align: right;\">\n",
       "      <th></th>\n",
       "      <th>lat</th>\n",
       "      <th>lng</th>\n",
       "      <th>cluster</th>\n",
       "    </tr>\n",
       "  </thead>\n",
       "  <tbody>\n",
       "    <tr>\n",
       "      <th>0</th>\n",
       "      <td>35.049167</td>\n",
       "      <td>118.350500</td>\n",
       "      <td>0</td>\n",
       "    </tr>\n",
       "    <tr>\n",
       "      <th>1</th>\n",
       "      <td>35.049167</td>\n",
       "      <td>118.350667</td>\n",
       "      <td>0</td>\n",
       "    </tr>\n",
       "    <tr>\n",
       "      <th>2</th>\n",
       "      <td>35.049167</td>\n",
       "      <td>118.350833</td>\n",
       "      <td>0</td>\n",
       "    </tr>\n",
       "    <tr>\n",
       "      <th>3</th>\n",
       "      <td>35.049167</td>\n",
       "      <td>118.351000</td>\n",
       "      <td>0</td>\n",
       "    </tr>\n",
       "    <tr>\n",
       "      <th>4</th>\n",
       "      <td>35.049333</td>\n",
       "      <td>118.350333</td>\n",
       "      <td>0</td>\n",
       "    </tr>\n",
       "    <tr>\n",
       "      <th>5</th>\n",
       "      <td>35.049333</td>\n",
       "      <td>118.350500</td>\n",
       "      <td>0</td>\n",
       "    </tr>\n",
       "    <tr>\n",
       "      <th>6</th>\n",
       "      <td>35.049333</td>\n",
       "      <td>118.350667</td>\n",
       "      <td>0</td>\n",
       "    </tr>\n",
       "    <tr>\n",
       "      <th>7</th>\n",
       "      <td>35.049333</td>\n",
       "      <td>118.351000</td>\n",
       "      <td>0</td>\n",
       "    </tr>\n",
       "    <tr>\n",
       "      <th>8</th>\n",
       "      <td>35.049500</td>\n",
       "      <td>118.350500</td>\n",
       "      <td>0</td>\n",
       "    </tr>\n",
       "    <tr>\n",
       "      <th>9</th>\n",
       "      <td>35.049500</td>\n",
       "      <td>118.350667</td>\n",
       "      <td>0</td>\n",
       "    </tr>\n",
       "    <tr>\n",
       "      <th>10</th>\n",
       "      <td>35.049667</td>\n",
       "      <td>118.350333</td>\n",
       "      <td>0</td>\n",
       "    </tr>\n",
       "  </tbody>\n",
       "</table>\n",
       "</div>"
      ],
      "text/plain": [
       "          lat         lng  cluster\n",
       "0   35.049167  118.350500        0\n",
       "1   35.049167  118.350667        0\n",
       "2   35.049167  118.350833        0\n",
       "3   35.049167  118.351000        0\n",
       "4   35.049333  118.350333        0\n",
       "5   35.049333  118.350500        0\n",
       "6   35.049333  118.350667        0\n",
       "7   35.049333  118.351000        0\n",
       "8   35.049500  118.350500        0\n",
       "9   35.049500  118.350667        0\n",
       "10  35.049667  118.350333        0"
      ]
     },
     "execution_count": 345,
     "metadata": {},
     "output_type": "execute_result"
    }
   ],
   "source": [
    "xx = X[X['cluster'] == 0].groupby(['lat','lng']).sum().reset_index()\n",
    "xx"
   ]
  },
  {
   "cell_type": "code",
   "execution_count": 346,
   "metadata": {
    "scrolled": true
   },
   "outputs": [
    {
     "name": "stdout",
     "output_type": "stream",
     "text": [
      "         lat       lng  cluster  count\n",
      "5  35.049333  118.3505        0     16\n",
      "8  35.049500  118.3505        0     16\n",
      "5    0.246154\n",
      "8    0.246154\n",
      "Name: count, dtype: float64\n"
     ]
    }
   ],
   "source": [
    "X['count'] = 1\n",
    "lens = len(set(X['cluster'])) - 1 #去掉-1 并且从0 开始计数\n",
    "for i in range(lens):\n",
    "    xx = X[X['cluster'] == i].groupby(['lat','lng']).sum().reset_index()\n",
    "    a = xx[xx['count'] ==max(xx['count'])]\n",
    "    pro_1 = a['count'] / X_dict[i]   #当前簇中出现最高次数的地点所占比例\n",
    "    pro_2 = X_dict[i] / total_count  #当前簇所占比例\n",
    "    pro_all = pro_1 * pro_2\n",
    "    \n",
    "    #xx[xx['count'] ==max(xx['count'])]\n",
    "    print(a)\n",
    "    print(pro_all)"
   ]
  },
  {
   "cell_type": "code",
   "execution_count": 347,
   "metadata": {},
   "outputs": [
    {
     "data": {
      "text/html": [
       "<div>\n",
       "<style scoped>\n",
       "    .dataframe tbody tr th:only-of-type {\n",
       "        vertical-align: middle;\n",
       "    }\n",
       "\n",
       "    .dataframe tbody tr th {\n",
       "        vertical-align: top;\n",
       "    }\n",
       "\n",
       "    .dataframe thead th {\n",
       "        text-align: right;\n",
       "    }\n",
       "</style>\n",
       "<table border=\"1\" class=\"dataframe\">\n",
       "  <thead>\n",
       "    <tr style=\"text-align: right;\">\n",
       "      <th></th>\n",
       "      <th>lat</th>\n",
       "      <th>lng</th>\n",
       "      <th>cluster</th>\n",
       "      <th>count</th>\n",
       "    </tr>\n",
       "  </thead>\n",
       "  <tbody>\n",
       "    <tr>\n",
       "      <th>5</th>\n",
       "      <td>35.049333</td>\n",
       "      <td>118.3505</td>\n",
       "      <td>0</td>\n",
       "      <td>16</td>\n",
       "    </tr>\n",
       "    <tr>\n",
       "      <th>8</th>\n",
       "      <td>35.049500</td>\n",
       "      <td>118.3505</td>\n",
       "      <td>0</td>\n",
       "      <td>16</td>\n",
       "    </tr>\n",
       "  </tbody>\n",
       "</table>\n",
       "</div>"
      ],
      "text/plain": [
       "         lat       lng  cluster  count\n",
       "5  35.049333  118.3505        0     16\n",
       "8  35.049500  118.3505        0     16"
      ]
     },
     "execution_count": 347,
     "metadata": {},
     "output_type": "execute_result"
    }
   ],
   "source": [
    "a = xx[xx['count'] ==max(xx['count'])]\n",
    "xx[xx['count'] ==max(xx['count'])]"
   ]
  },
  {
   "cell_type": "code",
   "execution_count": 350,
   "metadata": {},
   "outputs": [
    {
     "data": {
      "text/plain": [
       "35.0493333"
      ]
     },
     "execution_count": 350,
     "metadata": {},
     "output_type": "execute_result"
    }
   ],
   "source": [
    "a['lat'].iloc[0]"
   ]
  },
  {
   "cell_type": "code",
   "execution_count": 351,
   "metadata": {},
   "outputs": [
    {
     "data": {
      "text/plain": [
       "118.35050000000001"
      ]
     },
     "execution_count": 351,
     "metadata": {},
     "output_type": "execute_result"
    }
   ],
   "source": [
    "a['lng'].iloc[0]"
   ]
  },
  {
   "cell_type": "code",
   "execution_count": 352,
   "metadata": {},
   "outputs": [
    {
     "data": {
      "text/plain": [
       "0.8125"
      ]
     },
     "execution_count": 352,
     "metadata": {},
     "output_type": "execute_result"
    }
   ],
   "source": [
    "X['cluster'].value_counts().values[0]/X.shape[0]"
   ]
  },
  {
   "cell_type": "code",
   "execution_count": 353,
   "metadata": {},
   "outputs": [
    {
     "data": {
      "text/html": [
       "<div>\n",
       "<style scoped>\n",
       "    .dataframe tbody tr th:only-of-type {\n",
       "        vertical-align: middle;\n",
       "    }\n",
       "\n",
       "    .dataframe tbody tr th {\n",
       "        vertical-align: top;\n",
       "    }\n",
       "\n",
       "    .dataframe thead th {\n",
       "        text-align: right;\n",
       "    }\n",
       "</style>\n",
       "<table border=\"1\" class=\"dataframe\">\n",
       "  <thead>\n",
       "    <tr style=\"text-align: right;\">\n",
       "      <th></th>\n",
       "      <th>lng</th>\n",
       "      <th>lat</th>\n",
       "      <th>cluster</th>\n",
       "      <th>count</th>\n",
       "    </tr>\n",
       "  </thead>\n",
       "  <tbody>\n",
       "    <tr>\n",
       "      <th>6</th>\n",
       "      <td>118.350667</td>\n",
       "      <td>35.049500</td>\n",
       "      <td>0</td>\n",
       "      <td>1</td>\n",
       "    </tr>\n",
       "    <tr>\n",
       "      <th>8</th>\n",
       "      <td>118.350500</td>\n",
       "      <td>35.049333</td>\n",
       "      <td>0</td>\n",
       "      <td>1</td>\n",
       "    </tr>\n",
       "    <tr>\n",
       "      <th>9</th>\n",
       "      <td>118.351000</td>\n",
       "      <td>35.049333</td>\n",
       "      <td>0</td>\n",
       "      <td>1</td>\n",
       "    </tr>\n",
       "    <tr>\n",
       "      <th>11</th>\n",
       "      <td>118.350500</td>\n",
       "      <td>35.049167</td>\n",
       "      <td>0</td>\n",
       "      <td>1</td>\n",
       "    </tr>\n",
       "    <tr>\n",
       "      <th>12</th>\n",
       "      <td>118.350833</td>\n",
       "      <td>35.049167</td>\n",
       "      <td>0</td>\n",
       "      <td>1</td>\n",
       "    </tr>\n",
       "    <tr>\n",
       "      <th>13</th>\n",
       "      <td>118.350833</td>\n",
       "      <td>35.049167</td>\n",
       "      <td>0</td>\n",
       "      <td>1</td>\n",
       "    </tr>\n",
       "    <tr>\n",
       "      <th>14</th>\n",
       "      <td>118.350500</td>\n",
       "      <td>35.049500</td>\n",
       "      <td>0</td>\n",
       "      <td>1</td>\n",
       "    </tr>\n",
       "    <tr>\n",
       "      <th>15</th>\n",
       "      <td>118.350333</td>\n",
       "      <td>35.049667</td>\n",
       "      <td>0</td>\n",
       "      <td>1</td>\n",
       "    </tr>\n",
       "    <tr>\n",
       "      <th>16</th>\n",
       "      <td>118.350500</td>\n",
       "      <td>35.049500</td>\n",
       "      <td>0</td>\n",
       "      <td>1</td>\n",
       "    </tr>\n",
       "    <tr>\n",
       "      <th>17</th>\n",
       "      <td>118.350667</td>\n",
       "      <td>35.049500</td>\n",
       "      <td>0</td>\n",
       "      <td>1</td>\n",
       "    </tr>\n",
       "  </tbody>\n",
       "</table>\n",
       "</div>"
      ],
      "text/plain": [
       "           lng        lat  cluster  count\n",
       "6   118.350667  35.049500        0      1\n",
       "8   118.350500  35.049333        0      1\n",
       "9   118.351000  35.049333        0      1\n",
       "11  118.350500  35.049167        0      1\n",
       "12  118.350833  35.049167        0      1\n",
       "13  118.350833  35.049167        0      1\n",
       "14  118.350500  35.049500        0      1\n",
       "15  118.350333  35.049667        0      1\n",
       "16  118.350500  35.049500        0      1\n",
       "17  118.350667  35.049500        0      1"
      ]
     },
     "execution_count": 353,
     "metadata": {},
     "output_type": "execute_result"
    }
   ],
   "source": [
    "X[X['cluster'] == cluster][:10]"
   ]
  },
  {
   "cell_type": "code",
   "execution_count": 354,
   "metadata": {},
   "outputs": [
    {
     "data": {
      "text/plain": [
       "118.35057433692309"
      ]
     },
     "execution_count": 354,
     "metadata": {},
     "output_type": "execute_result"
    }
   ],
   "source": [
    "X[X['cluster'] == cluster]['lng'].mean()"
   ]
  },
  {
   "cell_type": "code",
   "execution_count": 355,
   "metadata": {},
   "outputs": [
    {
     "data": {
      "text/plain": [
       "35.049366638461535"
      ]
     },
     "execution_count": 355,
     "metadata": {},
     "output_type": "execute_result"
    }
   ],
   "source": [
    "X[X['cluster'] == cluster]['lat'].mean()"
   ]
  },
  {
   "cell_type": "code",
   "execution_count": 356,
   "metadata": {},
   "outputs": [
    {
     "data": {
      "text/plain": [
       "(120.12049999999999, 29.338833300000005)"
      ]
     },
     "execution_count": 356,
     "metadata": {},
     "output_type": "execute_result"
    }
   ],
   "source": [
    "120.12049999999999,29.338833300000005"
   ]
  },
  {
   "cell_type": "code",
   "execution_count": 357,
   "metadata": {},
   "outputs": [
    {
     "data": {
      "text/html": [
       "<div>\n",
       "<style scoped>\n",
       "    .dataframe tbody tr th:only-of-type {\n",
       "        vertical-align: middle;\n",
       "    }\n",
       "\n",
       "    .dataframe tbody tr th {\n",
       "        vertical-align: top;\n",
       "    }\n",
       "\n",
       "    .dataframe thead th {\n",
       "        text-align: right;\n",
       "    }\n",
       "</style>\n",
       "<table border=\"1\" class=\"dataframe\">\n",
       "  <thead>\n",
       "    <tr style=\"text-align: right;\">\n",
       "      <th></th>\n",
       "      <th>lng</th>\n",
       "      <th>lat</th>\n",
       "      <th>cluster</th>\n",
       "      <th>count</th>\n",
       "    </tr>\n",
       "  </thead>\n",
       "  <tbody>\n",
       "    <tr>\n",
       "      <th>0</th>\n",
       "      <td>118.261000</td>\n",
       "      <td>35.751667</td>\n",
       "      <td>-1</td>\n",
       "      <td>1</td>\n",
       "    </tr>\n",
       "    <tr>\n",
       "      <th>1</th>\n",
       "      <td>118.261000</td>\n",
       "      <td>35.751833</td>\n",
       "      <td>-1</td>\n",
       "      <td>1</td>\n",
       "    </tr>\n",
       "    <tr>\n",
       "      <th>2</th>\n",
       "      <td>118.261000</td>\n",
       "      <td>35.751667</td>\n",
       "      <td>-1</td>\n",
       "      <td>1</td>\n",
       "    </tr>\n",
       "    <tr>\n",
       "      <th>3</th>\n",
       "      <td>118.261000</td>\n",
       "      <td>35.751667</td>\n",
       "      <td>-1</td>\n",
       "      <td>1</td>\n",
       "    </tr>\n",
       "    <tr>\n",
       "      <th>4</th>\n",
       "      <td>118.261000</td>\n",
       "      <td>35.751667</td>\n",
       "      <td>-1</td>\n",
       "      <td>1</td>\n",
       "    </tr>\n",
       "    <tr>\n",
       "      <th>5</th>\n",
       "      <td>118.263333</td>\n",
       "      <td>35.662333</td>\n",
       "      <td>-1</td>\n",
       "      <td>1</td>\n",
       "    </tr>\n",
       "    <tr>\n",
       "      <th>6</th>\n",
       "      <td>118.350667</td>\n",
       "      <td>35.049500</td>\n",
       "      <td>0</td>\n",
       "      <td>1</td>\n",
       "    </tr>\n",
       "    <tr>\n",
       "      <th>7</th>\n",
       "      <td>118.351000</td>\n",
       "      <td>35.051000</td>\n",
       "      <td>-1</td>\n",
       "      <td>1</td>\n",
       "    </tr>\n",
       "    <tr>\n",
       "      <th>8</th>\n",
       "      <td>118.350500</td>\n",
       "      <td>35.049333</td>\n",
       "      <td>0</td>\n",
       "      <td>1</td>\n",
       "    </tr>\n",
       "    <tr>\n",
       "      <th>9</th>\n",
       "      <td>118.351000</td>\n",
       "      <td>35.049333</td>\n",
       "      <td>0</td>\n",
       "      <td>1</td>\n",
       "    </tr>\n",
       "  </tbody>\n",
       "</table>\n",
       "</div>"
      ],
      "text/plain": [
       "          lng        lat  cluster  count\n",
       "0  118.261000  35.751667       -1      1\n",
       "1  118.261000  35.751833       -1      1\n",
       "2  118.261000  35.751667       -1      1\n",
       "3  118.261000  35.751667       -1      1\n",
       "4  118.261000  35.751667       -1      1\n",
       "5  118.263333  35.662333       -1      1\n",
       "6  118.350667  35.049500        0      1\n",
       "7  118.351000  35.051000       -1      1\n",
       "8  118.350500  35.049333        0      1\n",
       "9  118.351000  35.049333        0      1"
      ]
     },
     "execution_count": 357,
     "metadata": {},
     "output_type": "execute_result"
    }
   ],
   "source": [
    "X[:10]"
   ]
  },
  {
   "cell_type": "code",
   "execution_count": 358,
   "metadata": {},
   "outputs": [],
   "source": [
    "from sklearn.neighbors import KernelDensity"
   ]
  },
  {
   "cell_type": "code",
   "execution_count": 359,
   "metadata": {},
   "outputs": [],
   "source": [
    "def kernel_density(x, y, typename):\n",
    "    x_min = min(x)\n",
    "    x_max = max(x)\n",
    "    y_min = min(y)\n",
    "    y_max = max(y)\n",
    "    xx = list(zip(x, y))\n",
    "    kde = KernelDensity(kernel='gaussian', bandwidth=0.1, algorithm='kd_tree').fit(xx)\n",
    "    log_dens = kde.score_samples(xx)\n",
    "    z = np.exp(log_dens).tolist()\n",
    "    max_poi = z.index(max(z))\n",
    "#     print(xx[z.index(max(z))])\n",
    "    max_lon = x[max_poi]\n",
    "    max_lat = y[max_poi]\n",
    "    fig1 = plt.figure()\n",
    "    ax1 = fig1.gca()\n",
    "    ax1.set_xlim(x_min, x_max)\n",
    "    ax1.set_ylim(y_min, y_max)\n",
    "    ax1.scatter(x, y, c=z, cmap='Blues')\n",
    "    ax1.scatter(x[max_poi], y[max_poi],marker='p', c='r')\n",
    "#     ax1.imshow(np.rot90(z), cmap = 'Blues', extent=[x_min, x_max, y_min, y_max])\n",
    "#     cset = ax1.contour(x, y, z, colors='k')\n",
    "#     ax1.clabel(cset, inline = 1, fontsize=10)\n",
    "    ax1.set_xlabel('lontitude')\n",
    "    ax1.set_ylabel('latitude')\n",
    "#     filename = typename+' gkde1.jpg'\n",
    "#     plt.savefig(filename)\n",
    "    return max_lon, max_lat"
   ]
  },
  {
   "cell_type": "code",
   "execution_count": 360,
   "metadata": {},
   "outputs": [
    {
     "data": {
      "text/plain": [
       "(118.35050000000001, 35.04916660000001)"
      ]
     },
     "execution_count": 360,
     "metadata": {},
     "output_type": "execute_result"
    },
    {
     "data": {
      "image/png": "[encoded data removed]",
      "text/plain": [
       "<Figure size 432x288 with 1 Axes>"
      ]
     },
     "metadata": {
      "needs_background": "light"
     },
     "output_type": "display_data"
    }
   ],
   "source": [
    "x = X['lng']\n",
    "y = X['lat']\n",
    "\n",
    "kernel_density(x,y,'a')\n"
   ]
  },
  {
   "cell_type": "code",
   "execution_count": 275,
   "metadata": {},
   "outputs": [
    {
     "data": {
      "text/plain": [
       "107.3378333"
      ]
     },
     "execution_count": 275,
     "metadata": {},
     "output_type": "execute_result"
    }
   ],
   "source": [
    "x_min = min(x)\n",
    "x_max = max(x)\n",
    "y_min = min(y)\n",
    "y_max = max(y)\n",
    "x_min"
   ]
  },
  {
   "cell_type": "code",
   "execution_count": 276,
   "metadata": {},
   "outputs": [
    {
     "data": {
      "text/plain": [
       "[(107.41516660000002, 26.568333300000006),\n",
       " (107.41500000000002, 26.568166599999998),\n",
       " (107.41449990000001, 26.5668333),\n",
       " (107.41583329999997, 26.570499999999996),\n",
       " (107.4148333, 26.568166599999998),\n",
       " (107.4148333, 26.567999999999998),\n",
       " (107.41500000000002, 26.568166599999998),\n",
       " (107.58449999999999, 26.168499999999995),\n",
       " (107.4148333, 26.567999999999998),\n",
       " (107.4148333, 26.567999999999998),\n",
       " (107.4148333, 26.567999999999998),\n",
       " (119.66449990000001, 30.579333300000002),\n",
       " (117.2849999, 29.88900000000001),\n",
       " (119.66433330000001, 30.579000000000008),\n",
       " (119.66449990000001, 30.579499999999996),\n",
       " (119.66383330000002, 30.579666599999996),\n",
       " (119.66449990000001, 30.579333300000002),\n",
       " (119.66433330000001, 30.579333300000002),\n",
       " (119.66449990000001, 30.579333300000002),\n",
       " (119.66433330000001, 30.579499999999996),\n",
       " (119.66449990000001, 30.579333300000002),\n",
       " (119.66433330000001, 30.579000000000008),\n",
       " (119.66333329999998, 30.57983329999999),\n",
       " (119.66433330000001, 30.579000000000008),\n",
       " (119.66416659999999, 30.579499999999996),\n",
       " (119.66433330000001, 30.579000000000008),\n",
       " (119.66449990000001, 30.579333300000002),\n",
       " (119.66433330000001, 30.579000000000008),\n",
       " (119.66449990000001, 30.579333300000002),\n",
       " (119.66433330000001, 30.579000000000008),\n",
       " (119.66383330000002, 30.579666599999996),\n",
       " (119.66433330000001, 30.579333300000002),\n",
       " (119.66449990000001, 30.579333300000002),\n",
       " (119.66433330000001, 30.579000000000008),\n",
       " (119.66383330000002, 30.579666599999996),\n",
       " (119.66449990000001, 30.579333300000002),\n",
       " (119.66449990000001, 30.579333300000002),\n",
       " (119.66433330000001, 30.579499999999996),\n",
       " (119.66449990000001, 30.579333300000002),\n",
       " (119.66449990000001, 30.579499999999996),\n",
       " (119.6635, 30.578166600000003),\n",
       " (107.4148333, 26.567999999999998),\n",
       " (113.38799999999998, 27.787833300000003),\n",
       " (107.4148333, 26.567999999999998),\n",
       " (107.41500000000002, 26.568333300000006),\n",
       " (112.56450000000001, 26.926666600000004),\n",
       " (112.56433329999999, 26.9268333),\n",
       " (107.41500000000002, 26.568166599999998),\n",
       " (112.56450000000001, 26.9268333),\n",
       " (107.4591666, 26.609499999999997),\n",
       " (107.45949999999999, 26.609499999999997),\n",
       " (112.56433329999999, 26.9268333),\n",
       " (107.52266659999998, 26.631500000000003),\n",
       " (107.4148333, 26.567999999999998),\n",
       " (107.4148333, 26.568166599999998),\n",
       " (107.4148333, 26.567999999999998),\n",
       " (107.41516660000002, 26.5685),\n",
       " (107.41516660000002, 26.568333300000006),\n",
       " (107.41566660000001, 26.569500000000005),\n",
       " (107.41500000000002, 26.568166599999998),\n",
       " (107.4148333, 26.568166599999998),\n",
       " (107.3378333, 26.517333300000004),\n",
       " (107.4148333, 26.568166599999998),\n",
       " (107.4148333, 26.567999999999998),\n",
       " (107.4148333, 26.567999999999998),\n",
       " (107.41500000000002, 26.567999999999998),\n",
       " (107.41533329999999, 26.5686666),\n",
       " (107.4148333, 26.567999999999998),\n",
       " (107.4148333, 26.567999999999998),\n",
       " (107.4148333, 26.567999999999998)]"
      ]
     },
     "execution_count": 276,
     "metadata": {},
     "output_type": "execute_result"
    }
   ],
   "source": [
    "xx = list(zip(x, y))\n",
    "xx"
   ]
  },
  {
   "cell_type": "code",
   "execution_count": 277,
   "metadata": {},
   "outputs": [
    {
     "data": {
      "text/plain": [
       "array([ 2.00852223,  2.00845481,  2.00797947,  2.00881158,  2.00841696,\n",
       "        2.00838214,  2.00845481, -1.47860425,  2.00838214,  2.00838214,\n",
       "        2.00838214,  1.88608169, -1.48120212,  1.88607972,  1.88607963,\n",
       "        1.88606713,  1.88608169,  1.88608394,  1.88608169,  1.88608188,\n",
       "        1.88608169,  1.88607972,  1.8860246 ,  1.88607972,  1.88608135,\n",
       "        1.88607972,  1.88608169,  1.88607972,  1.88608169,  1.88607972,\n",
       "        1.88606713,  1.88608394,  1.88608169,  1.88607972,  1.88606713,\n",
       "        1.88608169,  1.88608169,  1.88608188,  1.88608169,  1.88607963,\n",
       "        1.88599016,  2.00838214, -1.48120212,  2.00838214,  2.008487  ,\n",
       "       -0.0949095 , -0.0949088 ,  2.00845481, -0.0949088 ,  1.85441804,\n",
       "        1.85311777, -0.0949088 ,  1.31856244,  2.00838214,  2.00841696,\n",
       "        2.00838214,  2.00855176,  2.00852223,  2.00876292,  2.00845481,\n",
       "        2.00841696,  1.57728635,  2.00841696,  2.00838214,  2.00838214,\n",
       "        2.00841993,  2.00861127,  2.00838214,  2.00838214,  2.00838214])"
      ]
     },
     "execution_count": 277,
     "metadata": {},
     "output_type": "execute_result"
    }
   ],
   "source": [
    "kde = KernelDensity(kernel='gaussian', bandwidth=0.1, algorithm='kd_tree').fit(xx)\n",
    "log_dens = kde.score_samples(xx)\n",
    "log_dens"
   ]
  },
  {
   "cell_type": "code",
   "execution_count": 278,
   "metadata": {},
   "outputs": [
    {
     "data": {
      "text/plain": [
       "[7.452296410552364,\n",
       " 7.4517940295965,\n",
       " 7.44825274830049,\n",
       " 7.454453078747522,\n",
       " 7.451511955518219,\n",
       " 7.451252538966383,\n",
       " 7.4517940295965,\n",
       " 0.22795563522804665,\n",
       " 7.451252538966383,\n",
       " 7.451252538966383,\n",
       " 7.451252538966383,\n",
       " 6.593482680150598,\n",
       " 0.22736420441699318,\n",
       " 6.593469730182182,\n",
       " 6.593469098446932,\n",
       " 6.593386695749422,\n",
       " 6.593482680150598,\n",
       " 6.593497514567214,\n",
       " 6.593482680150598,\n",
       " 6.593483932836821,\n",
       " 6.593482680150598,\n",
       " 6.593469730182182,\n",
       " 6.593106296495844,\n",
       " 6.593469730182182,\n",
       " 6.593480459256463,\n",
       " 6.593469730182182,\n",
       " 6.593482680150598,\n",
       " 6.593469730182182,\n",
       " 6.593482680150598,\n",
       " 6.593469730182182,\n",
       " 6.593386695749422,\n",
       " 6.593497514567214,\n",
       " 6.593482680150598,\n",
       " 6.593469730182182,\n",
       " 6.593386695749422,\n",
       " 6.593482680150598,\n",
       " 6.593482680150598,\n",
       " 6.593483932836821,\n",
       " 6.593482680150598,\n",
       " 6.593469098446932,\n",
       " 6.592879247297209,\n",
       " 7.451252538966383,\n",
       " 0.22736420441699318,\n",
       " 7.451252538966383,\n",
       " 7.45203385632057,\n",
       " 0.9094552381202317,\n",
       " 0.90945586993924,\n",
       " 7.4517940295965,\n",
       " 0.9094558699388006,\n",
       " 6.387979631628709,\n",
       " 6.379678890976922,\n",
       " 0.90945586993924,\n",
       " 3.7380438560150595,\n",
       " 7.451252538966383,\n",
       " 7.451511955518219,\n",
       " 7.451252538966383,\n",
       " 7.452516481983698,\n",
       " 7.452296410552364,\n",
       " 7.454090313004608,\n",
       " 7.4517940295965,\n",
       " 7.451511955518219,\n",
       " 4.8417990010229,\n",
       " 7.451511955518219,\n",
       " 7.451252538966383,\n",
       " 7.451252538966383,\n",
       " 7.451534061092087,\n",
       " 7.452960027950668,\n",
       " 7.451252538966383,\n",
       " 7.451252538966383,\n",
       " 7.451252538966383]"
      ]
     },
     "execution_count": 278,
     "metadata": {},
     "output_type": "execute_result"
    }
   ],
   "source": [
    "z = np.exp(log_dens).tolist()\n",
    "z"
   ]
  },
  {
   "cell_type": "code",
   "execution_count": 279,
   "metadata": {},
   "outputs": [
    {
     "data": {
      "text/plain": [
       "Text(0, 0.5, 'latitude')"
      ]
     },
     "execution_count": 279,
     "metadata": {},
     "output_type": "execute_result"
    },
    {
     "data": {
      "image/png": "[encoded data removed]",
      "text/plain": [
       "<Figure size 432x288 with 1 Axes>"
      ]
     },
     "metadata": {
      "needs_background": "light"
     },
     "output_type": "display_data"
    }
   ],
   "source": [
    "max_poi = z.index(max(z))\n",
    "#     print(xx[z.index(max(z))])\n",
    "max_lon = x[max_poi]\n",
    "max_lat = y[max_poi]\n",
    "fig1 = plt.figure()\n",
    "ax1 = fig1.gca()\n",
    "ax1.set_xlim(x_min, x_max)\n",
    "ax1.set_ylim(y_min, y_max)\n",
    "ax1.scatter(x, y, c=z, cmap='Blues')\n",
    "ax1.scatter(x[max_poi], y[max_poi],marker='p', c='r')\n",
    "# ax1.imshow(np.rot90(xy), cmap = 'Blues', extent=[x_min, x_max, y_min, y_max])\n",
    "# cset = ax1.contour(x, y, z, colors='k')\n",
    "# ax1.clabel(cset, inline = 1, fontsize=10)\n",
    "ax1.set_xlabel('lontitude')\n",
    "ax1.set_ylabel('latitude')\n",
    "#filename = typename+' gkde1.jpg'\n",
    "#pl.savefig(filename)\n",
    "    #return max_lon, max_lat"
   ]
  },
  {
   "cell_type": "code",
   "execution_count": 80,
   "metadata": {},
   "outputs": [
    {
     "data": {
      "text/plain": [
       "26.597499999999997"
      ]
     },
     "execution_count": 80,
     "metadata": {},
     "output_type": "execute_result"
    }
   ],
   "source": [
    "max_lon\n",
    "max_lat"
   ]
  },
  {
   "cell_type": "code",
   "execution_count": 81,
   "metadata": {},
   "outputs": [
    {
     "data": {
      "text/plain": [
       "array([[ 26.6301666,  26.5565   ,  26.5668333,  26.5845   ,  26.5693333,\n",
       "         26.5773333,  26.5681666,  26.5758333,  26.568    ,  26.5793333,\n",
       "         26.5681666,  26.5841666,  26.5681666,  26.6301666,  26.5681666,\n",
       "         26.5191666,  26.568    ,  26.636    ,  26.636    ,  26.6375   ,\n",
       "         26.6361666,  26.6298333,  26.5838333,  26.5843333,  26.568    ,\n",
       "         26.5845   ,  27.5298333,  28.2683333,  28.7318333,  29.4535   ,\n",
       "         29.2933333,  29.889    ,  30.617    ,  30.5795   ,  30.617    ,\n",
       "         30.5793333,  30.6168333,  30.617    ,  30.5793333,  30.5793333,\n",
       "         30.5793333,  30.617    ,  30.5793333,  30.6168333,  30.6168333,\n",
       "         30.5798333,  30.6168333,  30.5798333,  30.6168333,  30.6168333,\n",
       "         30.6138333,  30.6103333,  30.5795   ,  30.6168333,  30.5793333,\n",
       "         30.5793333,  30.6168333,  30.617    ,  30.5796666,  30.6168333,\n",
       "         30.5793333,  30.617    ,  30.5796666,  30.6168333,  30.5793333,\n",
       "         30.5793333,  30.578    ,  30.5793333,  30.6168333,  30.5691666,\n",
       "         30.5781666,  30.578    ,  30.5795   ,  30.578    ,  29.8441666,\n",
       "         29.8431666,  28.6298333,  28.0515   ,  27.7878333,  26.5846666,\n",
       "         26.5683333,  26.6316666,  26.7568333,  27.31     ,  27.0391666,\n",
       "         26.9216666,  26.927    ,  26.9178333,  26.9268333,  26.9211666,\n",
       "         26.9268333,  26.5461666,  26.6886666,  26.7055   ,  26.7076666,\n",
       "         26.7073333,  26.6641666,  26.5645   ,  26.5703333,  26.5468333,\n",
       "         26.6095   ,  26.6081666,  26.5726666,  26.5561666,  26.568    ,\n",
       "         26.571    ,  26.5651666,  26.6358333,  26.636    ,  26.6528333,\n",
       "         26.6338333,  26.5848333,  26.5681666,  26.6315   ,  26.9215   ,\n",
       "         27.3441666,  27.2888333,  27.1856666,  27.0315   ,  27.3106666,\n",
       "         27.4328333,  27.2886666,  26.9648333,  26.727    ,  26.5966666,\n",
       "         26.525    ,  26.5681666,  26.6463333,  26.6358333,  26.5898333,\n",
       "         26.5685   ,  26.5803333,  26.6185   ,  26.634    ,  26.6343333,\n",
       "         26.629    ,  26.5695   ,  26.5856666,  26.5695   ,  26.5846666,\n",
       "         26.5568333,  26.5846666,  26.565    ,  26.5566666,  26.5848333,\n",
       "         26.568    ,  26.5846666,  26.568    ,  26.5841666,  26.6293333,\n",
       "         26.6295   ,  26.5681666,  26.5856666,  26.5841666,  26.5681666,\n",
       "         26.5103333,  26.5235   ,  26.5428333,  26.565    ,  26.568    ,\n",
       "         26.5685   ,  26.5841666,  26.6951666,  26.6356666,  26.5836666,\n",
       "         26.5686666,  26.5846666,  26.5841666,  26.317    ,  26.3075   ,\n",
       "         26.2995   ,  26.2996666,  26.2853333,  26.3611666,  26.5975   ,\n",
       "         26.568    ,  26.5845   ,  26.5023333,  26.5115   ,  26.5468333,\n",
       "         26.5601666,  26.5285   ,  26.5661666,  26.5843333,  26.5836666,\n",
       "         26.568    ],\n",
       "       [107.5188333, 107.4126666, 107.4144999, 107.4013333, 107.4155   ,\n",
       "        107.4103333, 107.4148333, 107.3971666, 107.4148333, 107.3961666,\n",
       "        107.415    , 107.402    , 107.4148333, 107.5188333, 107.4148333,\n",
       "        107.8565   , 107.4148333, 107.5225   , 107.5321666, 107.5225   ,\n",
       "        107.5325   , 107.5181666, 107.4021666, 107.4013333, 107.4148333,\n",
       "        107.4015   , 108.3366666, 110.0245   , 111.3781666, 112.9876666,\n",
       "        113.6078333, 117.2849999, 119.672    , 119.6644999, 119.6708333,\n",
       "        119.6644999, 119.671    , 119.6701666, 119.6644999, 119.6644999,\n",
       "        119.6644999, 119.672    , 119.6644999, 119.6711666, 119.6711666,\n",
       "        119.6633333, 119.6705   , 119.6635   , 119.6711666, 119.6723333,\n",
       "        119.6725   , 119.6753333, 119.6641666, 119.6706666, 119.6644999,\n",
       "        119.6644999, 119.6711666, 119.6708333, 119.6638333, 119.6711666,\n",
       "        119.6644999, 119.6711666, 119.6638333, 119.6688333, 119.6644999,\n",
       "        119.6644999, 119.6681666, 119.6644999, 119.671    , 119.644    ,\n",
       "        119.6635   , 119.6681666, 119.6646666, 119.668    , 119.7958333,\n",
       "        119.7946666, 118.1543333, 116.2991666, 113.388    , 107.4013333,\n",
       "        107.415    , 107.5203333, 108.52     , 110.1133333, 110.6011666,\n",
       "        112.566    , 112.5641666, 112.5589999, 112.5643333, 112.56     ,\n",
       "        112.5645   , 107.3781666, 107.5145   , 107.5096666, 107.5058333,\n",
       "        107.5045   , 107.5183333, 107.4138333, 107.4156666, 107.3768333,\n",
       "        107.4595   , 107.4555   , 107.389    , 107.3875   , 107.4148333,\n",
       "        107.4156666, 107.3875   , 107.526    , 107.5321666, 107.5158333,\n",
       "        107.5238333, 107.401    , 107.4148333, 107.5226666, 112.5615   ,\n",
       "        111.4194999, 111.3901666, 111.1921666, 110.6273333, 110.1151666,\n",
       "        109.641    , 109.0085   , 108.6633333, 108.4428333, 108.1828333,\n",
       "        107.8415   , 107.4148333, 107.5213333, 107.5246666, 107.4066666,\n",
       "        107.4151666, 107.407    , 107.485    , 107.5215   , 107.5221666,\n",
       "        107.5151666, 107.4156666, 107.402    , 107.4156666, 107.4011666,\n",
       "        107.4126666, 107.4011666, 107.4135   , 107.4128333, 107.4011666,\n",
       "        107.4148333, 107.4013333, 107.4148333, 107.402    , 107.5315   ,\n",
       "        107.534    , 107.4148333, 107.402    , 107.4015   , 107.4148333,\n",
       "        107.3263333, 107.3351666, 107.3571666, 107.4135   , 107.4148333,\n",
       "        107.4151666, 107.402    , 107.512    , 107.5245   , 107.4003333,\n",
       "        107.4153333, 107.4018333, 107.4006666, 107.5046666, 107.5138333,\n",
       "        107.5253333, 107.5275   , 107.5423333, 107.5068333, 107.4345   ,\n",
       "        107.4148333, 107.4016666, 107.1608333, 107.1305   , 107.12     ,\n",
       "        107.1108333, 107.1201666, 107.2381666, 107.402    , 107.4004999,\n",
       "        107.4148333]])"
      ]
     },
     "execution_count": 81,
     "metadata": {},
     "output_type": "execute_result"
    }
   ],
   "source": [
    "np.rot90(xy)"
   ]
  },
  {
   "cell_type": "code",
   "execution_count": 41,
   "metadata": {},
   "outputs": [
    {
     "data": {
      "text/plain": [
       "2"
      ]
     },
     "execution_count": 41,
     "metadata": {},
     "output_type": "execute_result"
    }
   ],
   "source": [
    "len(xy[0])"
   ]
  },
  {
   "cell_type": "code",
   "execution_count": null,
   "metadata": {},
   "outputs": [],
   "source": []
  },
  {
   "cell_type": "code",
   "execution_count": null,
   "metadata": {},
   "outputs": [],
   "source": []
  }
 ],
 "metadata": {
  "kernelspec": {
   "display_name": "Python 3",
   "language": "python",
   "name": "python3"
  },
  "language_info": {
   "codemirror_mode": {
    "name": "ipython",
    "version": 3
   },
   "file_extension": ".py",
   "mimetype": "text/x-python",
   "name": "python",
   "nbconvert_exporter": "python",
   "pygments_lexer": "ipython3",
   "version": "3.6.7"
  }
 },
 "nbformat": 4,
 "nbformat_minor": 2
}
