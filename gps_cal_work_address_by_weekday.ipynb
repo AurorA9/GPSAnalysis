{
 "cells": [
  {
   "cell_type": "code",
   "execution_count": 3,
   "metadata": {},
   "outputs": [],
   "source": [
    "import pandas as pd\n",
    "import numpy as np\n",
    "import matplotlib.pyplot as plt\n",
    "%matplotlib inline\n",
    "from sklearn.cluster import KMeans\n",
    "from scipy.spatial.distance import squareform\n",
    "from scipy.spatial.distance import pdist\n",
    "from sklearn.cluster import DBSCAN\n",
    "from sklearn.neighbors import KernelDensity\n",
    "import seaborn as sns\n",
    "import math"
   ]
  },
  {
   "cell_type": "code",
   "execution_count": 5,
   "metadata": {},
   "outputs": [
    {
     "name": "stdout",
     "output_type": "stream",
     "text": [
      "(565, 22)\n"
     ]
    },
    {
     "data": {
      "text/plain": [
       "(565, 22)"
      ]
     },
     "execution_count": 5,
     "metadata": {},
     "output_type": "execute_result"
    }
   ],
   "source": [
    "filename = '30aff6ca-ca81-4b62-85fe-6dd3b6025e2e.xls'\n",
    "df = pd.read_excel(filename)\n",
    "print(df.shape)\n",
    "df = df[df['weekday'].isin([6,7])]\n",
    "df.shape"
   ]
  },
  {
   "cell_type": "code",
   "execution_count": 6,
   "metadata": {},
   "outputs": [
    {
     "data": {
      "text/plain": [
       "131"
      ]
     },
     "execution_count": 6,
     "metadata": {},
     "output_type": "execute_result"
    }
   ],
   "source": [
    "len(set(df['datetime']))"
   ]
  },
  {
   "cell_type": "code",
   "execution_count": 7,
   "metadata": {},
   "outputs": [],
   "source": [
    "#df['start_address_name'].value_counts()\n",
    "def get_gps_poi(gps_poi,poi):\n",
    "    return float(gps_poi.split(',')[poi])"
   ]
  },
  {
   "cell_type": "code",
   "execution_count": 8,
   "metadata": {},
   "outputs": [],
   "source": [
    "# address_gps = []\n",
    "# address_gps.append(df.iloc[0]['start_gps_poi'])\n",
    "# for i in range(1,df.shape[0]):\n",
    "#     if df.iloc[i]['datetime'] == df.iloc[i-1]['datetime']:\n",
    "#         address_gps.append(df.iloc[i]['start_gps_poi'])\n",
    "#         address_gps.append(df.iloc[i-1]['end_gps_poi'])\n",
    "# address_gps.append(df.iloc[0]['end_gps_poi'])"
   ]
  },
  {
   "cell_type": "code",
   "execution_count": 9,
   "metadata": {},
   "outputs": [],
   "source": [
    "end_address_gps = []\n",
    "for i in range(1, df.shape[0]):\n",
    "    if df['datetime'].iloc[i] != df['datetime'].iloc[i - 1]:\n",
    "        continue\n",
    "    else:\n",
    "        # 获取上次的终止地址的GPS信息\n",
    "        last_x = get_gps_poi(df['end_gps_poi'].iloc[i - 1], 0)\n",
    "        last_y = get_gps_poi(df['end_gps_poi'].iloc[i - 1], 1)\n",
    "        # 获取当前开始地址的GPS信息\n",
    "        now_x = get_gps_poi(df['start_gps_poi'].iloc[i], 0)\n",
    "        now_y = get_gps_poi(df['start_gps_poi'].iloc[i], 1)\n",
    "\n",
    "        diff_time = df['start_time'].iloc[i] - pd.to_datetime(df['end_time'].iloc[i - 1])\n",
    "        hours = int(str(diff_time).split(' ')[2].split(':')[0])\n",
    "        minues = int(str(diff_time).split(' ')[2].split(':')[1])\n",
    "        all_minues = hours * 60 + minues\n",
    "        # 间隔小于100米 且时间超过200分钟，进行记录\n",
    "        if pow((now_x - last_x) ** 2 + (now_y - last_y) ** 2, 0.5) < 0.001 and all_minues >= 200:\n",
    "            end_address_gps.append(df.iloc[i]['start_gps_poi'])"
   ]
  },
  {
   "cell_type": "code",
   "execution_count": 11,
   "metadata": {},
   "outputs": [
    {
     "data": {
      "text/plain": [
       "17"
      ]
     },
     "execution_count": 11,
     "metadata": {},
     "output_type": "execute_result"
    }
   ],
   "source": [
    "len(end_address_gps)"
   ]
  },
  {
   "cell_type": "code",
   "execution_count": 12,
   "metadata": {},
   "outputs": [],
   "source": [
    "pointsList = []\n",
    "for item in end_address_gps:\n",
    "    point = []\n",
    "    x =get_gps_poi(item,0)\n",
    "    y =get_gps_poi(item,1)\n",
    "    point.append(x)\n",
    "    point.append(y)\n",
    "    pointsList.append(point)    \n",
    "#pointsList"
   ]
  },
  {
   "cell_type": "code",
   "execution_count": 13,
   "metadata": {},
   "outputs": [
    {
     "data": {
      "text/plain": [
       "array([107.5186666,  26.6305   ])"
      ]
     },
     "execution_count": 13,
     "metadata": {},
     "output_type": "execute_result"
    }
   ],
   "source": [
    "xy = np.array(pointsList)\n",
    "#xy[:,0]\n",
    "xy[0,:]"
   ]
  },
  {
   "cell_type": "code",
   "execution_count": 14,
   "metadata": {},
   "outputs": [
    {
     "data": {
      "text/plain": [
       "array([107.5186666, 119.6711666, 119.6711666, 119.6713333, 119.6643333,\n",
       "       119.6644999, 119.6715   , 119.6711666, 119.6716666, 119.6713333,\n",
       "       119.6718333, 119.6711666, 119.6711666, 119.6711666, 119.671    ,\n",
       "       119.668    , 107.512    ])"
      ]
     },
     "execution_count": 14,
     "metadata": {},
     "output_type": "execute_result"
    }
   ],
   "source": [
    "xy[:,0]"
   ]
  },
  {
   "cell_type": "code",
   "execution_count": 15,
   "metadata": {},
   "outputs": [],
   "source": [
    "X = pd.DataFrame(\n",
    "        {\n",
    "         \"lng\": xy[:,0],\n",
    "         \"lat\": xy[:,1]\n",
    "        })\n",
    "#X\n",
    "# X.describe()"
   ]
  },
  {
   "cell_type": "code",
   "execution_count": 16,
   "metadata": {},
   "outputs": [
    {
     "data": {
      "text/html": [
       "<div>\n",
       "<style scoped>\n",
       "    .dataframe tbody tr th:only-of-type {\n",
       "        vertical-align: middle;\n",
       "    }\n",
       "\n",
       "    .dataframe tbody tr th {\n",
       "        vertical-align: top;\n",
       "    }\n",
       "\n",
       "    .dataframe thead th {\n",
       "        text-align: right;\n",
       "    }\n",
       "</style>\n",
       "<table border=\"1\" class=\"dataframe\">\n",
       "  <thead>\n",
       "    <tr style=\"text-align: right;\">\n",
       "      <th></th>\n",
       "      <th>lng</th>\n",
       "      <th>lat</th>\n",
       "    </tr>\n",
       "  </thead>\n",
       "  <tbody>\n",
       "    <tr>\n",
       "      <th>0</th>\n",
       "      <td>107.518667</td>\n",
       "      <td>26.630500</td>\n",
       "    </tr>\n",
       "    <tr>\n",
       "      <th>1</th>\n",
       "      <td>119.671167</td>\n",
       "      <td>30.616833</td>\n",
       "    </tr>\n",
       "    <tr>\n",
       "      <th>2</th>\n",
       "      <td>119.671167</td>\n",
       "      <td>30.616833</td>\n",
       "    </tr>\n",
       "    <tr>\n",
       "      <th>3</th>\n",
       "      <td>119.671333</td>\n",
       "      <td>30.616833</td>\n",
       "    </tr>\n",
       "    <tr>\n",
       "      <th>4</th>\n",
       "      <td>119.664333</td>\n",
       "      <td>30.579167</td>\n",
       "    </tr>\n",
       "    <tr>\n",
       "      <th>5</th>\n",
       "      <td>119.664500</td>\n",
       "      <td>30.579500</td>\n",
       "    </tr>\n",
       "    <tr>\n",
       "      <th>6</th>\n",
       "      <td>119.671500</td>\n",
       "      <td>30.617000</td>\n",
       "    </tr>\n",
       "    <tr>\n",
       "      <th>7</th>\n",
       "      <td>119.671167</td>\n",
       "      <td>30.616667</td>\n",
       "    </tr>\n",
       "    <tr>\n",
       "      <th>8</th>\n",
       "      <td>119.671667</td>\n",
       "      <td>30.617000</td>\n",
       "    </tr>\n",
       "    <tr>\n",
       "      <th>9</th>\n",
       "      <td>119.671333</td>\n",
       "      <td>30.616833</td>\n",
       "    </tr>\n",
       "  </tbody>\n",
       "</table>\n",
       "</div>"
      ],
      "text/plain": [
       "          lng        lat\n",
       "0  107.518667  26.630500\n",
       "1  119.671167  30.616833\n",
       "2  119.671167  30.616833\n",
       "3  119.671333  30.616833\n",
       "4  119.664333  30.579167\n",
       "5  119.664500  30.579500\n",
       "6  119.671500  30.617000\n",
       "7  119.671167  30.616667\n",
       "8  119.671667  30.617000\n",
       "9  119.671333  30.616833"
      ]
     },
     "execution_count": 16,
     "metadata": {},
     "output_type": "execute_result"
    }
   ],
   "source": [
    "X[:10]"
   ]
  },
  {
   "cell_type": "code",
   "execution_count": 17,
   "metadata": {},
   "outputs": [],
   "source": [
    "#re.labels_"
   ]
  },
  {
   "cell_type": "code",
   "execution_count": 18,
   "metadata": {},
   "outputs": [],
   "source": [
    "#dir(re)"
   ]
  },
  {
   "cell_type": "code",
   "execution_count": 19,
   "metadata": {},
   "outputs": [
    {
     "data": {
      "text/plain": [
       "<Figure size 3600x3600 with 0 Axes>"
      ]
     },
     "metadata": {},
     "output_type": "display_data"
    }
   ],
   "source": [
    "fig =plt.figure(figsize=(50,50))"
   ]
  },
  {
   "cell_type": "code",
   "execution_count": 20,
   "metadata": {},
   "outputs": [
    {
     "data": {
      "image/png": "[encoded data removed]",
      "text/plain": [
       "<Figure size 432x288 with 1 Axes>"
      ]
     },
     "metadata": {
      "needs_background": "light"
     },
     "output_type": "display_data"
    }
   ],
   "source": [
    "plt.scatter(xy[:,0],xy[:,1],s=0.01)\n",
    "plt.locator_params(nbins = 100)"
   ]
  },
  {
   "cell_type": "code",
   "execution_count": 21,
   "metadata": {},
   "outputs": [],
   "source": [
    "def haversine(lonlat1, lonlat2):\n",
    "    lon1, lat1  = lonlat1\n",
    "    lon2, lat2= lonlat2\n",
    "    lon1, lat1, lon2, lat2 = map(math.radians, [lon1, lat1, lon2, lat2])\n",
    "\n",
    "    dlon = lon2 - lon1\n",
    "    dlat = lat2 - lat1\n",
    "    a = math.sin(dlat / 2) ** 2 + math.cos(lat1) * math.cos(lat2) * math.sin(dlon / 2) ** 2\n",
    "    c = 2 * math.asin(math.sqrt(a))\n",
    "    r = 6371  # Radius of earth in kilometers. Use 3956 for miles\n",
    "    return c * r *1000\n"
   ]
  },
  {
   "cell_type": "code",
   "execution_count": 22,
   "metadata": {},
   "outputs": [
    {
     "data": {
      "text/plain": [
       "111.19492664426889"
      ]
     },
     "execution_count": 22,
     "metadata": {},
     "output_type": "execute_result"
    }
   ],
   "source": [
    "haversine([116.456, 39.921],[116.456, 39.920])"
   ]
  },
  {
   "cell_type": "code",
   "execution_count": 23,
   "metadata": {},
   "outputs": [
    {
     "data": {
      "text/plain": [
       "array([[  0.       , 111.1271897, 222.2543794, 222.2543794],\n",
       "       [111.1271897,   0.       , 111.1271897, 111.1271897],\n",
       "       [222.2543794, 111.1271897,   0.       ,   0.       ],\n",
       "       [222.2543794, 111.1271897,   0.       ,   0.       ]])"
      ]
     },
     "execution_count": 23,
     "metadata": {},
     "output_type": "execute_result"
    }
   ],
   "source": [
    "Y=[[1.001,2.000],[1.002,2.000],[1.003,2.000],[1.003,2.000]]\n",
    "squareform(pdist(Y, (lambda u, v: haversine(u, v))))"
   ]
  },
  {
   "cell_type": "code",
   "execution_count": 24,
   "metadata": {},
   "outputs": [],
   "source": [
    "X = pd.DataFrame(\n",
    "        {\n",
    "         \"lng\": xy[:,0],\n",
    "         \"lat\": xy[:,1]\n",
    "        })\n",
    "def clustering_by_dbscan():\n",
    "    \n",
    "    distance_matrix = squareform(pdist(X, (lambda u, v: haversine(u, v))))\n",
    "    # 2代表两公里  \n",
    "    db = DBSCAN(eps=100, min_samples=5, metric='precomputed')  \n",
    "    y_db = db.fit_predict(distance_matrix)\n",
    "    X['cluster'] = y_db\n",
    "    plt.scatter(X['lng'], X['lat'], c=X['cluster'])\n",
    "    plt.show()\n",
    "#X['cluster'].value_counts()\n"
   ]
  },
  {
   "cell_type": "code",
   "execution_count": 25,
   "metadata": {},
   "outputs": [
    {
     "data": {
      "text/html": [
       "<div>\n",
       "<style scoped>\n",
       "    .dataframe tbody tr th:only-of-type {\n",
       "        vertical-align: middle;\n",
       "    }\n",
       "\n",
       "    .dataframe tbody tr th {\n",
       "        vertical-align: top;\n",
       "    }\n",
       "\n",
       "    .dataframe thead th {\n",
       "        text-align: right;\n",
       "    }\n",
       "</style>\n",
       "<table border=\"1\" class=\"dataframe\">\n",
       "  <thead>\n",
       "    <tr style=\"text-align: right;\">\n",
       "      <th></th>\n",
       "      <th>lng</th>\n",
       "      <th>lat</th>\n",
       "    </tr>\n",
       "  </thead>\n",
       "  <tbody>\n",
       "    <tr>\n",
       "      <th>0</th>\n",
       "      <td>107.518667</td>\n",
       "      <td>26.630500</td>\n",
       "    </tr>\n",
       "    <tr>\n",
       "      <th>1</th>\n",
       "      <td>119.671167</td>\n",
       "      <td>30.616833</td>\n",
       "    </tr>\n",
       "    <tr>\n",
       "      <th>2</th>\n",
       "      <td>119.671167</td>\n",
       "      <td>30.616833</td>\n",
       "    </tr>\n",
       "    <tr>\n",
       "      <th>3</th>\n",
       "      <td>119.671333</td>\n",
       "      <td>30.616833</td>\n",
       "    </tr>\n",
       "    <tr>\n",
       "      <th>4</th>\n",
       "      <td>119.664333</td>\n",
       "      <td>30.579167</td>\n",
       "    </tr>\n",
       "  </tbody>\n",
       "</table>\n",
       "</div>"
      ],
      "text/plain": [
       "          lng        lat\n",
       "0  107.518667  26.630500\n",
       "1  119.671167  30.616833\n",
       "2  119.671167  30.616833\n",
       "3  119.671333  30.616833\n",
       "4  119.664333  30.579167"
      ]
     },
     "execution_count": 25,
     "metadata": {},
     "output_type": "execute_result"
    }
   ],
   "source": [
    "X.head()"
   ]
  },
  {
   "cell_type": "code",
   "execution_count": 26,
   "metadata": {},
   "outputs": [
    {
     "data": {
      "image/png": "[encoded data removed]",
      "text/plain": [
       "<Figure size 432x288 with 1 Axes>"
      ]
     },
     "metadata": {
      "needs_background": "light"
     },
     "output_type": "display_data"
    }
   ],
   "source": [
    "clustering_by_dbscan()"
   ]
  },
  {
   "cell_type": "code",
   "execution_count": 27,
   "metadata": {},
   "outputs": [
    {
     "data": {
      "text/plain": [
       "0"
      ]
     },
     "execution_count": 27,
     "metadata": {},
     "output_type": "execute_result"
    }
   ],
   "source": [
    "cluster = X['cluster'].value_counts().keys()[0]\n",
    "cluster"
   ]
  },
  {
   "cell_type": "code",
   "execution_count": 28,
   "metadata": {},
   "outputs": [
    {
     "data": {
      "text/plain": [
       "0"
      ]
     },
     "execution_count": 28,
     "metadata": {},
     "output_type": "execute_result"
    }
   ],
   "source": [
    " i = 0\n",
    "# 获取结果最多的簇类型\n",
    "cluster = X['cluster'].value_counts().keys()[i]\n",
    "# -1为离群点 无用,选择下一个\n",
    "if cluster == -1:\n",
    "    i += 1\n",
    "    cluster = X['cluster'].value_counts().keys()[i]\n",
    "cluster"
   ]
  },
  {
   "cell_type": "code",
   "execution_count": 29,
   "metadata": {},
   "outputs": [
    {
     "data": {
      "text/plain": [
       " 0    12\n",
       "-1     5\n",
       "Name: cluster, dtype: int64"
      ]
     },
     "execution_count": 29,
     "metadata": {},
     "output_type": "execute_result"
    }
   ],
   "source": [
    "X['cluster'].value_counts()\n"
   ]
  },
  {
   "cell_type": "code",
   "execution_count": 30,
   "metadata": {},
   "outputs": [
    {
     "data": {
      "text/plain": [
       "5"
      ]
     },
     "execution_count": 30,
     "metadata": {},
     "output_type": "execute_result"
    }
   ],
   "source": [
    "len(X[X['cluster'] == -1])"
   ]
  },
  {
   "cell_type": "code",
   "execution_count": 31,
   "metadata": {},
   "outputs": [
    {
     "data": {
      "text/plain": [
       "0.7058823529411765"
      ]
     },
     "execution_count": 31,
     "metadata": {},
     "output_type": "execute_result"
    }
   ],
   "source": [
    "X['cluster'].value_counts().values[0]/X.shape[0]"
   ]
  },
  {
   "cell_type": "code",
   "execution_count": 36,
   "metadata": {},
   "outputs": [
    {
     "data": {
      "text/plain": [
       "30.616833    7\n",
       "30.617000    3\n",
       "30.616667    2\n",
       "Name: lat, dtype: int64"
      ]
     },
     "execution_count": 36,
     "metadata": {},
     "output_type": "execute_result"
    }
   ],
   "source": [
    "X[X['cluster'] == cluster]['lat'].value_counts()"
   ]
  },
  {
   "cell_type": "code",
   "execution_count": 37,
   "metadata": {},
   "outputs": [
    {
     "data": {
      "text/html": [
       "<div>\n",
       "<style scoped>\n",
       "    .dataframe tbody tr th:only-of-type {\n",
       "        vertical-align: middle;\n",
       "    }\n",
       "\n",
       "    .dataframe tbody tr th {\n",
       "        vertical-align: top;\n",
       "    }\n",
       "\n",
       "    .dataframe thead th {\n",
       "        text-align: right;\n",
       "    }\n",
       "</style>\n",
       "<table border=\"1\" class=\"dataframe\">\n",
       "  <thead>\n",
       "    <tr style=\"text-align: right;\">\n",
       "      <th></th>\n",
       "      <th></th>\n",
       "      <th>cluster</th>\n",
       "      <th>count</th>\n",
       "    </tr>\n",
       "    <tr>\n",
       "      <th>lat</th>\n",
       "      <th>lng</th>\n",
       "      <th></th>\n",
       "      <th></th>\n",
       "    </tr>\n",
       "  </thead>\n",
       "  <tbody>\n",
       "    <tr>\n",
       "      <th>30.616667</th>\n",
       "      <th>119.671167</th>\n",
       "      <td>0</td>\n",
       "      <td>2</td>\n",
       "    </tr>\n",
       "    <tr>\n",
       "      <th rowspan=\"3\" valign=\"top\">30.616833</th>\n",
       "      <th>119.671000</th>\n",
       "      <td>0</td>\n",
       "      <td>1</td>\n",
       "    </tr>\n",
       "    <tr>\n",
       "      <th>119.671167</th>\n",
       "      <td>0</td>\n",
       "      <td>4</td>\n",
       "    </tr>\n",
       "    <tr>\n",
       "      <th>119.671333</th>\n",
       "      <td>0</td>\n",
       "      <td>2</td>\n",
       "    </tr>\n",
       "    <tr>\n",
       "      <th rowspan=\"3\" valign=\"top\">30.617000</th>\n",
       "      <th>119.671500</th>\n",
       "      <td>0</td>\n",
       "      <td>1</td>\n",
       "    </tr>\n",
       "    <tr>\n",
       "      <th>119.671667</th>\n",
       "      <td>0</td>\n",
       "      <td>1</td>\n",
       "    </tr>\n",
       "    <tr>\n",
       "      <th>119.671833</th>\n",
       "      <td>0</td>\n",
       "      <td>1</td>\n",
       "    </tr>\n",
       "  </tbody>\n",
       "</table>\n",
       "</div>"
      ],
      "text/plain": [
       "                      cluster  count\n",
       "lat       lng                       \n",
       "30.616667 119.671167        0      2\n",
       "30.616833 119.671000        0      1\n",
       "          119.671167        0      4\n",
       "          119.671333        0      2\n",
       "30.617000 119.671500        0      1\n",
       "          119.671667        0      1\n",
       "          119.671833        0      1"
      ]
     },
     "execution_count": 37,
     "metadata": {},
     "output_type": "execute_result"
    }
   ],
   "source": [
    "X['count'] = 1\n",
    "xx = X[X['cluster'] == cluster].groupby(['lat','lng']).sum()\n",
    "\n",
    "xx"
   ]
  },
  {
   "cell_type": "code",
   "execution_count": 42,
   "metadata": {},
   "outputs": [
    {
     "data": {
      "text/plain": [
       "(119.67116659999999, 30.616833299999996)"
      ]
     },
     "execution_count": 42,
     "metadata": {},
     "output_type": "execute_result"
    }
   ],
   "source": [
    "yy = xx.reset_index()\n",
    "\n",
    "df_ = yy[yy['count'] == max(yy['count'])]\n",
    "res_lng =df_['lng'].iloc[0]\n",
    "res_lat = df_['lat'].iloc[0]\n",
    "res_lng,res_lat"
   ]
  },
  {
   "cell_type": "code",
   "execution_count": 43,
   "metadata": {},
   "outputs": [
    {
     "data": {
      "text/plain": [
       "119.67130550833336"
      ]
     },
     "execution_count": 43,
     "metadata": {},
     "output_type": "execute_result"
    }
   ],
   "source": [
    "X[X['cluster'] == cluster]['lng'].mean()"
   ]
  },
  {
   "cell_type": "code",
   "execution_count": 44,
   "metadata": {},
   "outputs": [
    {
     "data": {
      "text/plain": [
       "30.61684719166666"
      ]
     },
     "execution_count": 44,
     "metadata": {},
     "output_type": "execute_result"
    }
   ],
   "source": [
    "X[X['cluster'] == cluster]['lat'].mean()"
   ]
  },
  {
   "cell_type": "code",
   "execution_count": 45,
   "metadata": {},
   "outputs": [
    {
     "data": {
      "text/plain": [
       "(120.12049999999999, 29.338833300000005)"
      ]
     },
     "execution_count": 45,
     "metadata": {},
     "output_type": "execute_result"
    }
   ],
   "source": [
    "120.12049999999999,29.338833300000005"
   ]
  },
  {
   "cell_type": "code",
   "execution_count": 46,
   "metadata": {},
   "outputs": [
    {
     "data": {
      "text/plain": [
       "<matplotlib.axes._subplots.AxesSubplot at 0x15e3fce8b70>"
      ]
     },
     "execution_count": 46,
     "metadata": {},
     "output_type": "execute_result"
    },
    {
     "data": {
      "image/png": "[encoded data removed]",
      "text/plain": [
       "<Figure size 432x288 with 1 Axes>"
      ]
     },
     "metadata": {
      "needs_background": "light"
     },
     "output_type": "display_data"
    }
   ],
   "source": [
    "#sns.jointplot(x='lng', y='lat', data=X,)\n",
    "#sns.kdeplot(X['lng'], shade=True)   \n",
    "sns.kdeplot(X['lat'], shade=True)   "
   ]
  },
  {
   "cell_type": "code",
   "execution_count": 47,
   "metadata": {},
   "outputs": [
    {
     "data": {
      "text/plain": [
       "<seaborn.axisgrid.PairGrid at 0x15e3fcfc320>"
      ]
     },
     "execution_count": 47,
     "metadata": {},
     "output_type": "execute_result"
    },
    {
     "data": {
      "image/png": "[encoded data removed]",
      "text/plain": [
       "<Figure size 406x360 with 6 Axes>"
      ]
     },
     "metadata": {
      "needs_background": "light"
     },
     "output_type": "display_data"
    }
   ],
   "source": [
    "sns.pairplot(X,vars = ['lng','lat'],hue=\"cluster\")"
   ]
  },
  {
   "cell_type": "code",
   "execution_count": 48,
   "metadata": {},
   "outputs": [],
   "source": [
    "'''calculate the density, and return the max-density position'''\n",
    "def kernel_density(x, y, typename):\n",
    "    x_min = min(x)\n",
    "    x_max = max(x)\n",
    "    y_min = min(y)\n",
    "    y_max = max(y)\n",
    "    xx = list(zip(x, y))\n",
    "    kde = KernelDensity(kernel='gaussian', bandwidth=0.1, algorithm='kd_tree').fit(xx)\n",
    "    log_dens = kde.score_samples(xx)\n",
    "    z = np.exp(log_dens).tolist()\n",
    "    max_poi = z.index(max(z))\n",
    "#     print(xx[z.index(max(z))])\n",
    "    max_lon = x[max_poi]\n",
    "    max_lat = y[max_poi]\n",
    "#     fig1 = pl.figure()\n",
    "#     ax1 = fig1.gca()\n",
    "#     ax1.set_xlim(x_min, x_max)\n",
    "#     ax1.set_ylim(y_min, y_max)\n",
    "#     ax1.scatter(x, y, c=z, cmap='Blues')\n",
    "#     ax1.scatter(x[max_poi], y[max_poi],marker='p', c='r')\n",
    "# #     ax1.imshow(np.rot90(z), cmap = 'Blues', extent=[x_min, x_max, y_min, y_max])\n",
    "# #     cset = ax1.contour(x, y, z, colors='k')\n",
    "# #     ax1.clabel(cset, inline = 1, fontsize=10)\n",
    "#     ax1.set_xlabel('lontitude')\n",
    "#     ax1.set_ylabel('latitude')\n",
    "#     filename = typename+' gkde1.jpg'\n",
    "#     pl.savefig(filename)\n",
    "    return max_lon, max_lat"
   ]
  },
  {
   "cell_type": "code",
   "execution_count": 49,
   "metadata": {},
   "outputs": [
    {
     "data": {
      "text/plain": [
       "(119.67116659999999, 30.616666600000002)"
      ]
     },
     "execution_count": 49,
     "metadata": {},
     "output_type": "execute_result"
    }
   ],
   "source": [
    "kernel_density(xy[:,0],xy[:,1],'a')"
   ]
  },
  {
   "cell_type": "code",
   "execution_count": 131,
   "metadata": {},
   "outputs": [
    {
     "data": {
      "text/plain": [
       "{'status': 0,\n",
       " 'result': {'location': {'lng': 115.52883329999992, 'lat': 37.99433334099502},\n",
       "  'formatted_address': '河北省衡水市深州市',\n",
       "  'business': '',\n",
       "  'addressComponent': {'country': '中国',\n",
       "   'country_code': 0,\n",
       "   'country_code_iso': 'CHN',\n",
       "   'country_code_iso2': 'CN',\n",
       "   'province': '河北省',\n",
       "   'city': '衡水市',\n",
       "   'city_level': 2,\n",
       "   'district': '深州市',\n",
       "   'town': '',\n",
       "   'adcode': '131182',\n",
       "   'street': '',\n",
       "   'street_number': '',\n",
       "   'direction': '',\n",
       "   'distance': ''},\n",
       "  'pois': [],\n",
       "  'roads': [],\n",
       "  'poiRegions': [],\n",
       "  'sematic_description': '深州市隆利达挂车有限公司南534米',\n",
       "  'cityCode': 208}}"
      ]
     },
     "execution_count": 131,
     "metadata": {},
     "output_type": "execute_result"
    }
   ],
   "source": [
    "import requests\n",
    "ak = 'a09Yb0opKaB0wcD076UUnevNUBmPQ9MK'\n",
    "# location = '37.994333299999994,115.52883329999997'\n",
    "location = ','.join([str(res_lat),str(res_lng)])\n",
    "item = {'location': location,'ak':ak,'output':'json'}\n",
    "\n",
    "res = requests.get('http://api.map.baidu.com/geocoder/v2/',params=item)\n",
    "res_json = res.json()\n",
    "res_json\n",
    "\n"
   ]
  },
  {
   "cell_type": "code",
   "execution_count": 132,
   "metadata": {},
   "outputs": [
    {
     "data": {
      "text/plain": [
       "('河北省', '衡水市', '深州市', '', '', '', '深州市隆利达挂车有限公司南534米')"
      ]
     },
     "execution_count": 132,
     "metadata": {},
     "output_type": "execute_result"
    }
   ],
   "source": [
    "res_json['result']\n",
    "\n",
    "provnce = res_json['result']['addressComponent']['province']\n",
    "city = res_json['result']['addressComponent']['city']\n",
    "district = res_json['result']['addressComponent']['district']\n",
    "town = res_json['result']['addressComponent']['town']\n",
    "street = res_json['result']['addressComponent']['street']\n",
    "tag = ''\n",
    "if  res_json['result']['poiRegions'] !=[]:\n",
    "    tag = res_json['result']['poiRegions'][0]['tag']\n",
    "address = res_json['result']['sematic_description']\n",
    "\n",
    "provnce,city,district,town,street,tag,address"
   ]
  },
  {
   "cell_type": "code",
   "execution_count": null,
   "metadata": {},
   "outputs": [],
   "source": []
  }
 ],
 "metadata": {
  "kernelspec": {
   "display_name": "Python 3",
   "language": "python",
   "name": "python3"
  },
  "language_info": {
   "codemirror_mode": {
    "name": "ipython",
    "version": 3
   },
   "file_extension": ".py",
   "mimetype": "text/x-python",
   "name": "python",
   "nbconvert_exporter": "python",
   "pygments_lexer": "ipython3",
   "version": "3.6.7"
  }
 },
 "nbformat": 4,
 "nbformat_minor": 2
}
